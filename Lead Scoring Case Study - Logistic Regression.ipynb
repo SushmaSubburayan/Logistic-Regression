{
 "cells": [
  {
   "cell_type": "markdown",
   "metadata": {
    "collapsed": true
   },
   "source": [
    "## Leading Score Case Study\n",
    "\n",
    "With 37 predictor variables, we need to build a model wherein you need to assign a lead score to each of the leads such that the customers with higher lead score have a higher conversion chance and the customers with lower lead score have a lower conversion chance."
   ]
  },
  {
   "cell_type": "markdown",
   "metadata": {},
   "source": [
    "### 1.Reading and understanding data"
   ]
  },
  {
   "cell_type": "code",
   "execution_count": 188,
   "metadata": {},
   "outputs": [],
   "source": [
    "# Supress Warnings\n",
    "\n",
    "import warnings\n",
    "warnings.filterwarnings('ignore')"
   ]
  },
  {
   "cell_type": "code",
   "execution_count": 189,
   "metadata": {},
   "outputs": [],
   "source": [
    "# Importing Pandas and NumPy\n",
    "import pandas as pd\n",
    "import numpy as np\n",
    "import matplotlib.pyplot as plt\n",
    "import seaborn as sns"
   ]
  },
  {
   "cell_type": "code",
   "execution_count": 190,
   "metadata": {},
   "outputs": [],
   "source": [
    "# Reading Leads data set\n",
    "leads = pd.read_csv(\"D:/Sushma/Data Science/Machine Learning/Lead Scoring Case Study/Lead Scoring Assignment/Leads.csv\")\n"
   ]
  },
  {
   "cell_type": "code",
   "execution_count": 191,
   "metadata": {},
   "outputs": [
    {
     "data": {
      "text/html": [
       "<div>\n",
       "<style scoped>\n",
       "    .dataframe tbody tr th:only-of-type {\n",
       "        vertical-align: middle;\n",
       "    }\n",
       "\n",
       "    .dataframe tbody tr th {\n",
       "        vertical-align: top;\n",
       "    }\n",
       "\n",
       "    .dataframe thead th {\n",
       "        text-align: right;\n",
       "    }\n",
       "</style>\n",
       "<table border=\"1\" class=\"dataframe\">\n",
       "  <thead>\n",
       "    <tr style=\"text-align: right;\">\n",
       "      <th></th>\n",
       "      <th>Prospect ID</th>\n",
       "      <th>Lead Number</th>\n",
       "      <th>Lead Origin</th>\n",
       "      <th>Lead Source</th>\n",
       "      <th>Do Not Email</th>\n",
       "      <th>Do Not Call</th>\n",
       "      <th>Converted</th>\n",
       "      <th>TotalVisits</th>\n",
       "      <th>Total Time Spent on Website</th>\n",
       "      <th>Page Views Per Visit</th>\n",
       "      <th>...</th>\n",
       "      <th>Get updates on DM Content</th>\n",
       "      <th>Lead Profile</th>\n",
       "      <th>City</th>\n",
       "      <th>Asymmetrique Activity Index</th>\n",
       "      <th>Asymmetrique Profile Index</th>\n",
       "      <th>Asymmetrique Activity Score</th>\n",
       "      <th>Asymmetrique Profile Score</th>\n",
       "      <th>I agree to pay the amount through cheque</th>\n",
       "      <th>A free copy of Mastering The Interview</th>\n",
       "      <th>Last Notable Activity</th>\n",
       "    </tr>\n",
       "  </thead>\n",
       "  <tbody>\n",
       "    <tr>\n",
       "      <th>0</th>\n",
       "      <td>7927b2df-8bba-4d29-b9a2-b6e0beafe620</td>\n",
       "      <td>660737</td>\n",
       "      <td>API</td>\n",
       "      <td>Olark Chat</td>\n",
       "      <td>No</td>\n",
       "      <td>No</td>\n",
       "      <td>0</td>\n",
       "      <td>0.0</td>\n",
       "      <td>0</td>\n",
       "      <td>0.0</td>\n",
       "      <td>...</td>\n",
       "      <td>No</td>\n",
       "      <td>Select</td>\n",
       "      <td>Select</td>\n",
       "      <td>02.Medium</td>\n",
       "      <td>02.Medium</td>\n",
       "      <td>15.0</td>\n",
       "      <td>15.0</td>\n",
       "      <td>No</td>\n",
       "      <td>No</td>\n",
       "      <td>Modified</td>\n",
       "    </tr>\n",
       "    <tr>\n",
       "      <th>1</th>\n",
       "      <td>2a272436-5132-4136-86fa-dcc88c88f482</td>\n",
       "      <td>660728</td>\n",
       "      <td>API</td>\n",
       "      <td>Organic Search</td>\n",
       "      <td>No</td>\n",
       "      <td>No</td>\n",
       "      <td>0</td>\n",
       "      <td>5.0</td>\n",
       "      <td>674</td>\n",
       "      <td>2.5</td>\n",
       "      <td>...</td>\n",
       "      <td>No</td>\n",
       "      <td>Select</td>\n",
       "      <td>Select</td>\n",
       "      <td>02.Medium</td>\n",
       "      <td>02.Medium</td>\n",
       "      <td>15.0</td>\n",
       "      <td>15.0</td>\n",
       "      <td>No</td>\n",
       "      <td>No</td>\n",
       "      <td>Email Opened</td>\n",
       "    </tr>\n",
       "    <tr>\n",
       "      <th>2</th>\n",
       "      <td>8cc8c611-a219-4f35-ad23-fdfd2656bd8a</td>\n",
       "      <td>660727</td>\n",
       "      <td>Landing Page Submission</td>\n",
       "      <td>Direct Traffic</td>\n",
       "      <td>No</td>\n",
       "      <td>No</td>\n",
       "      <td>1</td>\n",
       "      <td>2.0</td>\n",
       "      <td>1532</td>\n",
       "      <td>2.0</td>\n",
       "      <td>...</td>\n",
       "      <td>No</td>\n",
       "      <td>Potential Lead</td>\n",
       "      <td>Mumbai</td>\n",
       "      <td>02.Medium</td>\n",
       "      <td>01.High</td>\n",
       "      <td>14.0</td>\n",
       "      <td>20.0</td>\n",
       "      <td>No</td>\n",
       "      <td>Yes</td>\n",
       "      <td>Email Opened</td>\n",
       "    </tr>\n",
       "    <tr>\n",
       "      <th>3</th>\n",
       "      <td>0cc2df48-7cf4-4e39-9de9-19797f9b38cc</td>\n",
       "      <td>660719</td>\n",
       "      <td>Landing Page Submission</td>\n",
       "      <td>Direct Traffic</td>\n",
       "      <td>No</td>\n",
       "      <td>No</td>\n",
       "      <td>0</td>\n",
       "      <td>1.0</td>\n",
       "      <td>305</td>\n",
       "      <td>1.0</td>\n",
       "      <td>...</td>\n",
       "      <td>No</td>\n",
       "      <td>Select</td>\n",
       "      <td>Mumbai</td>\n",
       "      <td>02.Medium</td>\n",
       "      <td>01.High</td>\n",
       "      <td>13.0</td>\n",
       "      <td>17.0</td>\n",
       "      <td>No</td>\n",
       "      <td>No</td>\n",
       "      <td>Modified</td>\n",
       "    </tr>\n",
       "    <tr>\n",
       "      <th>4</th>\n",
       "      <td>3256f628-e534-4826-9d63-4a8b88782852</td>\n",
       "      <td>660681</td>\n",
       "      <td>Landing Page Submission</td>\n",
       "      <td>Google</td>\n",
       "      <td>No</td>\n",
       "      <td>No</td>\n",
       "      <td>1</td>\n",
       "      <td>2.0</td>\n",
       "      <td>1428</td>\n",
       "      <td>1.0</td>\n",
       "      <td>...</td>\n",
       "      <td>No</td>\n",
       "      <td>Select</td>\n",
       "      <td>Mumbai</td>\n",
       "      <td>02.Medium</td>\n",
       "      <td>01.High</td>\n",
       "      <td>15.0</td>\n",
       "      <td>18.0</td>\n",
       "      <td>No</td>\n",
       "      <td>No</td>\n",
       "      <td>Modified</td>\n",
       "    </tr>\n",
       "  </tbody>\n",
       "</table>\n",
       "<p>5 rows × 37 columns</p>\n",
       "</div>"
      ],
      "text/plain": [
       "                            Prospect ID  Lead Number              Lead Origin  \\\n",
       "0  7927b2df-8bba-4d29-b9a2-b6e0beafe620       660737                      API   \n",
       "1  2a272436-5132-4136-86fa-dcc88c88f482       660728                      API   \n",
       "2  8cc8c611-a219-4f35-ad23-fdfd2656bd8a       660727  Landing Page Submission   \n",
       "3  0cc2df48-7cf4-4e39-9de9-19797f9b38cc       660719  Landing Page Submission   \n",
       "4  3256f628-e534-4826-9d63-4a8b88782852       660681  Landing Page Submission   \n",
       "\n",
       "      Lead Source Do Not Email Do Not Call  Converted  TotalVisits  \\\n",
       "0      Olark Chat           No          No          0          0.0   \n",
       "1  Organic Search           No          No          0          5.0   \n",
       "2  Direct Traffic           No          No          1          2.0   \n",
       "3  Direct Traffic           No          No          0          1.0   \n",
       "4          Google           No          No          1          2.0   \n",
       "\n",
       "   Total Time Spent on Website  Page Views Per Visit          ...           \\\n",
       "0                            0                   0.0          ...            \n",
       "1                          674                   2.5          ...            \n",
       "2                         1532                   2.0          ...            \n",
       "3                          305                   1.0          ...            \n",
       "4                         1428                   1.0          ...            \n",
       "\n",
       "  Get updates on DM Content    Lead Profile    City  \\\n",
       "0                        No          Select  Select   \n",
       "1                        No          Select  Select   \n",
       "2                        No  Potential Lead  Mumbai   \n",
       "3                        No          Select  Mumbai   \n",
       "4                        No          Select  Mumbai   \n",
       "\n",
       "  Asymmetrique Activity Index Asymmetrique Profile Index  \\\n",
       "0                   02.Medium                  02.Medium   \n",
       "1                   02.Medium                  02.Medium   \n",
       "2                   02.Medium                    01.High   \n",
       "3                   02.Medium                    01.High   \n",
       "4                   02.Medium                    01.High   \n",
       "\n",
       "  Asymmetrique Activity Score Asymmetrique Profile Score  \\\n",
       "0                        15.0                       15.0   \n",
       "1                        15.0                       15.0   \n",
       "2                        14.0                       20.0   \n",
       "3                        13.0                       17.0   \n",
       "4                        15.0                       18.0   \n",
       "\n",
       "  I agree to pay the amount through cheque  \\\n",
       "0                                       No   \n",
       "1                                       No   \n",
       "2                                       No   \n",
       "3                                       No   \n",
       "4                                       No   \n",
       "\n",
       "  A free copy of Mastering The Interview Last Notable Activity  \n",
       "0                                     No              Modified  \n",
       "1                                     No          Email Opened  \n",
       "2                                    Yes          Email Opened  \n",
       "3                                     No              Modified  \n",
       "4                                     No              Modified  \n",
       "\n",
       "[5 rows x 37 columns]"
      ]
     },
     "execution_count": 191,
     "metadata": {},
     "output_type": "execute_result"
    }
   ],
   "source": [
    "#Checking the head of leads data set\n",
    "leads.head()"
   ]
  },
  {
   "cell_type": "code",
   "execution_count": 192,
   "metadata": {},
   "outputs": [
    {
     "name": "stdout",
     "output_type": "stream",
     "text": [
      "<class 'pandas.core.frame.DataFrame'>\n",
      "RangeIndex: 9240 entries, 0 to 9239\n",
      "Data columns (total 37 columns):\n",
      "Prospect ID                                      9240 non-null object\n",
      "Lead Number                                      9240 non-null int64\n",
      "Lead Origin                                      9240 non-null object\n",
      "Lead Source                                      9204 non-null object\n",
      "Do Not Email                                     9240 non-null object\n",
      "Do Not Call                                      9240 non-null object\n",
      "Converted                                        9240 non-null int64\n",
      "TotalVisits                                      9103 non-null float64\n",
      "Total Time Spent on Website                      9240 non-null int64\n",
      "Page Views Per Visit                             9103 non-null float64\n",
      "Last Activity                                    9137 non-null object\n",
      "Country                                          6779 non-null object\n",
      "Specialization                                   7802 non-null object\n",
      "How did you hear about X Education               7033 non-null object\n",
      "What is your current occupation                  6550 non-null object\n",
      "What matters most to you in choosing a course    6531 non-null object\n",
      "Search                                           9240 non-null object\n",
      "Magazine                                         9240 non-null object\n",
      "Newspaper Article                                9240 non-null object\n",
      "X Education Forums                               9240 non-null object\n",
      "Newspaper                                        9240 non-null object\n",
      "Digital Advertisement                            9240 non-null object\n",
      "Through Recommendations                          9240 non-null object\n",
      "Receive More Updates About Our Courses           9240 non-null object\n",
      "Tags                                             5887 non-null object\n",
      "Lead Quality                                     4473 non-null object\n",
      "Update me on Supply Chain Content                9240 non-null object\n",
      "Get updates on DM Content                        9240 non-null object\n",
      "Lead Profile                                     6531 non-null object\n",
      "City                                             7820 non-null object\n",
      "Asymmetrique Activity Index                      5022 non-null object\n",
      "Asymmetrique Profile Index                       5022 non-null object\n",
      "Asymmetrique Activity Score                      5022 non-null float64\n",
      "Asymmetrique Profile Score                       5022 non-null float64\n",
      "I agree to pay the amount through cheque         9240 non-null object\n",
      "A free copy of Mastering The Interview           9240 non-null object\n",
      "Last Notable Activity                            9240 non-null object\n",
      "dtypes: float64(4), int64(3), object(30)\n",
      "memory usage: 2.6+ MB\n"
     ]
    }
   ],
   "source": [
    "leads.info()"
   ]
  },
  {
   "cell_type": "code",
   "execution_count": 193,
   "metadata": {},
   "outputs": [
    {
     "data": {
      "text/plain": [
       "(9240, 37)"
      ]
     },
     "execution_count": 193,
     "metadata": {},
     "output_type": "execute_result"
    }
   ],
   "source": [
    "#Checking the shape of leads data set\n",
    "leads.shape"
   ]
  },
  {
   "cell_type": "code",
   "execution_count": 194,
   "metadata": {},
   "outputs": [
    {
     "data": {
      "text/html": [
       "<div>\n",
       "<style scoped>\n",
       "    .dataframe tbody tr th:only-of-type {\n",
       "        vertical-align: middle;\n",
       "    }\n",
       "\n",
       "    .dataframe tbody tr th {\n",
       "        vertical-align: top;\n",
       "    }\n",
       "\n",
       "    .dataframe thead th {\n",
       "        text-align: right;\n",
       "    }\n",
       "</style>\n",
       "<table border=\"1\" class=\"dataframe\">\n",
       "  <thead>\n",
       "    <tr style=\"text-align: right;\">\n",
       "      <th></th>\n",
       "      <th>Lead Number</th>\n",
       "      <th>Converted</th>\n",
       "      <th>TotalVisits</th>\n",
       "      <th>Total Time Spent on Website</th>\n",
       "      <th>Page Views Per Visit</th>\n",
       "      <th>Asymmetrique Activity Score</th>\n",
       "      <th>Asymmetrique Profile Score</th>\n",
       "    </tr>\n",
       "  </thead>\n",
       "  <tbody>\n",
       "    <tr>\n",
       "      <th>count</th>\n",
       "      <td>9240.000000</td>\n",
       "      <td>9240.000000</td>\n",
       "      <td>9103.000000</td>\n",
       "      <td>9240.000000</td>\n",
       "      <td>9103.000000</td>\n",
       "      <td>5022.000000</td>\n",
       "      <td>5022.000000</td>\n",
       "    </tr>\n",
       "    <tr>\n",
       "      <th>mean</th>\n",
       "      <td>617188.435606</td>\n",
       "      <td>0.385390</td>\n",
       "      <td>3.445238</td>\n",
       "      <td>487.698268</td>\n",
       "      <td>2.362820</td>\n",
       "      <td>14.306252</td>\n",
       "      <td>16.344883</td>\n",
       "    </tr>\n",
       "    <tr>\n",
       "      <th>std</th>\n",
       "      <td>23405.995698</td>\n",
       "      <td>0.486714</td>\n",
       "      <td>4.854853</td>\n",
       "      <td>548.021466</td>\n",
       "      <td>2.161418</td>\n",
       "      <td>1.386694</td>\n",
       "      <td>1.811395</td>\n",
       "    </tr>\n",
       "    <tr>\n",
       "      <th>min</th>\n",
       "      <td>579533.000000</td>\n",
       "      <td>0.000000</td>\n",
       "      <td>0.000000</td>\n",
       "      <td>0.000000</td>\n",
       "      <td>0.000000</td>\n",
       "      <td>7.000000</td>\n",
       "      <td>11.000000</td>\n",
       "    </tr>\n",
       "    <tr>\n",
       "      <th>5%</th>\n",
       "      <td>582869.900000</td>\n",
       "      <td>0.000000</td>\n",
       "      <td>0.000000</td>\n",
       "      <td>0.000000</td>\n",
       "      <td>0.000000</td>\n",
       "      <td>12.000000</td>\n",
       "      <td>14.000000</td>\n",
       "    </tr>\n",
       "    <tr>\n",
       "      <th>25%</th>\n",
       "      <td>596484.500000</td>\n",
       "      <td>0.000000</td>\n",
       "      <td>1.000000</td>\n",
       "      <td>12.000000</td>\n",
       "      <td>1.000000</td>\n",
       "      <td>14.000000</td>\n",
       "      <td>15.000000</td>\n",
       "    </tr>\n",
       "    <tr>\n",
       "      <th>50%</th>\n",
       "      <td>615479.000000</td>\n",
       "      <td>0.000000</td>\n",
       "      <td>3.000000</td>\n",
       "      <td>248.000000</td>\n",
       "      <td>2.000000</td>\n",
       "      <td>14.000000</td>\n",
       "      <td>16.000000</td>\n",
       "    </tr>\n",
       "    <tr>\n",
       "      <th>75%</th>\n",
       "      <td>637387.250000</td>\n",
       "      <td>1.000000</td>\n",
       "      <td>5.000000</td>\n",
       "      <td>936.000000</td>\n",
       "      <td>3.000000</td>\n",
       "      <td>15.000000</td>\n",
       "      <td>18.000000</td>\n",
       "    </tr>\n",
       "    <tr>\n",
       "      <th>95%</th>\n",
       "      <td>655404.050000</td>\n",
       "      <td>1.000000</td>\n",
       "      <td>10.000000</td>\n",
       "      <td>1562.000000</td>\n",
       "      <td>6.000000</td>\n",
       "      <td>17.000000</td>\n",
       "      <td>20.000000</td>\n",
       "    </tr>\n",
       "    <tr>\n",
       "      <th>max</th>\n",
       "      <td>660737.000000</td>\n",
       "      <td>1.000000</td>\n",
       "      <td>251.000000</td>\n",
       "      <td>2272.000000</td>\n",
       "      <td>55.000000</td>\n",
       "      <td>18.000000</td>\n",
       "      <td>20.000000</td>\n",
       "    </tr>\n",
       "  </tbody>\n",
       "</table>\n",
       "</div>"
      ],
      "text/plain": [
       "         Lead Number    Converted  TotalVisits  Total Time Spent on Website  \\\n",
       "count    9240.000000  9240.000000  9103.000000                  9240.000000   \n",
       "mean   617188.435606     0.385390     3.445238                   487.698268   \n",
       "std     23405.995698     0.486714     4.854853                   548.021466   \n",
       "min    579533.000000     0.000000     0.000000                     0.000000   \n",
       "5%     582869.900000     0.000000     0.000000                     0.000000   \n",
       "25%    596484.500000     0.000000     1.000000                    12.000000   \n",
       "50%    615479.000000     0.000000     3.000000                   248.000000   \n",
       "75%    637387.250000     1.000000     5.000000                   936.000000   \n",
       "95%    655404.050000     1.000000    10.000000                  1562.000000   \n",
       "max    660737.000000     1.000000   251.000000                  2272.000000   \n",
       "\n",
       "       Page Views Per Visit  Asymmetrique Activity Score  \\\n",
       "count           9103.000000                  5022.000000   \n",
       "mean               2.362820                    14.306252   \n",
       "std                2.161418                     1.386694   \n",
       "min                0.000000                     7.000000   \n",
       "5%                 0.000000                    12.000000   \n",
       "25%                1.000000                    14.000000   \n",
       "50%                2.000000                    14.000000   \n",
       "75%                3.000000                    15.000000   \n",
       "95%                6.000000                    17.000000   \n",
       "max               55.000000                    18.000000   \n",
       "\n",
       "       Asymmetrique Profile Score  \n",
       "count                 5022.000000  \n",
       "mean                    16.344883  \n",
       "std                      1.811395  \n",
       "min                     11.000000  \n",
       "5%                      14.000000  \n",
       "25%                     15.000000  \n",
       "50%                     16.000000  \n",
       "75%                     18.000000  \n",
       "95%                     20.000000  \n",
       "max                     20.000000  "
      ]
     },
     "execution_count": 194,
     "metadata": {},
     "output_type": "execute_result"
    }
   ],
   "source": [
    "#Checking the statistics of numeric features in leads data set\n",
    "leads.describe([.05,.25,.5,.75,.95])"
   ]
  },
  {
   "cell_type": "markdown",
   "metadata": {},
   "source": [
    "### 2. Data Cleaning"
   ]
  },
  {
   "cell_type": "code",
   "execution_count": 195,
   "metadata": {},
   "outputs": [],
   "source": [
    "#Deleting duplicate records from leads data set\n",
    "leads.drop_duplicates(inplace=True)"
   ]
  },
  {
   "cell_type": "code",
   "execution_count": 196,
   "metadata": {},
   "outputs": [],
   "source": [
    "#Replacing 'Select' with null values\n",
    "leads = leads.replace('Select', np.nan)"
   ]
  },
  {
   "cell_type": "code",
   "execution_count": 197,
   "metadata": {},
   "outputs": [
    {
     "data": {
      "text/plain": [
       "Prospect ID                                         0\n",
       "Lead Number                                         0\n",
       "Lead Origin                                         0\n",
       "Lead Source                                        36\n",
       "Do Not Email                                        0\n",
       "Do Not Call                                         0\n",
       "Converted                                           0\n",
       "TotalVisits                                       137\n",
       "Total Time Spent on Website                         0\n",
       "Page Views Per Visit                              137\n",
       "Last Activity                                     103\n",
       "Country                                          2461\n",
       "Specialization                                   3380\n",
       "How did you hear about X Education               7250\n",
       "What is your current occupation                  2690\n",
       "What matters most to you in choosing a course    2709\n",
       "Search                                              0\n",
       "Magazine                                            0\n",
       "Newspaper Article                                   0\n",
       "X Education Forums                                  0\n",
       "Newspaper                                           0\n",
       "Digital Advertisement                               0\n",
       "Through Recommendations                             0\n",
       "Receive More Updates About Our Courses              0\n",
       "Tags                                             3353\n",
       "Lead Quality                                     4767\n",
       "Update me on Supply Chain Content                   0\n",
       "Get updates on DM Content                           0\n",
       "Lead Profile                                     6855\n",
       "City                                             3669\n",
       "Asymmetrique Activity Index                      4218\n",
       "Asymmetrique Profile Index                       4218\n",
       "Asymmetrique Activity Score                      4218\n",
       "Asymmetrique Profile Score                       4218\n",
       "I agree to pay the amount through cheque            0\n",
       "A free copy of Mastering The Interview              0\n",
       "Last Notable Activity                               0\n",
       "dtype: int64"
      ]
     },
     "execution_count": 197,
     "metadata": {},
     "output_type": "execute_result"
    }
   ],
   "source": [
    "# Checking for null values in the columns\n",
    "leads.isnull().sum()"
   ]
  },
  {
   "cell_type": "code",
   "execution_count": 198,
   "metadata": {},
   "outputs": [
    {
     "data": {
      "text/plain": [
       "Prospect ID                                       0.00\n",
       "Lead Number                                       0.00\n",
       "Lead Origin                                       0.00\n",
       "Lead Source                                       0.39\n",
       "Do Not Email                                      0.00\n",
       "Do Not Call                                       0.00\n",
       "Converted                                         0.00\n",
       "TotalVisits                                       1.48\n",
       "Total Time Spent on Website                       0.00\n",
       "Page Views Per Visit                              1.48\n",
       "Last Activity                                     1.11\n",
       "Country                                          26.63\n",
       "Specialization                                   36.58\n",
       "How did you hear about X Education               78.46\n",
       "What is your current occupation                  29.11\n",
       "What matters most to you in choosing a course    29.32\n",
       "Search                                            0.00\n",
       "Magazine                                          0.00\n",
       "Newspaper Article                                 0.00\n",
       "X Education Forums                                0.00\n",
       "Newspaper                                         0.00\n",
       "Digital Advertisement                             0.00\n",
       "Through Recommendations                           0.00\n",
       "Receive More Updates About Our Courses            0.00\n",
       "Tags                                             36.29\n",
       "Lead Quality                                     51.59\n",
       "Update me on Supply Chain Content                 0.00\n",
       "Get updates on DM Content                         0.00\n",
       "Lead Profile                                     74.19\n",
       "City                                             39.71\n",
       "Asymmetrique Activity Index                      45.65\n",
       "Asymmetrique Profile Index                       45.65\n",
       "Asymmetrique Activity Score                      45.65\n",
       "Asymmetrique Profile Score                       45.65\n",
       "I agree to pay the amount through cheque          0.00\n",
       "A free copy of Mastering The Interview            0.00\n",
       "Last Notable Activity                             0.00\n",
       "dtype: float64"
      ]
     },
     "execution_count": 198,
     "metadata": {},
     "output_type": "execute_result"
    }
   ],
   "source": [
    "# Checking the column-wise null percentages here\n",
    "\n",
    "round(100*(leads.isnull().sum()/len(leads.index)),2)"
   ]
  },
  {
   "cell_type": "code",
   "execution_count": 199,
   "metadata": {},
   "outputs": [],
   "source": [
    "#Dropping the columns which have more than or equal to 30% of null values\n",
    "thresh = len(leads) * .7\n",
    "leads.dropna(thresh = thresh, axis = 1, inplace = True)"
   ]
  },
  {
   "cell_type": "code",
   "execution_count": 200,
   "metadata": {},
   "outputs": [
    {
     "data": {
      "text/plain": [
       "Prospect ID                                       0.00\n",
       "Lead Number                                       0.00\n",
       "Lead Origin                                       0.00\n",
       "Lead Source                                       0.39\n",
       "Do Not Email                                      0.00\n",
       "Do Not Call                                       0.00\n",
       "Converted                                         0.00\n",
       "TotalVisits                                       1.48\n",
       "Total Time Spent on Website                       0.00\n",
       "Page Views Per Visit                              1.48\n",
       "Last Activity                                     1.11\n",
       "Country                                          26.63\n",
       "What is your current occupation                  29.11\n",
       "What matters most to you in choosing a course    29.32\n",
       "Search                                            0.00\n",
       "Magazine                                          0.00\n",
       "Newspaper Article                                 0.00\n",
       "X Education Forums                                0.00\n",
       "Newspaper                                         0.00\n",
       "Digital Advertisement                             0.00\n",
       "Through Recommendations                           0.00\n",
       "Receive More Updates About Our Courses            0.00\n",
       "Update me on Supply Chain Content                 0.00\n",
       "Get updates on DM Content                         0.00\n",
       "I agree to pay the amount through cheque          0.00\n",
       "A free copy of Mastering The Interview            0.00\n",
       "Last Notable Activity                             0.00\n",
       "dtype: float64"
      ]
     },
     "execution_count": 200,
     "metadata": {},
     "output_type": "execute_result"
    }
   ],
   "source": [
    "# Checking the column-wise null percentages here\n",
    "round(100*(leads.isnull().sum()/len(leads.index)),2)"
   ]
  },
  {
   "cell_type": "code",
   "execution_count": 201,
   "metadata": {},
   "outputs": [],
   "source": [
    "#Dropping the columns which have only one value as it will not be useful for analysis or model building\n",
    "leads = leads.drop('Magazine',axis=1)\n",
    "leads = leads.drop('Receive More Updates About Our Courses',axis=1)\n",
    "leads = leads.drop('Update me on Supply Chain Content',axis=1)\n",
    "leads = leads.drop('Get updates on DM Content',axis=1)\n",
    "leads = leads.drop('I agree to pay the amount through cheque',axis=1)"
   ]
  },
  {
   "cell_type": "code",
   "execution_count": 202,
   "metadata": {},
   "outputs": [
    {
     "data": {
      "text/plain": [
       "Prospect ID                                       0.00\n",
       "Lead Number                                       0.00\n",
       "Lead Origin                                       0.00\n",
       "Lead Source                                       0.39\n",
       "Do Not Email                                      0.00\n",
       "Do Not Call                                       0.00\n",
       "Converted                                         0.00\n",
       "TotalVisits                                       1.48\n",
       "Total Time Spent on Website                       0.00\n",
       "Page Views Per Visit                              1.48\n",
       "Last Activity                                     1.11\n",
       "Country                                          26.63\n",
       "What is your current occupation                  29.11\n",
       "What matters most to you in choosing a course    29.32\n",
       "Search                                            0.00\n",
       "Newspaper Article                                 0.00\n",
       "X Education Forums                                0.00\n",
       "Newspaper                                         0.00\n",
       "Digital Advertisement                             0.00\n",
       "Through Recommendations                           0.00\n",
       "A free copy of Mastering The Interview            0.00\n",
       "Last Notable Activity                             0.00\n",
       "dtype: float64"
      ]
     },
     "execution_count": 202,
     "metadata": {},
     "output_type": "execute_result"
    }
   ],
   "source": [
    "# Checking the column-wise null percentages\n",
    "round(100*(leads.isnull().sum()/len(leads.index)),2)"
   ]
  },
  {
   "cell_type": "code",
   "execution_count": 203,
   "metadata": {},
   "outputs": [
    {
     "data": {
      "text/plain": [
       "Prospect ID                                       0.00\n",
       "Lead Number                                       0.00\n",
       "Lead Origin                                       0.00\n",
       "Lead Source                                       0.39\n",
       "Do Not Email                                      0.00\n",
       "Do Not Call                                       0.00\n",
       "Converted                                         0.00\n",
       "TotalVisits                                       1.48\n",
       "Total Time Spent on Website                       0.00\n",
       "Page Views Per Visit                              1.48\n",
       "Last Activity                                     1.11\n",
       "Country                                          26.63\n",
       "What is your current occupation                  29.11\n",
       "What matters most to you in choosing a course    29.32\n",
       "Search                                            0.00\n",
       "Newspaper Article                                 0.00\n",
       "X Education Forums                                0.00\n",
       "Newspaper                                         0.00\n",
       "Digital Advertisement                             0.00\n",
       "Through Recommendations                           0.00\n",
       "A free copy of Mastering The Interview            0.00\n",
       "Last Notable Activity                             0.00\n",
       "dtype: float64"
      ]
     },
     "execution_count": 203,
     "metadata": {},
     "output_type": "execute_result"
    }
   ],
   "source": [
    "# Checking the column-wise null percentages\n",
    "round(100*(leads.isnull().sum()/len(leads.index)),2)"
   ]
  },
  {
   "cell_type": "code",
   "execution_count": 204,
   "metadata": {},
   "outputs": [
    {
     "data": {
      "text/plain": [
       "Landing Page Submission    4886\n",
       "API                        3580\n",
       "Lead Add Form               718\n",
       "Lead Import                  55\n",
       "Quick Add Form                1\n",
       "Name: Lead Origin, dtype: int64"
      ]
     },
     "execution_count": 204,
     "metadata": {},
     "output_type": "execute_result"
    }
   ],
   "source": [
    "#Checking count of records for each value in the column\n",
    "leads['Lead Origin'].value_counts()"
   ]
  },
  {
   "cell_type": "code",
   "execution_count": 205,
   "metadata": {},
   "outputs": [
    {
     "data": {
      "text/plain": [
       "Google               2868\n",
       "Direct Traffic       2543\n",
       "Olark Chat           1755\n",
       "Organic Search       1154\n",
       "Reference             534\n",
       "Welingak Website      142\n",
       "Referral Sites        125\n",
       "Facebook               55\n",
       "bing                    6\n",
       "google                  5\n",
       "Click2call              4\n",
       "Press_Release           2\n",
       "Social Media            2\n",
       "Live Chat               2\n",
       "Pay per Click Ads       1\n",
       "testone                 1\n",
       "NC_EDM                  1\n",
       "WeLearn                 1\n",
       "welearnblog_Home        1\n",
       "youtubechannel          1\n",
       "blog                    1\n",
       "Name: Lead Source, dtype: int64"
      ]
     },
     "execution_count": 205,
     "metadata": {},
     "output_type": "execute_result"
    }
   ],
   "source": [
    "#Checking count of records for each value in the column\n",
    "leads['Lead Source'].value_counts()"
   ]
  },
  {
   "cell_type": "code",
   "execution_count": 206,
   "metadata": {},
   "outputs": [
    {
     "data": {
      "text/plain": [
       "No     8506\n",
       "Yes     734\n",
       "Name: Do Not Email, dtype: int64"
      ]
     },
     "execution_count": 206,
     "metadata": {},
     "output_type": "execute_result"
    }
   ],
   "source": [
    "#Checking count of records for each value in the column\n",
    "leads['Do Not Email'].value_counts()"
   ]
  },
  {
   "cell_type": "code",
   "execution_count": 207,
   "metadata": {},
   "outputs": [
    {
     "data": {
      "text/plain": [
       "No     9238\n",
       "Yes       2\n",
       "Name: Do Not Call, dtype: int64"
      ]
     },
     "execution_count": 207,
     "metadata": {},
     "output_type": "execute_result"
    }
   ],
   "source": [
    "#Checking count of records for each value in the column\n",
    "leads['Do Not Call'].value_counts()"
   ]
  },
  {
   "cell_type": "code",
   "execution_count": 208,
   "metadata": {},
   "outputs": [
    {
     "data": {
      "text/plain": [
       "0    5679\n",
       "1    3561\n",
       "Name: Converted, dtype: int64"
      ]
     },
     "execution_count": 208,
     "metadata": {},
     "output_type": "execute_result"
    }
   ],
   "source": [
    "#Checking count of records for each value in the column\n",
    "leads['Converted'].value_counts()"
   ]
  },
  {
   "cell_type": "code",
   "execution_count": 209,
   "metadata": {},
   "outputs": [
    {
     "data": {
      "text/plain": [
       "0.0      2189\n",
       "2.0      1680\n",
       "3.0      1306\n",
       "4.0      1120\n",
       "5.0       783\n",
       "6.0       466\n",
       "1.0       395\n",
       "7.0       309\n",
       "8.0       224\n",
       "9.0       164\n",
       "10.0      114\n",
       "11.0       86\n",
       "13.0       48\n",
       "12.0       45\n",
       "14.0       36\n",
       "16.0       21\n",
       "15.0       18\n",
       "17.0       16\n",
       "18.0       15\n",
       "20.0       12\n",
       "19.0        9\n",
       "23.0        6\n",
       "21.0        6\n",
       "27.0        5\n",
       "24.0        5\n",
       "25.0        5\n",
       "22.0        3\n",
       "28.0        2\n",
       "29.0        2\n",
       "26.0        2\n",
       "251.0       1\n",
       "74.0        1\n",
       "30.0        1\n",
       "141.0       1\n",
       "54.0        1\n",
       "41.0        1\n",
       "115.0       1\n",
       "43.0        1\n",
       "42.0        1\n",
       "32.0        1\n",
       "55.0        1\n",
       "Name: TotalVisits, dtype: int64"
      ]
     },
     "execution_count": 209,
     "metadata": {},
     "output_type": "execute_result"
    }
   ],
   "source": [
    "#Checking count of records for each value in the column\n",
    "leads['TotalVisits'].value_counts()"
   ]
  },
  {
   "cell_type": "code",
   "execution_count": 210,
   "metadata": {},
   "outputs": [
    {
     "data": {
      "text/plain": [
       "0       2193\n",
       "60        19\n",
       "127       18\n",
       "75        18\n",
       "74        18\n",
       "157       17\n",
       "234       17\n",
       "32        17\n",
       "87        17\n",
       "62        17\n",
       "69        16\n",
       "213       16\n",
       "96        16\n",
       "176       15\n",
       "68        15\n",
       "94        15\n",
       "71        15\n",
       "247       15\n",
       "129       15\n",
       "33        15\n",
       "12        15\n",
       "31        14\n",
       "100       14\n",
       "78        14\n",
       "49        14\n",
       "151       14\n",
       "139       14\n",
       "14        14\n",
       "63        14\n",
       "2         14\n",
       "        ... \n",
       "659        1\n",
       "611        1\n",
       "1675       1\n",
       "603        1\n",
       "587        1\n",
       "571        1\n",
       "523        1\n",
       "483        1\n",
       "435        1\n",
       "2226       1\n",
       "915        1\n",
       "923        1\n",
       "939        1\n",
       "971        1\n",
       "1667       1\n",
       "1555       1\n",
       "1547       1\n",
       "1515       1\n",
       "1443       1\n",
       "1355       1\n",
       "1339       1\n",
       "1307       1\n",
       "1299       1\n",
       "1267       1\n",
       "1251       1\n",
       "1235       1\n",
       "1091       1\n",
       "1043       1\n",
       "1035       1\n",
       "1915       1\n",
       "Name: Total Time Spent on Website, Length: 1731, dtype: int64"
      ]
     },
     "execution_count": 210,
     "metadata": {},
     "output_type": "execute_result"
    }
   ],
   "source": [
    "#Checking count of records for each value in the column\n",
    "leads['Total Time Spent on Website'].value_counts()"
   ]
  },
  {
   "cell_type": "code",
   "execution_count": 211,
   "metadata": {},
   "outputs": [
    {
     "data": {
      "text/plain": [
       "0.00     2189\n",
       "2.00     1795\n",
       "3.00     1196\n",
       "4.00      896\n",
       "1.00      651\n",
       "5.00      517\n",
       "1.50      306\n",
       "6.00      244\n",
       "2.50      241\n",
       "7.00      133\n",
       "3.50       94\n",
       "8.00       86\n",
       "1.33       66\n",
       "1.67       60\n",
       "2.33       59\n",
       "2.67       54\n",
       "9.00       45\n",
       "4.50       43\n",
       "1.75       28\n",
       "3.33       27\n",
       "10.00      25\n",
       "1.25       23\n",
       "5.50       21\n",
       "2.25       19\n",
       "11.00      18\n",
       "3.67       16\n",
       "6.50       13\n",
       "1.80       13\n",
       "2.75       12\n",
       "1.40       11\n",
       "         ... \n",
       "1.19        1\n",
       "3.91        1\n",
       "55.00       1\n",
       "3.17        1\n",
       "2.57        1\n",
       "12.33       1\n",
       "2.08        1\n",
       "3.38        1\n",
       "2.90        1\n",
       "1.48        1\n",
       "2.38        1\n",
       "14.50       1\n",
       "11.50       1\n",
       "8.50        1\n",
       "1.45        1\n",
       "1.31        1\n",
       "3.43        1\n",
       "3.83        1\n",
       "1.54        1\n",
       "2.86        1\n",
       "1.64        1\n",
       "3.29        1\n",
       "8.33        1\n",
       "6.67        1\n",
       "1.21        1\n",
       "1.27        1\n",
       "8.21        1\n",
       "2.14        1\n",
       "2.63        1\n",
       "2.45        1\n",
       "Name: Page Views Per Visit, Length: 114, dtype: int64"
      ]
     },
     "execution_count": 211,
     "metadata": {},
     "output_type": "execute_result"
    }
   ],
   "source": [
    "#Checking count of records for each value in the column\n",
    "leads['Page Views Per Visit'].value_counts()"
   ]
  },
  {
   "cell_type": "code",
   "execution_count": 212,
   "metadata": {},
   "outputs": [
    {
     "data": {
      "text/plain": [
       "Email Opened                    3437\n",
       "SMS Sent                        2745\n",
       "Olark Chat Conversation          973\n",
       "Page Visited on Website          640\n",
       "Converted to Lead                428\n",
       "Email Bounced                    326\n",
       "Email Link Clicked               267\n",
       "Form Submitted on Website        116\n",
       "Unreachable                       93\n",
       "Unsubscribed                      61\n",
       "Had a Phone Conversation          30\n",
       "Approached upfront                 9\n",
       "View in browser link Clicked       6\n",
       "Email Received                     2\n",
       "Email Marked Spam                  2\n",
       "Resubscribed to emails             1\n",
       "Visited Booth in Tradeshow         1\n",
       "Name: Last Activity, dtype: int64"
      ]
     },
     "execution_count": 212,
     "metadata": {},
     "output_type": "execute_result"
    }
   ],
   "source": [
    "#Checking count of records for each value in the column\n",
    "leads['Last Activity'].value_counts()"
   ]
  },
  {
   "cell_type": "code",
   "execution_count": 213,
   "metadata": {},
   "outputs": [
    {
     "data": {
      "text/plain": [
       "India                   6492\n",
       "United States             69\n",
       "United Arab Emirates      53\n",
       "Singapore                 24\n",
       "Saudi Arabia              21\n",
       "United Kingdom            15\n",
       "Australia                 13\n",
       "Qatar                     10\n",
       "Bahrain                    7\n",
       "Hong Kong                  7\n",
       "Oman                       6\n",
       "France                     6\n",
       "unknown                    5\n",
       "South Africa               4\n",
       "Germany                    4\n",
       "Nigeria                    4\n",
       "Kuwait                     4\n",
       "Canada                     4\n",
       "Sweden                     3\n",
       "Asia/Pacific Region        2\n",
       "China                      2\n",
       "Bangladesh                 2\n",
       "Philippines                2\n",
       "Italy                      2\n",
       "Netherlands                2\n",
       "Ghana                      2\n",
       "Uganda                     2\n",
       "Belgium                    2\n",
       "Malaysia                   1\n",
       "Kenya                      1\n",
       "Tanzania                   1\n",
       "Liberia                    1\n",
       "Switzerland                1\n",
       "Sri Lanka                  1\n",
       "Russia                     1\n",
       "Indonesia                  1\n",
       "Denmark                    1\n",
       "Vietnam                    1\n",
       "Name: Country, dtype: int64"
      ]
     },
     "execution_count": 213,
     "metadata": {},
     "output_type": "execute_result"
    }
   ],
   "source": [
    "#Checking count of records for each value in the column\n",
    "leads['Country'].value_counts()"
   ]
  },
  {
   "cell_type": "code",
   "execution_count": 214,
   "metadata": {},
   "outputs": [
    {
     "data": {
      "text/plain": [
       "96.89"
      ]
     },
     "execution_count": 214,
     "metadata": {},
     "output_type": "execute_result"
    }
   ],
   "source": [
    "#Checking the percentage of null values and India in Country column\n",
    "round(100*(len((leads[leads['Country'] == 'India'])|(leads[leads['Country'].isnull()==True]))/len(leads.index)),2)"
   ]
  },
  {
   "cell_type": "code",
   "execution_count": 215,
   "metadata": {},
   "outputs": [],
   "source": [
    "#We cannot find much variance in the values,as more than 70% of the values are 'India' and 26% of the values are null.\n",
    "#So,dropping the 'Country' column\n",
    "leads = leads.drop('Country',axis=1) "
   ]
  },
  {
   "cell_type": "code",
   "execution_count": 216,
   "metadata": {},
   "outputs": [
    {
     "data": {
      "text/plain": [
       "Unemployed              5600\n",
       "Working Professional     706\n",
       "Student                  210\n",
       "Other                     16\n",
       "Housewife                 10\n",
       "Businessman                8\n",
       "Name: What is your current occupation, dtype: int64"
      ]
     },
     "execution_count": 216,
     "metadata": {},
     "output_type": "execute_result"
    }
   ],
   "source": [
    "#Checking count of records for each value in the column\n",
    "leads['What is your current occupation'].value_counts()"
   ]
  },
  {
   "cell_type": "code",
   "execution_count": 217,
   "metadata": {},
   "outputs": [],
   "source": [
    "#More than 29% of values are null.\n",
    "#So,dropping the 'What is your current occupation' column\n",
    "leads = leads.drop('What is your current occupation',axis=1) "
   ]
  },
  {
   "cell_type": "code",
   "execution_count": 218,
   "metadata": {},
   "outputs": [
    {
     "data": {
      "text/plain": [
       "Better Career Prospects      6528\n",
       "Flexibility & Convenience       2\n",
       "Other                           1\n",
       "Name: What matters most to you in choosing a course, dtype: int64"
      ]
     },
     "execution_count": 218,
     "metadata": {},
     "output_type": "execute_result"
    }
   ],
   "source": [
    "#Checking count of records for each value in the column\n",
    "leads['What matters most to you in choosing a course'].value_counts()"
   ]
  },
  {
   "cell_type": "code",
   "execution_count": 219,
   "metadata": {},
   "outputs": [
    {
     "data": {
      "text/plain": [
       "99.97"
      ]
     },
     "execution_count": 219,
     "metadata": {},
     "output_type": "execute_result"
    }
   ],
   "source": [
    "#Checking the percentage of null values and 'Better Career Prospects' in 'What matters most to you in choosing a course' column\n",
    "round(100*(len((leads[leads['What matters most to you in choosing a course'] == 'Better Career Prospects'])|(leads[leads['What matters most to you in choosing a course'].isnull()==True]))/len(leads.index)),2)"
   ]
  },
  {
   "cell_type": "code",
   "execution_count": 220,
   "metadata": {},
   "outputs": [],
   "source": [
    "#We cannot find much variance in the values,as more than 70% of the values are 'Better Career Prospects' and around 29% of values are null.\n",
    "#So,dropping the 'What matters most to you in choosing a course' column\n",
    "leads = leads.drop('What matters most to you in choosing a course',axis=1) "
   ]
  },
  {
   "cell_type": "code",
   "execution_count": 221,
   "metadata": {},
   "outputs": [
    {
     "data": {
      "text/plain": [
       "No     9226\n",
       "Yes      14\n",
       "Name: Search, dtype: int64"
      ]
     },
     "execution_count": 221,
     "metadata": {},
     "output_type": "execute_result"
    }
   ],
   "source": [
    "#Checking count of records for each value in the column\n",
    "leads['Search'].value_counts()"
   ]
  },
  {
   "cell_type": "code",
   "execution_count": 222,
   "metadata": {},
   "outputs": [
    {
     "data": {
      "text/plain": [
       "No     9238\n",
       "Yes       2\n",
       "Name: Newspaper Article, dtype: int64"
      ]
     },
     "execution_count": 222,
     "metadata": {},
     "output_type": "execute_result"
    }
   ],
   "source": [
    "#Checking count of records for each value in the column\n",
    "leads['Newspaper Article'].value_counts()"
   ]
  },
  {
   "cell_type": "code",
   "execution_count": 223,
   "metadata": {},
   "outputs": [
    {
     "data": {
      "text/plain": [
       "No     9239\n",
       "Yes       1\n",
       "Name: X Education Forums, dtype: int64"
      ]
     },
     "execution_count": 223,
     "metadata": {},
     "output_type": "execute_result"
    }
   ],
   "source": [
    "#Checking count of records for each value in the column\n",
    "leads['X Education Forums'].value_counts()"
   ]
  },
  {
   "cell_type": "code",
   "execution_count": 224,
   "metadata": {},
   "outputs": [
    {
     "data": {
      "text/plain": [
       "No     9236\n",
       "Yes       4\n",
       "Name: Digital Advertisement, dtype: int64"
      ]
     },
     "execution_count": 224,
     "metadata": {},
     "output_type": "execute_result"
    }
   ],
   "source": [
    "#Checking count of records for each value in the column\n",
    "leads['Digital Advertisement'].value_counts()"
   ]
  },
  {
   "cell_type": "code",
   "execution_count": 225,
   "metadata": {},
   "outputs": [
    {
     "data": {
      "text/plain": [
       "No     9233\n",
       "Yes       7\n",
       "Name: Through Recommendations, dtype: int64"
      ]
     },
     "execution_count": 225,
     "metadata": {},
     "output_type": "execute_result"
    }
   ],
   "source": [
    "#Checking count of records for each value in the column\n",
    "leads['Through Recommendations'].value_counts()"
   ]
  },
  {
   "cell_type": "code",
   "execution_count": 226,
   "metadata": {},
   "outputs": [
    {
     "data": {
      "text/plain": [
       "No     6352\n",
       "Yes    2888\n",
       "Name: A free copy of Mastering The Interview, dtype: int64"
      ]
     },
     "execution_count": 226,
     "metadata": {},
     "output_type": "execute_result"
    }
   ],
   "source": [
    "#Checking count of records for each value in the column\n",
    "leads['A free copy of Mastering The Interview'].value_counts()"
   ]
  },
  {
   "cell_type": "code",
   "execution_count": 227,
   "metadata": {},
   "outputs": [
    {
     "data": {
      "text/plain": [
       "Modified                        3407\n",
       "Email Opened                    2827\n",
       "SMS Sent                        2172\n",
       "Page Visited on Website          318\n",
       "Olark Chat Conversation          183\n",
       "Email Link Clicked               173\n",
       "Email Bounced                     60\n",
       "Unsubscribed                      47\n",
       "Unreachable                       32\n",
       "Had a Phone Conversation          14\n",
       "Email Marked Spam                  2\n",
       "Email Received                     1\n",
       "Approached upfront                 1\n",
       "Resubscribed to emails             1\n",
       "Form Submitted on Website          1\n",
       "View in browser link Clicked       1\n",
       "Name: Last Notable Activity, dtype: int64"
      ]
     },
     "execution_count": 227,
     "metadata": {},
     "output_type": "execute_result"
    }
   ],
   "source": [
    "#Checking count of records for each value in the column\n",
    "leads['Last Notable Activity'].value_counts()"
   ]
  },
  {
   "cell_type": "code",
   "execution_count": 228,
   "metadata": {},
   "outputs": [
    {
     "data": {
      "text/plain": [
       "Prospect ID                               0.00\n",
       "Lead Number                               0.00\n",
       "Lead Origin                               0.00\n",
       "Lead Source                               0.39\n",
       "Do Not Email                              0.00\n",
       "Do Not Call                               0.00\n",
       "Converted                                 0.00\n",
       "TotalVisits                               1.48\n",
       "Total Time Spent on Website               0.00\n",
       "Page Views Per Visit                      1.48\n",
       "Last Activity                             1.11\n",
       "Search                                    0.00\n",
       "Newspaper Article                         0.00\n",
       "X Education Forums                        0.00\n",
       "Newspaper                                 0.00\n",
       "Digital Advertisement                     0.00\n",
       "Through Recommendations                   0.00\n",
       "A free copy of Mastering The Interview    0.00\n",
       "Last Notable Activity                     0.00\n",
       "dtype: float64"
      ]
     },
     "execution_count": 228,
     "metadata": {},
     "output_type": "execute_result"
    }
   ],
   "source": [
    "# Checking the column-wise null percentages\n",
    "round(100*(leads.isnull().sum()/len(leads.index)),2)"
   ]
  },
  {
   "cell_type": "code",
   "execution_count": 229,
   "metadata": {},
   "outputs": [
    {
     "name": "stdout",
     "output_type": "stream",
     "text": [
      "<class 'pandas.core.frame.DataFrame'>\n",
      "Int64Index: 9240 entries, 0 to 9239\n",
      "Data columns (total 19 columns):\n",
      "Prospect ID                               9240 non-null object\n",
      "Lead Number                               9240 non-null int64\n",
      "Lead Origin                               9240 non-null object\n",
      "Lead Source                               9204 non-null object\n",
      "Do Not Email                              9240 non-null object\n",
      "Do Not Call                               9240 non-null object\n",
      "Converted                                 9240 non-null int64\n",
      "TotalVisits                               9103 non-null float64\n",
      "Total Time Spent on Website               9240 non-null int64\n",
      "Page Views Per Visit                      9103 non-null float64\n",
      "Last Activity                             9137 non-null object\n",
      "Search                                    9240 non-null object\n",
      "Newspaper Article                         9240 non-null object\n",
      "X Education Forums                        9240 non-null object\n",
      "Newspaper                                 9240 non-null object\n",
      "Digital Advertisement                     9240 non-null object\n",
      "Through Recommendations                   9240 non-null object\n",
      "A free copy of Mastering The Interview    9240 non-null object\n",
      "Last Notable Activity                     9240 non-null object\n",
      "dtypes: float64(2), int64(3), object(14)\n",
      "memory usage: 1.4+ MB\n"
     ]
    }
   ],
   "source": [
    "leads.info()"
   ]
  },
  {
   "cell_type": "code",
   "execution_count": 230,
   "metadata": {},
   "outputs": [],
   "source": [
    "#Deleting the rows which have null values in TotalVisits and Lead Source columns\n",
    "leads.dropna(axis=0, subset=['TotalVisits'],inplace=True)"
   ]
  },
  {
   "cell_type": "code",
   "execution_count": 231,
   "metadata": {},
   "outputs": [
    {
     "data": {
      "text/plain": [
       "Prospect ID                               0.00\n",
       "Lead Number                               0.00\n",
       "Lead Origin                               0.00\n",
       "Lead Source                               0.32\n",
       "Do Not Email                              0.00\n",
       "Do Not Call                               0.00\n",
       "Converted                                 0.00\n",
       "TotalVisits                               0.00\n",
       "Total Time Spent on Website               0.00\n",
       "Page Views Per Visit                      0.00\n",
       "Last Activity                             0.00\n",
       "Search                                    0.00\n",
       "Newspaper Article                         0.00\n",
       "X Education Forums                        0.00\n",
       "Newspaper                                 0.00\n",
       "Digital Advertisement                     0.00\n",
       "Through Recommendations                   0.00\n",
       "A free copy of Mastering The Interview    0.00\n",
       "Last Notable Activity                     0.00\n",
       "dtype: float64"
      ]
     },
     "execution_count": 231,
     "metadata": {},
     "output_type": "execute_result"
    }
   ],
   "source": [
    "# Checking the column-wise null percentages\n",
    "round(100*(leads.isnull().sum()/len(leads.index)),2)"
   ]
  },
  {
   "cell_type": "code",
   "execution_count": 232,
   "metadata": {},
   "outputs": [
    {
     "name": "stdout",
     "output_type": "stream",
     "text": [
      "<class 'pandas.core.frame.DataFrame'>\n",
      "Int64Index: 9103 entries, 0 to 9239\n",
      "Data columns (total 19 columns):\n",
      "Prospect ID                               9103 non-null object\n",
      "Lead Number                               9103 non-null int64\n",
      "Lead Origin                               9103 non-null object\n",
      "Lead Source                               9074 non-null object\n",
      "Do Not Email                              9103 non-null object\n",
      "Do Not Call                               9103 non-null object\n",
      "Converted                                 9103 non-null int64\n",
      "TotalVisits                               9103 non-null float64\n",
      "Total Time Spent on Website               9103 non-null int64\n",
      "Page Views Per Visit                      9103 non-null float64\n",
      "Last Activity                             9103 non-null object\n",
      "Search                                    9103 non-null object\n",
      "Newspaper Article                         9103 non-null object\n",
      "X Education Forums                        9103 non-null object\n",
      "Newspaper                                 9103 non-null object\n",
      "Digital Advertisement                     9103 non-null object\n",
      "Through Recommendations                   9103 non-null object\n",
      "A free copy of Mastering The Interview    9103 non-null object\n",
      "Last Notable Activity                     9103 non-null object\n",
      "dtypes: float64(2), int64(3), object(14)\n",
      "memory usage: 1.4+ MB\n"
     ]
    }
   ],
   "source": [
    "leads.info()"
   ]
  },
  {
   "cell_type": "code",
   "execution_count": 233,
   "metadata": {},
   "outputs": [],
   "source": [
    "#Dropping the records with null values in 'Lead Source' column\n",
    "leads = leads.dropna(axis=0, subset=['Lead Source'])"
   ]
  },
  {
   "cell_type": "code",
   "execution_count": 234,
   "metadata": {},
   "outputs": [
    {
     "data": {
      "text/plain": [
       "Prospect ID                               0.0\n",
       "Lead Number                               0.0\n",
       "Lead Origin                               0.0\n",
       "Lead Source                               0.0\n",
       "Do Not Email                              0.0\n",
       "Do Not Call                               0.0\n",
       "Converted                                 0.0\n",
       "TotalVisits                               0.0\n",
       "Total Time Spent on Website               0.0\n",
       "Page Views Per Visit                      0.0\n",
       "Last Activity                             0.0\n",
       "Search                                    0.0\n",
       "Newspaper Article                         0.0\n",
       "X Education Forums                        0.0\n",
       "Newspaper                                 0.0\n",
       "Digital Advertisement                     0.0\n",
       "Through Recommendations                   0.0\n",
       "A free copy of Mastering The Interview    0.0\n",
       "Last Notable Activity                     0.0\n",
       "dtype: float64"
      ]
     },
     "execution_count": 234,
     "metadata": {},
     "output_type": "execute_result"
    }
   ],
   "source": [
    "# Checking the column-wise null percentages\n",
    "round(100*(leads.isnull().sum()/len(leads.index)),2)"
   ]
  },
  {
   "cell_type": "code",
   "execution_count": 235,
   "metadata": {},
   "outputs": [
    {
     "name": "stdout",
     "output_type": "stream",
     "text": [
      "<class 'pandas.core.frame.DataFrame'>\n",
      "Int64Index: 9074 entries, 0 to 9239\n",
      "Data columns (total 19 columns):\n",
      "Prospect ID                               9074 non-null object\n",
      "Lead Number                               9074 non-null int64\n",
      "Lead Origin                               9074 non-null object\n",
      "Lead Source                               9074 non-null object\n",
      "Do Not Email                              9074 non-null object\n",
      "Do Not Call                               9074 non-null object\n",
      "Converted                                 9074 non-null int64\n",
      "TotalVisits                               9074 non-null float64\n",
      "Total Time Spent on Website               9074 non-null int64\n",
      "Page Views Per Visit                      9074 non-null float64\n",
      "Last Activity                             9074 non-null object\n",
      "Search                                    9074 non-null object\n",
      "Newspaper Article                         9074 non-null object\n",
      "X Education Forums                        9074 non-null object\n",
      "Newspaper                                 9074 non-null object\n",
      "Digital Advertisement                     9074 non-null object\n",
      "Through Recommendations                   9074 non-null object\n",
      "A free copy of Mastering The Interview    9074 non-null object\n",
      "Last Notable Activity                     9074 non-null object\n",
      "dtypes: float64(2), int64(3), object(14)\n",
      "memory usage: 1.4+ MB\n"
     ]
    }
   ],
   "source": [
    "leads.info()"
   ]
  },
  {
   "cell_type": "code",
   "execution_count": 236,
   "metadata": {},
   "outputs": [
    {
     "data": {
      "text/plain": [
       "Prospect ID                               0.0\n",
       "Lead Number                               0.0\n",
       "Lead Origin                               0.0\n",
       "Lead Source                               0.0\n",
       "Do Not Email                              0.0\n",
       "Do Not Call                               0.0\n",
       "Converted                                 0.0\n",
       "TotalVisits                               0.0\n",
       "Total Time Spent on Website               0.0\n",
       "Page Views Per Visit                      0.0\n",
       "Last Activity                             0.0\n",
       "Search                                    0.0\n",
       "Newspaper Article                         0.0\n",
       "X Education Forums                        0.0\n",
       "Newspaper                                 0.0\n",
       "Digital Advertisement                     0.0\n",
       "Through Recommendations                   0.0\n",
       "A free copy of Mastering The Interview    0.0\n",
       "Last Notable Activity                     0.0\n",
       "dtype: float64"
      ]
     },
     "execution_count": 236,
     "metadata": {},
     "output_type": "execute_result"
    }
   ],
   "source": [
    "# Checking the column-wise null percentages here\n",
    "\n",
    "round(100*(leads.isnull().sum()/len(leads.index)),2)"
   ]
  },
  {
   "cell_type": "markdown",
   "metadata": {},
   "source": [
    "## 3. Visualising the data"
   ]
  },
  {
   "cell_type": "code",
   "execution_count": 237,
   "metadata": {},
   "outputs": [],
   "source": [
    "import matplotlib.pyplot as plt\n",
    "import seaborn as sns"
   ]
  },
  {
   "cell_type": "code",
   "execution_count": 238,
   "metadata": {},
   "outputs": [
    {
     "data": {
      "image/png": "[encoded data removed]",
      "text/plain": [
       "<Figure size 900x900 with 30 Axes>"
      ]
     },
     "metadata": {
      "needs_background": "light"
     },
     "output_type": "display_data"
    }
   ],
   "source": [
    "#Making pair plots of all the numeric variables\n",
    "\n",
    "sns.pairplot(leads)\n",
    "plt.show()"
   ]
  },
  {
   "cell_type": "code",
   "execution_count": 239,
   "metadata": {},
   "outputs": [
    {
     "data": {
      "text/html": [
       "<div>\n",
       "<style scoped>\n",
       "    .dataframe tbody tr th:only-of-type {\n",
       "        vertical-align: middle;\n",
       "    }\n",
       "\n",
       "    .dataframe tbody tr th {\n",
       "        vertical-align: top;\n",
       "    }\n",
       "\n",
       "    .dataframe thead th {\n",
       "        text-align: right;\n",
       "    }\n",
       "</style>\n",
       "<table border=\"1\" class=\"dataframe\">\n",
       "  <thead>\n",
       "    <tr style=\"text-align: right;\">\n",
       "      <th></th>\n",
       "      <th>Lead Number</th>\n",
       "      <th>Converted</th>\n",
       "      <th>TotalVisits</th>\n",
       "      <th>Total Time Spent on Website</th>\n",
       "      <th>Page Views Per Visit</th>\n",
       "    </tr>\n",
       "  </thead>\n",
       "  <tbody>\n",
       "    <tr>\n",
       "      <th>count</th>\n",
       "      <td>9074.000000</td>\n",
       "      <td>9074.000000</td>\n",
       "      <td>9074.000000</td>\n",
       "      <td>9074.000000</td>\n",
       "      <td>9074.000000</td>\n",
       "    </tr>\n",
       "    <tr>\n",
       "      <th>mean</th>\n",
       "      <td>617032.619352</td>\n",
       "      <td>0.378554</td>\n",
       "      <td>3.456028</td>\n",
       "      <td>482.887481</td>\n",
       "      <td>2.370151</td>\n",
       "    </tr>\n",
       "    <tr>\n",
       "      <th>std</th>\n",
       "      <td>23348.029512</td>\n",
       "      <td>0.485053</td>\n",
       "      <td>4.858802</td>\n",
       "      <td>545.256560</td>\n",
       "      <td>2.160871</td>\n",
       "    </tr>\n",
       "    <tr>\n",
       "      <th>min</th>\n",
       "      <td>579533.000000</td>\n",
       "      <td>0.000000</td>\n",
       "      <td>0.000000</td>\n",
       "      <td>0.000000</td>\n",
       "      <td>0.000000</td>\n",
       "    </tr>\n",
       "    <tr>\n",
       "      <th>5%</th>\n",
       "      <td>582840.800000</td>\n",
       "      <td>0.000000</td>\n",
       "      <td>0.000000</td>\n",
       "      <td>0.000000</td>\n",
       "      <td>0.000000</td>\n",
       "    </tr>\n",
       "    <tr>\n",
       "      <th>25%</th>\n",
       "      <td>596406.000000</td>\n",
       "      <td>0.000000</td>\n",
       "      <td>1.000000</td>\n",
       "      <td>11.000000</td>\n",
       "      <td>1.000000</td>\n",
       "    </tr>\n",
       "    <tr>\n",
       "      <th>50%</th>\n",
       "      <td>615278.500000</td>\n",
       "      <td>0.000000</td>\n",
       "      <td>3.000000</td>\n",
       "      <td>246.000000</td>\n",
       "      <td>2.000000</td>\n",
       "    </tr>\n",
       "    <tr>\n",
       "      <th>75%</th>\n",
       "      <td>637176.500000</td>\n",
       "      <td>1.000000</td>\n",
       "      <td>5.000000</td>\n",
       "      <td>922.750000</td>\n",
       "      <td>3.200000</td>\n",
       "    </tr>\n",
       "    <tr>\n",
       "      <th>95%</th>\n",
       "      <td>655344.450000</td>\n",
       "      <td>1.000000</td>\n",
       "      <td>10.000000</td>\n",
       "      <td>1557.000000</td>\n",
       "      <td>6.000000</td>\n",
       "    </tr>\n",
       "    <tr>\n",
       "      <th>max</th>\n",
       "      <td>660737.000000</td>\n",
       "      <td>1.000000</td>\n",
       "      <td>251.000000</td>\n",
       "      <td>2272.000000</td>\n",
       "      <td>55.000000</td>\n",
       "    </tr>\n",
       "  </tbody>\n",
       "</table>\n",
       "</div>"
      ],
      "text/plain": [
       "         Lead Number    Converted  TotalVisits  Total Time Spent on Website  \\\n",
       "count    9074.000000  9074.000000  9074.000000                  9074.000000   \n",
       "mean   617032.619352     0.378554     3.456028                   482.887481   \n",
       "std     23348.029512     0.485053     4.858802                   545.256560   \n",
       "min    579533.000000     0.000000     0.000000                     0.000000   \n",
       "5%     582840.800000     0.000000     0.000000                     0.000000   \n",
       "25%    596406.000000     0.000000     1.000000                    11.000000   \n",
       "50%    615278.500000     0.000000     3.000000                   246.000000   \n",
       "75%    637176.500000     1.000000     5.000000                   922.750000   \n",
       "95%    655344.450000     1.000000    10.000000                  1557.000000   \n",
       "max    660737.000000     1.000000   251.000000                  2272.000000   \n",
       "\n",
       "       Page Views Per Visit  \n",
       "count           9074.000000  \n",
       "mean               2.370151  \n",
       "std                2.160871  \n",
       "min                0.000000  \n",
       "5%                 0.000000  \n",
       "25%                1.000000  \n",
       "50%                2.000000  \n",
       "75%                3.200000  \n",
       "95%                6.000000  \n",
       "max               55.000000  "
      ]
     },
     "execution_count": 239,
     "metadata": {},
     "output_type": "execute_result"
    }
   ],
   "source": [
    "#Checking the statistics of the numeric features in leads data set\n",
    "leads.describe([.05,.25,.5,.75,.95])"
   ]
  },
  {
   "cell_type": "code",
   "execution_count": 240,
   "metadata": {},
   "outputs": [
    {
     "data": {
      "image/png": "[encoded data removed]",
      "text/plain": [
       "<Figure size 576x576 with 4 Axes>"
      ]
     },
     "metadata": {
      "needs_background": "light"
     },
     "output_type": "display_data"
    }
   ],
   "source": [
    "#Plotting box plots for the numeric features to check for the outliers\n",
    "plt.figure(figsize=(8, 8))\n",
    "plt.subplot(2,3,1)\n",
    "sns.boxplot(x=leads['Page Views Per Visit'])\n",
    "plt.subplot(2,3,2)\n",
    "sns.boxplot(x=leads['Converted'])\n",
    "plt.subplot(2,3,3)\n",
    "sns.boxplot(x=leads['TotalVisits'])\n",
    "plt.subplot(2,3,4)\n",
    "sns.boxplot(x=leads['Total Time Spent on Website'])\n",
    "\n",
    "plt.show()"
   ]
  },
  {
   "cell_type": "code",
   "execution_count": 241,
   "metadata": {},
   "outputs": [],
   "source": [
    "# Importing matplotlib and seaborn\n",
    "import matplotlib.pyplot as plt\n",
    "import seaborn as sns\n",
    "%matplotlib inline"
   ]
  },
  {
   "cell_type": "code",
   "execution_count": 242,
   "metadata": {},
   "outputs": [
    {
     "data": {
      "image/png": "[encoded data removed]",
      "text/plain": [
       "<Figure size 1440x720 with 2 Axes>"
      ]
     },
     "metadata": {
      "needs_background": "light"
     },
     "output_type": "display_data"
    }
   ],
   "source": [
    "# Checking the correlations between variables in leads data set\n",
    "plt.figure(figsize = (20,10))        # Size of the figure\n",
    "sns.heatmap(leads.corr(),annot = True)\n",
    "plt.show()"
   ]
  },
  {
   "cell_type": "markdown",
   "metadata": {},
   "source": [
    "## 4. Data Preparation"
   ]
  },
  {
   "cell_type": "code",
   "execution_count": 243,
   "metadata": {},
   "outputs": [],
   "source": [
    "# Converting Yes to 1 and No to 0\n",
    "leads['Do Not Email'] = leads['Search'].map({'Yes': 1, 'No': 0})\n",
    "leads['Do Not Call'] = leads['Search'].map({'Yes': 1, 'No': 0})\n",
    "leads['Search'] = leads['Search'].map({'Yes': 1, 'No': 0})\n",
    "leads['Newspaper Article'] = leads['Newspaper Article'].map({'Yes': 1, 'No': 0})\n",
    "leads['X Education Forums'] = leads['X Education Forums'].map({'Yes': 1, 'No': 0})\n",
    "leads['Newspaper'] = leads['Newspaper'].map({'Yes': 1, 'No': 0})\n",
    "leads['Digital Advertisement'] = leads['Digital Advertisement'].map({'Yes': 1, 'No': 0})\n",
    "leads['Through Recommendations'] = leads['Through Recommendations'].map({'Yes': 1, 'No': 0})\n",
    "leads['A free copy of Mastering The Interview'] = leads['A free copy of Mastering The Interview'].map({'Yes': 1, 'No': 0})"
   ]
  },
  {
   "cell_type": "markdown",
   "metadata": {},
   "source": [
    "### Creating dummy variables for categorical variables"
   ]
  },
  {
   "cell_type": "code",
   "execution_count": 244,
   "metadata": {},
   "outputs": [],
   "source": [
    "# Creating a dummy variable for the variable 'Lead Origin' and dropping the first one.\n",
    "lead_origin = pd.get_dummies(leads['Lead Origin'],prefix='Lead Origin',drop_first=True)\n",
    "lead_source = pd.get_dummies(leads['Lead Source'],prefix='Lead Source',drop_first=True)\n",
    "last_acticvity = pd.get_dummies(leads['Last Activity'],prefix='Last Activity',drop_first=True)\n",
    "last_notable_acticvity = pd.get_dummies(leads['Last Notable Activity'],prefix='Last Notable Activity',drop_first=True)\n"
   ]
  },
  {
   "cell_type": "code",
   "execution_count": 245,
   "metadata": {},
   "outputs": [],
   "source": [
    "#Concatenating the dummy varaibles to the leads data set\n",
    "leads = pd.concat([leads,lead_origin,lead_source,last_acticvity,last_notable_acticvity],axis=1)"
   ]
  },
  {
   "cell_type": "code",
   "execution_count": 246,
   "metadata": {},
   "outputs": [
    {
     "data": {
      "text/html": [
       "<div>\n",
       "<style scoped>\n",
       "    .dataframe tbody tr th:only-of-type {\n",
       "        vertical-align: middle;\n",
       "    }\n",
       "\n",
       "    .dataframe tbody tr th {\n",
       "        vertical-align: top;\n",
       "    }\n",
       "\n",
       "    .dataframe thead th {\n",
       "        text-align: right;\n",
       "    }\n",
       "</style>\n",
       "<table border=\"1\" class=\"dataframe\">\n",
       "  <thead>\n",
       "    <tr style=\"text-align: right;\">\n",
       "      <th></th>\n",
       "      <th>Prospect ID</th>\n",
       "      <th>Lead Number</th>\n",
       "      <th>Lead Origin</th>\n",
       "      <th>Lead Source</th>\n",
       "      <th>Do Not Email</th>\n",
       "      <th>Do Not Call</th>\n",
       "      <th>Converted</th>\n",
       "      <th>TotalVisits</th>\n",
       "      <th>Total Time Spent on Website</th>\n",
       "      <th>Page Views Per Visit</th>\n",
       "      <th>...</th>\n",
       "      <th>Last Notable Activity_Form Submitted on Website</th>\n",
       "      <th>Last Notable Activity_Had a Phone Conversation</th>\n",
       "      <th>Last Notable Activity_Modified</th>\n",
       "      <th>Last Notable Activity_Olark Chat Conversation</th>\n",
       "      <th>Last Notable Activity_Page Visited on Website</th>\n",
       "      <th>Last Notable Activity_Resubscribed to emails</th>\n",
       "      <th>Last Notable Activity_SMS Sent</th>\n",
       "      <th>Last Notable Activity_Unreachable</th>\n",
       "      <th>Last Notable Activity_Unsubscribed</th>\n",
       "      <th>Last Notable Activity_View in browser link Clicked</th>\n",
       "    </tr>\n",
       "  </thead>\n",
       "  <tbody>\n",
       "    <tr>\n",
       "      <th>0</th>\n",
       "      <td>7927b2df-8bba-4d29-b9a2-b6e0beafe620</td>\n",
       "      <td>660737</td>\n",
       "      <td>API</td>\n",
       "      <td>Olark Chat</td>\n",
       "      <td>0</td>\n",
       "      <td>0</td>\n",
       "      <td>0</td>\n",
       "      <td>0.0</td>\n",
       "      <td>0</td>\n",
       "      <td>0.0</td>\n",
       "      <td>...</td>\n",
       "      <td>0</td>\n",
       "      <td>0</td>\n",
       "      <td>1</td>\n",
       "      <td>0</td>\n",
       "      <td>0</td>\n",
       "      <td>0</td>\n",
       "      <td>0</td>\n",
       "      <td>0</td>\n",
       "      <td>0</td>\n",
       "      <td>0</td>\n",
       "    </tr>\n",
       "    <tr>\n",
       "      <th>1</th>\n",
       "      <td>2a272436-5132-4136-86fa-dcc88c88f482</td>\n",
       "      <td>660728</td>\n",
       "      <td>API</td>\n",
       "      <td>Organic Search</td>\n",
       "      <td>0</td>\n",
       "      <td>0</td>\n",
       "      <td>0</td>\n",
       "      <td>5.0</td>\n",
       "      <td>674</td>\n",
       "      <td>2.5</td>\n",
       "      <td>...</td>\n",
       "      <td>0</td>\n",
       "      <td>0</td>\n",
       "      <td>0</td>\n",
       "      <td>0</td>\n",
       "      <td>0</td>\n",
       "      <td>0</td>\n",
       "      <td>0</td>\n",
       "      <td>0</td>\n",
       "      <td>0</td>\n",
       "      <td>0</td>\n",
       "    </tr>\n",
       "    <tr>\n",
       "      <th>2</th>\n",
       "      <td>8cc8c611-a219-4f35-ad23-fdfd2656bd8a</td>\n",
       "      <td>660727</td>\n",
       "      <td>Landing Page Submission</td>\n",
       "      <td>Direct Traffic</td>\n",
       "      <td>0</td>\n",
       "      <td>0</td>\n",
       "      <td>1</td>\n",
       "      <td>2.0</td>\n",
       "      <td>1532</td>\n",
       "      <td>2.0</td>\n",
       "      <td>...</td>\n",
       "      <td>0</td>\n",
       "      <td>0</td>\n",
       "      <td>0</td>\n",
       "      <td>0</td>\n",
       "      <td>0</td>\n",
       "      <td>0</td>\n",
       "      <td>0</td>\n",
       "      <td>0</td>\n",
       "      <td>0</td>\n",
       "      <td>0</td>\n",
       "    </tr>\n",
       "    <tr>\n",
       "      <th>3</th>\n",
       "      <td>0cc2df48-7cf4-4e39-9de9-19797f9b38cc</td>\n",
       "      <td>660719</td>\n",
       "      <td>Landing Page Submission</td>\n",
       "      <td>Direct Traffic</td>\n",
       "      <td>0</td>\n",
       "      <td>0</td>\n",
       "      <td>0</td>\n",
       "      <td>1.0</td>\n",
       "      <td>305</td>\n",
       "      <td>1.0</td>\n",
       "      <td>...</td>\n",
       "      <td>0</td>\n",
       "      <td>0</td>\n",
       "      <td>1</td>\n",
       "      <td>0</td>\n",
       "      <td>0</td>\n",
       "      <td>0</td>\n",
       "      <td>0</td>\n",
       "      <td>0</td>\n",
       "      <td>0</td>\n",
       "      <td>0</td>\n",
       "    </tr>\n",
       "    <tr>\n",
       "      <th>4</th>\n",
       "      <td>3256f628-e534-4826-9d63-4a8b88782852</td>\n",
       "      <td>660681</td>\n",
       "      <td>Landing Page Submission</td>\n",
       "      <td>Google</td>\n",
       "      <td>0</td>\n",
       "      <td>0</td>\n",
       "      <td>1</td>\n",
       "      <td>2.0</td>\n",
       "      <td>1428</td>\n",
       "      <td>1.0</td>\n",
       "      <td>...</td>\n",
       "      <td>0</td>\n",
       "      <td>0</td>\n",
       "      <td>1</td>\n",
       "      <td>0</td>\n",
       "      <td>0</td>\n",
       "      <td>0</td>\n",
       "      <td>0</td>\n",
       "      <td>0</td>\n",
       "      <td>0</td>\n",
       "      <td>0</td>\n",
       "    </tr>\n",
       "  </tbody>\n",
       "</table>\n",
       "<p>5 rows × 73 columns</p>\n",
       "</div>"
      ],
      "text/plain": [
       "                            Prospect ID  Lead Number              Lead Origin  \\\n",
       "0  7927b2df-8bba-4d29-b9a2-b6e0beafe620       660737                      API   \n",
       "1  2a272436-5132-4136-86fa-dcc88c88f482       660728                      API   \n",
       "2  8cc8c611-a219-4f35-ad23-fdfd2656bd8a       660727  Landing Page Submission   \n",
       "3  0cc2df48-7cf4-4e39-9de9-19797f9b38cc       660719  Landing Page Submission   \n",
       "4  3256f628-e534-4826-9d63-4a8b88782852       660681  Landing Page Submission   \n",
       "\n",
       "      Lead Source  Do Not Email  Do Not Call  Converted  TotalVisits  \\\n",
       "0      Olark Chat             0            0          0          0.0   \n",
       "1  Organic Search             0            0          0          5.0   \n",
       "2  Direct Traffic             0            0          1          2.0   \n",
       "3  Direct Traffic             0            0          0          1.0   \n",
       "4          Google             0            0          1          2.0   \n",
       "\n",
       "   Total Time Spent on Website  Page Views Per Visit  \\\n",
       "0                            0                   0.0   \n",
       "1                          674                   2.5   \n",
       "2                         1532                   2.0   \n",
       "3                          305                   1.0   \n",
       "4                         1428                   1.0   \n",
       "\n",
       "                          ...                          \\\n",
       "0                         ...                           \n",
       "1                         ...                           \n",
       "2                         ...                           \n",
       "3                         ...                           \n",
       "4                         ...                           \n",
       "\n",
       "  Last Notable Activity_Form Submitted on Website  \\\n",
       "0                                               0   \n",
       "1                                               0   \n",
       "2                                               0   \n",
       "3                                               0   \n",
       "4                                               0   \n",
       "\n",
       "   Last Notable Activity_Had a Phone Conversation  \\\n",
       "0                                               0   \n",
       "1                                               0   \n",
       "2                                               0   \n",
       "3                                               0   \n",
       "4                                               0   \n",
       "\n",
       "   Last Notable Activity_Modified  \\\n",
       "0                               1   \n",
       "1                               0   \n",
       "2                               0   \n",
       "3                               1   \n",
       "4                               1   \n",
       "\n",
       "   Last Notable Activity_Olark Chat Conversation  \\\n",
       "0                                              0   \n",
       "1                                              0   \n",
       "2                                              0   \n",
       "3                                              0   \n",
       "4                                              0   \n",
       "\n",
       "   Last Notable Activity_Page Visited on Website  \\\n",
       "0                                              0   \n",
       "1                                              0   \n",
       "2                                              0   \n",
       "3                                              0   \n",
       "4                                              0   \n",
       "\n",
       "   Last Notable Activity_Resubscribed to emails  \\\n",
       "0                                             0   \n",
       "1                                             0   \n",
       "2                                             0   \n",
       "3                                             0   \n",
       "4                                             0   \n",
       "\n",
       "   Last Notable Activity_SMS Sent  Last Notable Activity_Unreachable  \\\n",
       "0                               0                                  0   \n",
       "1                               0                                  0   \n",
       "2                               0                                  0   \n",
       "3                               0                                  0   \n",
       "4                               0                                  0   \n",
       "\n",
       "  Last Notable Activity_Unsubscribed  \\\n",
       "0                                  0   \n",
       "1                                  0   \n",
       "2                                  0   \n",
       "3                                  0   \n",
       "4                                  0   \n",
       "\n",
       "   Last Notable Activity_View in browser link Clicked  \n",
       "0                                                  0   \n",
       "1                                                  0   \n",
       "2                                                  0   \n",
       "3                                                  0   \n",
       "4                                                  0   \n",
       "\n",
       "[5 rows x 73 columns]"
      ]
     },
     "execution_count": 246,
     "metadata": {},
     "output_type": "execute_result"
    }
   ],
   "source": [
    "#Checking the head of leads data set\n",
    "leads.head()"
   ]
  },
  {
   "cell_type": "code",
   "execution_count": 247,
   "metadata": {},
   "outputs": [],
   "source": [
    "# Dropping the variables for which we have created dummies\n",
    "leads = leads.drop(['Lead Origin','Lead Source','Last Activity','Last Notable Activity'], 1)"
   ]
  },
  {
   "cell_type": "code",
   "execution_count": 248,
   "metadata": {},
   "outputs": [],
   "source": [
    "# Dropping the Lead Number as they will not be useful for analysis\n",
    "leads = leads.drop(['Lead Number'], 1)"
   ]
  },
  {
   "cell_type": "code",
   "execution_count": 249,
   "metadata": {},
   "outputs": [
    {
     "name": "stdout",
     "output_type": "stream",
     "text": [
      "<class 'pandas.core.frame.DataFrame'>\n",
      "Int64Index: 9074 entries, 0 to 9239\n",
      "Data columns (total 68 columns):\n",
      "Prospect ID                                           9074 non-null object\n",
      "Do Not Email                                          9074 non-null int64\n",
      "Do Not Call                                           9074 non-null int64\n",
      "Converted                                             9074 non-null int64\n",
      "TotalVisits                                           9074 non-null float64\n",
      "Total Time Spent on Website                           9074 non-null int64\n",
      "Page Views Per Visit                                  9074 non-null float64\n",
      "Search                                                9074 non-null int64\n",
      "Newspaper Article                                     9074 non-null int64\n",
      "X Education Forums                                    9074 non-null int64\n",
      "Newspaper                                             9074 non-null int64\n",
      "Digital Advertisement                                 9074 non-null int64\n",
      "Through Recommendations                               9074 non-null int64\n",
      "A free copy of Mastering The Interview                9074 non-null int64\n",
      "Lead Origin_Landing Page Submission                   9074 non-null uint8\n",
      "Lead Origin_Lead Add Form                             9074 non-null uint8\n",
      "Lead Origin_Lead Import                               9074 non-null uint8\n",
      "Lead Source_Direct Traffic                            9074 non-null uint8\n",
      "Lead Source_Facebook                                  9074 non-null uint8\n",
      "Lead Source_Google                                    9074 non-null uint8\n",
      "Lead Source_Live Chat                                 9074 non-null uint8\n",
      "Lead Source_NC_EDM                                    9074 non-null uint8\n",
      "Lead Source_Olark Chat                                9074 non-null uint8\n",
      "Lead Source_Organic Search                            9074 non-null uint8\n",
      "Lead Source_Pay per Click Ads                         9074 non-null uint8\n",
      "Lead Source_Press_Release                             9074 non-null uint8\n",
      "Lead Source_Reference                                 9074 non-null uint8\n",
      "Lead Source_Referral Sites                            9074 non-null uint8\n",
      "Lead Source_Social Media                              9074 non-null uint8\n",
      "Lead Source_WeLearn                                   9074 non-null uint8\n",
      "Lead Source_Welingak Website                          9074 non-null uint8\n",
      "Lead Source_bing                                      9074 non-null uint8\n",
      "Lead Source_blog                                      9074 non-null uint8\n",
      "Lead Source_google                                    9074 non-null uint8\n",
      "Lead Source_testone                                   9074 non-null uint8\n",
      "Lead Source_welearnblog_Home                          9074 non-null uint8\n",
      "Lead Source_youtubechannel                            9074 non-null uint8\n",
      "Last Activity_Converted to Lead                       9074 non-null uint8\n",
      "Last Activity_Email Bounced                           9074 non-null uint8\n",
      "Last Activity_Email Link Clicked                      9074 non-null uint8\n",
      "Last Activity_Email Marked Spam                       9074 non-null uint8\n",
      "Last Activity_Email Opened                            9074 non-null uint8\n",
      "Last Activity_Email Received                          9074 non-null uint8\n",
      "Last Activity_Form Submitted on Website               9074 non-null uint8\n",
      "Last Activity_Had a Phone Conversation                9074 non-null uint8\n",
      "Last Activity_Olark Chat Conversation                 9074 non-null uint8\n",
      "Last Activity_Page Visited on Website                 9074 non-null uint8\n",
      "Last Activity_Resubscribed to emails                  9074 non-null uint8\n",
      "Last Activity_SMS Sent                                9074 non-null uint8\n",
      "Last Activity_Unreachable                             9074 non-null uint8\n",
      "Last Activity_Unsubscribed                            9074 non-null uint8\n",
      "Last Activity_View in browser link Clicked            9074 non-null uint8\n",
      "Last Activity_Visited Booth in Tradeshow              9074 non-null uint8\n",
      "Last Notable Activity_Email Bounced                   9074 non-null uint8\n",
      "Last Notable Activity_Email Link Clicked              9074 non-null uint8\n",
      "Last Notable Activity_Email Marked Spam               9074 non-null uint8\n",
      "Last Notable Activity_Email Opened                    9074 non-null uint8\n",
      "Last Notable Activity_Email Received                  9074 non-null uint8\n",
      "Last Notable Activity_Form Submitted on Website       9074 non-null uint8\n",
      "Last Notable Activity_Had a Phone Conversation        9074 non-null uint8\n",
      "Last Notable Activity_Modified                        9074 non-null uint8\n",
      "Last Notable Activity_Olark Chat Conversation         9074 non-null uint8\n",
      "Last Notable Activity_Page Visited on Website         9074 non-null uint8\n",
      "Last Notable Activity_Resubscribed to emails          9074 non-null uint8\n",
      "Last Notable Activity_SMS Sent                        9074 non-null uint8\n",
      "Last Notable Activity_Unreachable                     9074 non-null uint8\n",
      "Last Notable Activity_Unsubscribed                    9074 non-null uint8\n",
      "Last Notable Activity_View in browser link Clicked    9074 non-null uint8\n",
      "dtypes: float64(2), int64(11), object(1), uint8(54)\n",
      "memory usage: 1.8+ MB\n"
     ]
    }
   ],
   "source": [
    "leads.info()"
   ]
  },
  {
   "cell_type": "markdown",
   "metadata": {},
   "source": [
    "## 5.Test - Train Split"
   ]
  },
  {
   "cell_type": "code",
   "execution_count": 250,
   "metadata": {},
   "outputs": [],
   "source": [
    "from sklearn.model_selection import train_test_split"
   ]
  },
  {
   "cell_type": "code",
   "execution_count": 251,
   "metadata": {},
   "outputs": [],
   "source": [
    "# Removing the outliers\n",
    "Q1 = leads['TotalVisits'].quantile(0.00)\n",
    "Q3 = leads['TotalVisits'].quantile(0.95)\n",
    "leads_no_outliers = leads.loc[(leads['TotalVisits'] <=Q3)]"
   ]
  },
  {
   "cell_type": "code",
   "execution_count": 252,
   "metadata": {},
   "outputs": [
    {
     "data": {
      "text/html": [
       "<div>\n",
       "<style scoped>\n",
       "    .dataframe tbody tr th:only-of-type {\n",
       "        vertical-align: middle;\n",
       "    }\n",
       "\n",
       "    .dataframe tbody tr th {\n",
       "        vertical-align: top;\n",
       "    }\n",
       "\n",
       "    .dataframe thead th {\n",
       "        text-align: right;\n",
       "    }\n",
       "</style>\n",
       "<table border=\"1\" class=\"dataframe\">\n",
       "  <thead>\n",
       "    <tr style=\"text-align: right;\">\n",
       "      <th></th>\n",
       "      <th>Do Not Email</th>\n",
       "      <th>Do Not Call</th>\n",
       "      <th>Converted</th>\n",
       "      <th>TotalVisits</th>\n",
       "      <th>Total Time Spent on Website</th>\n",
       "      <th>Page Views Per Visit</th>\n",
       "      <th>Search</th>\n",
       "      <th>Newspaper Article</th>\n",
       "      <th>X Education Forums</th>\n",
       "      <th>Newspaper</th>\n",
       "      <th>...</th>\n",
       "      <th>Last Notable Activity_Form Submitted on Website</th>\n",
       "      <th>Last Notable Activity_Had a Phone Conversation</th>\n",
       "      <th>Last Notable Activity_Modified</th>\n",
       "      <th>Last Notable Activity_Olark Chat Conversation</th>\n",
       "      <th>Last Notable Activity_Page Visited on Website</th>\n",
       "      <th>Last Notable Activity_Resubscribed to emails</th>\n",
       "      <th>Last Notable Activity_SMS Sent</th>\n",
       "      <th>Last Notable Activity_Unreachable</th>\n",
       "      <th>Last Notable Activity_Unsubscribed</th>\n",
       "      <th>Last Notable Activity_View in browser link Clicked</th>\n",
       "    </tr>\n",
       "  </thead>\n",
       "  <tbody>\n",
       "    <tr>\n",
       "      <th>count</th>\n",
       "      <td>8721.000000</td>\n",
       "      <td>8721.000000</td>\n",
       "      <td>8721.000000</td>\n",
       "      <td>8721.000000</td>\n",
       "      <td>8721.000000</td>\n",
       "      <td>8721.000000</td>\n",
       "      <td>8721.000000</td>\n",
       "      <td>8721.000000</td>\n",
       "      <td>8721.0</td>\n",
       "      <td>8721.000000</td>\n",
       "      <td>...</td>\n",
       "      <td>8721.000000</td>\n",
       "      <td>8721.000000</td>\n",
       "      <td>8721.000000</td>\n",
       "      <td>8721.000000</td>\n",
       "      <td>8721.000000</td>\n",
       "      <td>8721.000000</td>\n",
       "      <td>8721.000000</td>\n",
       "      <td>8721.000000</td>\n",
       "      <td>8721.000000</td>\n",
       "      <td>8721.000000</td>\n",
       "    </tr>\n",
       "    <tr>\n",
       "      <th>mean</th>\n",
       "      <td>0.000917</td>\n",
       "      <td>0.000917</td>\n",
       "      <td>0.374957</td>\n",
       "      <td>2.916294</td>\n",
       "      <td>473.146887</td>\n",
       "      <td>2.255668</td>\n",
       "      <td>0.000917</td>\n",
       "      <td>0.000115</td>\n",
       "      <td>0.0</td>\n",
       "      <td>0.000115</td>\n",
       "      <td>...</td>\n",
       "      <td>0.000115</td>\n",
       "      <td>0.001261</td>\n",
       "      <td>0.364522</td>\n",
       "      <td>0.020067</td>\n",
       "      <td>0.028208</td>\n",
       "      <td>0.000115</td>\n",
       "      <td>0.239193</td>\n",
       "      <td>0.003669</td>\n",
       "      <td>0.005045</td>\n",
       "      <td>0.000115</td>\n",
       "    </tr>\n",
       "    <tr>\n",
       "      <th>std</th>\n",
       "      <td>0.030275</td>\n",
       "      <td>0.030275</td>\n",
       "      <td>0.484140</td>\n",
       "      <td>2.468306</td>\n",
       "      <td>542.265343</td>\n",
       "      <td>1.922397</td>\n",
       "      <td>0.030275</td>\n",
       "      <td>0.010708</td>\n",
       "      <td>0.0</td>\n",
       "      <td>0.010708</td>\n",
       "      <td>...</td>\n",
       "      <td>0.010708</td>\n",
       "      <td>0.035495</td>\n",
       "      <td>0.481324</td>\n",
       "      <td>0.140236</td>\n",
       "      <td>0.165575</td>\n",
       "      <td>0.010708</td>\n",
       "      <td>0.426615</td>\n",
       "      <td>0.060467</td>\n",
       "      <td>0.070855</td>\n",
       "      <td>0.010708</td>\n",
       "    </tr>\n",
       "    <tr>\n",
       "      <th>min</th>\n",
       "      <td>0.000000</td>\n",
       "      <td>0.000000</td>\n",
       "      <td>0.000000</td>\n",
       "      <td>0.000000</td>\n",
       "      <td>0.000000</td>\n",
       "      <td>0.000000</td>\n",
       "      <td>0.000000</td>\n",
       "      <td>0.000000</td>\n",
       "      <td>0.0</td>\n",
       "      <td>0.000000</td>\n",
       "      <td>...</td>\n",
       "      <td>0.000000</td>\n",
       "      <td>0.000000</td>\n",
       "      <td>0.000000</td>\n",
       "      <td>0.000000</td>\n",
       "      <td>0.000000</td>\n",
       "      <td>0.000000</td>\n",
       "      <td>0.000000</td>\n",
       "      <td>0.000000</td>\n",
       "      <td>0.000000</td>\n",
       "      <td>0.000000</td>\n",
       "    </tr>\n",
       "    <tr>\n",
       "      <th>5%</th>\n",
       "      <td>0.000000</td>\n",
       "      <td>0.000000</td>\n",
       "      <td>0.000000</td>\n",
       "      <td>0.000000</td>\n",
       "      <td>0.000000</td>\n",
       "      <td>0.000000</td>\n",
       "      <td>0.000000</td>\n",
       "      <td>0.000000</td>\n",
       "      <td>0.0</td>\n",
       "      <td>0.000000</td>\n",
       "      <td>...</td>\n",
       "      <td>0.000000</td>\n",
       "      <td>0.000000</td>\n",
       "      <td>0.000000</td>\n",
       "      <td>0.000000</td>\n",
       "      <td>0.000000</td>\n",
       "      <td>0.000000</td>\n",
       "      <td>0.000000</td>\n",
       "      <td>0.000000</td>\n",
       "      <td>0.000000</td>\n",
       "      <td>0.000000</td>\n",
       "    </tr>\n",
       "    <tr>\n",
       "      <th>25%</th>\n",
       "      <td>0.000000</td>\n",
       "      <td>0.000000</td>\n",
       "      <td>0.000000</td>\n",
       "      <td>1.000000</td>\n",
       "      <td>2.000000</td>\n",
       "      <td>1.000000</td>\n",
       "      <td>0.000000</td>\n",
       "      <td>0.000000</td>\n",
       "      <td>0.0</td>\n",
       "      <td>0.000000</td>\n",
       "      <td>...</td>\n",
       "      <td>0.000000</td>\n",
       "      <td>0.000000</td>\n",
       "      <td>0.000000</td>\n",
       "      <td>0.000000</td>\n",
       "      <td>0.000000</td>\n",
       "      <td>0.000000</td>\n",
       "      <td>0.000000</td>\n",
       "      <td>0.000000</td>\n",
       "      <td>0.000000</td>\n",
       "      <td>0.000000</td>\n",
       "    </tr>\n",
       "    <tr>\n",
       "      <th>50%</th>\n",
       "      <td>0.000000</td>\n",
       "      <td>0.000000</td>\n",
       "      <td>0.000000</td>\n",
       "      <td>3.000000</td>\n",
       "      <td>236.000000</td>\n",
       "      <td>2.000000</td>\n",
       "      <td>0.000000</td>\n",
       "      <td>0.000000</td>\n",
       "      <td>0.0</td>\n",
       "      <td>0.000000</td>\n",
       "      <td>...</td>\n",
       "      <td>0.000000</td>\n",
       "      <td>0.000000</td>\n",
       "      <td>0.000000</td>\n",
       "      <td>0.000000</td>\n",
       "      <td>0.000000</td>\n",
       "      <td>0.000000</td>\n",
       "      <td>0.000000</td>\n",
       "      <td>0.000000</td>\n",
       "      <td>0.000000</td>\n",
       "      <td>0.000000</td>\n",
       "    </tr>\n",
       "    <tr>\n",
       "      <th>75%</th>\n",
       "      <td>0.000000</td>\n",
       "      <td>0.000000</td>\n",
       "      <td>1.000000</td>\n",
       "      <td>4.000000</td>\n",
       "      <td>899.000000</td>\n",
       "      <td>3.000000</td>\n",
       "      <td>0.000000</td>\n",
       "      <td>0.000000</td>\n",
       "      <td>0.0</td>\n",
       "      <td>0.000000</td>\n",
       "      <td>...</td>\n",
       "      <td>0.000000</td>\n",
       "      <td>0.000000</td>\n",
       "      <td>1.000000</td>\n",
       "      <td>0.000000</td>\n",
       "      <td>0.000000</td>\n",
       "      <td>0.000000</td>\n",
       "      <td>0.000000</td>\n",
       "      <td>0.000000</td>\n",
       "      <td>0.000000</td>\n",
       "      <td>0.000000</td>\n",
       "    </tr>\n",
       "    <tr>\n",
       "      <th>95%</th>\n",
       "      <td>0.000000</td>\n",
       "      <td>0.000000</td>\n",
       "      <td>1.000000</td>\n",
       "      <td>8.000000</td>\n",
       "      <td>1551.000000</td>\n",
       "      <td>6.000000</td>\n",
       "      <td>0.000000</td>\n",
       "      <td>0.000000</td>\n",
       "      <td>0.0</td>\n",
       "      <td>0.000000</td>\n",
       "      <td>...</td>\n",
       "      <td>0.000000</td>\n",
       "      <td>0.000000</td>\n",
       "      <td>1.000000</td>\n",
       "      <td>0.000000</td>\n",
       "      <td>0.000000</td>\n",
       "      <td>0.000000</td>\n",
       "      <td>1.000000</td>\n",
       "      <td>0.000000</td>\n",
       "      <td>0.000000</td>\n",
       "      <td>0.000000</td>\n",
       "    </tr>\n",
       "    <tr>\n",
       "      <th>max</th>\n",
       "      <td>1.000000</td>\n",
       "      <td>1.000000</td>\n",
       "      <td>1.000000</td>\n",
       "      <td>10.000000</td>\n",
       "      <td>2272.000000</td>\n",
       "      <td>10.000000</td>\n",
       "      <td>1.000000</td>\n",
       "      <td>1.000000</td>\n",
       "      <td>0.0</td>\n",
       "      <td>1.000000</td>\n",
       "      <td>...</td>\n",
       "      <td>1.000000</td>\n",
       "      <td>1.000000</td>\n",
       "      <td>1.000000</td>\n",
       "      <td>1.000000</td>\n",
       "      <td>1.000000</td>\n",
       "      <td>1.000000</td>\n",
       "      <td>1.000000</td>\n",
       "      <td>1.000000</td>\n",
       "      <td>1.000000</td>\n",
       "      <td>1.000000</td>\n",
       "    </tr>\n",
       "  </tbody>\n",
       "</table>\n",
       "<p>10 rows × 67 columns</p>\n",
       "</div>"
      ],
      "text/plain": [
       "       Do Not Email  Do Not Call    Converted  TotalVisits  \\\n",
       "count   8721.000000  8721.000000  8721.000000  8721.000000   \n",
       "mean       0.000917     0.000917     0.374957     2.916294   \n",
       "std        0.030275     0.030275     0.484140     2.468306   \n",
       "min        0.000000     0.000000     0.000000     0.000000   \n",
       "5%         0.000000     0.000000     0.000000     0.000000   \n",
       "25%        0.000000     0.000000     0.000000     1.000000   \n",
       "50%        0.000000     0.000000     0.000000     3.000000   \n",
       "75%        0.000000     0.000000     1.000000     4.000000   \n",
       "95%        0.000000     0.000000     1.000000     8.000000   \n",
       "max        1.000000     1.000000     1.000000    10.000000   \n",
       "\n",
       "       Total Time Spent on Website  Page Views Per Visit       Search  \\\n",
       "count                  8721.000000           8721.000000  8721.000000   \n",
       "mean                    473.146887              2.255668     0.000917   \n",
       "std                     542.265343              1.922397     0.030275   \n",
       "min                       0.000000              0.000000     0.000000   \n",
       "5%                        0.000000              0.000000     0.000000   \n",
       "25%                       2.000000              1.000000     0.000000   \n",
       "50%                     236.000000              2.000000     0.000000   \n",
       "75%                     899.000000              3.000000     0.000000   \n",
       "95%                    1551.000000              6.000000     0.000000   \n",
       "max                    2272.000000             10.000000     1.000000   \n",
       "\n",
       "       Newspaper Article  X Education Forums    Newspaper  \\\n",
       "count        8721.000000              8721.0  8721.000000   \n",
       "mean            0.000115                 0.0     0.000115   \n",
       "std             0.010708                 0.0     0.010708   \n",
       "min             0.000000                 0.0     0.000000   \n",
       "5%              0.000000                 0.0     0.000000   \n",
       "25%             0.000000                 0.0     0.000000   \n",
       "50%             0.000000                 0.0     0.000000   \n",
       "75%             0.000000                 0.0     0.000000   \n",
       "95%             0.000000                 0.0     0.000000   \n",
       "max             1.000000                 0.0     1.000000   \n",
       "\n",
       "                              ...                          \\\n",
       "count                         ...                           \n",
       "mean                          ...                           \n",
       "std                           ...                           \n",
       "min                           ...                           \n",
       "5%                            ...                           \n",
       "25%                           ...                           \n",
       "50%                           ...                           \n",
       "75%                           ...                           \n",
       "95%                           ...                           \n",
       "max                           ...                           \n",
       "\n",
       "       Last Notable Activity_Form Submitted on Website  \\\n",
       "count                                      8721.000000   \n",
       "mean                                          0.000115   \n",
       "std                                           0.010708   \n",
       "min                                           0.000000   \n",
       "5%                                            0.000000   \n",
       "25%                                           0.000000   \n",
       "50%                                           0.000000   \n",
       "75%                                           0.000000   \n",
       "95%                                           0.000000   \n",
       "max                                           1.000000   \n",
       "\n",
       "       Last Notable Activity_Had a Phone Conversation  \\\n",
       "count                                     8721.000000   \n",
       "mean                                         0.001261   \n",
       "std                                          0.035495   \n",
       "min                                          0.000000   \n",
       "5%                                           0.000000   \n",
       "25%                                          0.000000   \n",
       "50%                                          0.000000   \n",
       "75%                                          0.000000   \n",
       "95%                                          0.000000   \n",
       "max                                          1.000000   \n",
       "\n",
       "       Last Notable Activity_Modified  \\\n",
       "count                     8721.000000   \n",
       "mean                         0.364522   \n",
       "std                          0.481324   \n",
       "min                          0.000000   \n",
       "5%                           0.000000   \n",
       "25%                          0.000000   \n",
       "50%                          0.000000   \n",
       "75%                          1.000000   \n",
       "95%                          1.000000   \n",
       "max                          1.000000   \n",
       "\n",
       "       Last Notable Activity_Olark Chat Conversation  \\\n",
       "count                                    8721.000000   \n",
       "mean                                        0.020067   \n",
       "std                                         0.140236   \n",
       "min                                         0.000000   \n",
       "5%                                          0.000000   \n",
       "25%                                         0.000000   \n",
       "50%                                         0.000000   \n",
       "75%                                         0.000000   \n",
       "95%                                         0.000000   \n",
       "max                                         1.000000   \n",
       "\n",
       "       Last Notable Activity_Page Visited on Website  \\\n",
       "count                                    8721.000000   \n",
       "mean                                        0.028208   \n",
       "std                                         0.165575   \n",
       "min                                         0.000000   \n",
       "5%                                          0.000000   \n",
       "25%                                         0.000000   \n",
       "50%                                         0.000000   \n",
       "75%                                         0.000000   \n",
       "95%                                         0.000000   \n",
       "max                                         1.000000   \n",
       "\n",
       "       Last Notable Activity_Resubscribed to emails  \\\n",
       "count                                   8721.000000   \n",
       "mean                                       0.000115   \n",
       "std                                        0.010708   \n",
       "min                                        0.000000   \n",
       "5%                                         0.000000   \n",
       "25%                                        0.000000   \n",
       "50%                                        0.000000   \n",
       "75%                                        0.000000   \n",
       "95%                                        0.000000   \n",
       "max                                        1.000000   \n",
       "\n",
       "       Last Notable Activity_SMS Sent  Last Notable Activity_Unreachable  \\\n",
       "count                     8721.000000                        8721.000000   \n",
       "mean                         0.239193                           0.003669   \n",
       "std                          0.426615                           0.060467   \n",
       "min                          0.000000                           0.000000   \n",
       "5%                           0.000000                           0.000000   \n",
       "25%                          0.000000                           0.000000   \n",
       "50%                          0.000000                           0.000000   \n",
       "75%                          0.000000                           0.000000   \n",
       "95%                          1.000000                           0.000000   \n",
       "max                          1.000000                           1.000000   \n",
       "\n",
       "       Last Notable Activity_Unsubscribed  \\\n",
       "count                         8721.000000   \n",
       "mean                             0.005045   \n",
       "std                              0.070855   \n",
       "min                              0.000000   \n",
       "5%                               0.000000   \n",
       "25%                              0.000000   \n",
       "50%                              0.000000   \n",
       "75%                              0.000000   \n",
       "95%                              0.000000   \n",
       "max                              1.000000   \n",
       "\n",
       "       Last Notable Activity_View in browser link Clicked  \n",
       "count                                        8721.000000   \n",
       "mean                                            0.000115   \n",
       "std                                             0.010708   \n",
       "min                                             0.000000   \n",
       "5%                                              0.000000   \n",
       "25%                                             0.000000   \n",
       "50%                                             0.000000   \n",
       "75%                                             0.000000   \n",
       "95%                                             0.000000   \n",
       "max                                             1.000000   \n",
       "\n",
       "[10 rows x 67 columns]"
      ]
     },
     "execution_count": 252,
     "metadata": {},
     "output_type": "execute_result"
    }
   ],
   "source": [
    "#Checking the statistics of numeric features after eliminating the outliers\n",
    "leads_no_outliers.describe([.05,.25,.5,.75,.95])"
   ]
  },
  {
   "cell_type": "code",
   "execution_count": 253,
   "metadata": {},
   "outputs": [
    {
     "data": {
      "image/png": "[encoded data removed]",
      "text/plain": [
       "<Figure size 576x576 with 4 Axes>"
      ]
     },
     "metadata": {
      "needs_background": "light"
     },
     "output_type": "display_data"
    }
   ],
   "source": [
    "#Checking the box plots of the numeric features after eliminating the outliers\n",
    "plt.figure(figsize=(8, 8))\n",
    "plt.subplot(2,3,1)\n",
    "sns.boxplot(x=leads_no_outliers['Page Views Per Visit'])\n",
    "plt.subplot(2,3,2)\n",
    "sns.boxplot(x=leads_no_outliers['Converted'])\n",
    "plt.subplot(2,3,3)\n",
    "sns.boxplot(x=leads_no_outliers['TotalVisits'])\n",
    "plt.subplot(2,3,4)\n",
    "sns.boxplot(x=leads_no_outliers['Total Time Spent on Website'])\n",
    "\n",
    "plt.show()"
   ]
  },
  {
   "cell_type": "code",
   "execution_count": 254,
   "metadata": {},
   "outputs": [],
   "source": [
    "# We specify this so that the train and test data set always have the same rows, respectively\n",
    "np.random.seed(0)\n",
    "\n",
    "#Splitting the leads data set into train and test sets in the ratio of 70:30\n",
    "leads_train, leads_test = train_test_split(leads_no_outliers, train_size = 0.7, test_size = 0.3, random_state = 100)"
   ]
  },
  {
   "cell_type": "markdown",
   "metadata": {},
   "source": [
    "## 6.Feature scaling"
   ]
  },
  {
   "cell_type": "code",
   "execution_count": 255,
   "metadata": {},
   "outputs": [],
   "source": [
    "from sklearn.preprocessing import StandardScaler"
   ]
  },
  {
   "cell_type": "code",
   "execution_count": 256,
   "metadata": {},
   "outputs": [],
   "source": [
    "#creating the standard scaler\n",
    "scaler = StandardScaler()"
   ]
  },
  {
   "cell_type": "code",
   "execution_count": 257,
   "metadata": {},
   "outputs": [],
   "source": [
    "# Applying standard scaler to all the numeric columns of leads data set\n",
    "num_vars = ['TotalVisits','Total Time Spent on Website','Page Views Per Visit']\n",
    "leads_train[num_vars] = scaler.fit_transform(leads_train[num_vars])"
   ]
  },
  {
   "cell_type": "code",
   "execution_count": 258,
   "metadata": {},
   "outputs": [
    {
     "data": {
      "text/html": [
       "<div>\n",
       "<style scoped>\n",
       "    .dataframe tbody tr th:only-of-type {\n",
       "        vertical-align: middle;\n",
       "    }\n",
       "\n",
       "    .dataframe tbody tr th {\n",
       "        vertical-align: top;\n",
       "    }\n",
       "\n",
       "    .dataframe thead th {\n",
       "        text-align: right;\n",
       "    }\n",
       "</style>\n",
       "<table border=\"1\" class=\"dataframe\">\n",
       "  <thead>\n",
       "    <tr style=\"text-align: right;\">\n",
       "      <th></th>\n",
       "      <th>Prospect ID</th>\n",
       "      <th>Do Not Email</th>\n",
       "      <th>Do Not Call</th>\n",
       "      <th>Converted</th>\n",
       "      <th>TotalVisits</th>\n",
       "      <th>Total Time Spent on Website</th>\n",
       "      <th>Page Views Per Visit</th>\n",
       "      <th>Search</th>\n",
       "      <th>Newspaper Article</th>\n",
       "      <th>X Education Forums</th>\n",
       "      <th>...</th>\n",
       "      <th>Last Notable Activity_Form Submitted on Website</th>\n",
       "      <th>Last Notable Activity_Had a Phone Conversation</th>\n",
       "      <th>Last Notable Activity_Modified</th>\n",
       "      <th>Last Notable Activity_Olark Chat Conversation</th>\n",
       "      <th>Last Notable Activity_Page Visited on Website</th>\n",
       "      <th>Last Notable Activity_Resubscribed to emails</th>\n",
       "      <th>Last Notable Activity_SMS Sent</th>\n",
       "      <th>Last Notable Activity_Unreachable</th>\n",
       "      <th>Last Notable Activity_Unsubscribed</th>\n",
       "      <th>Last Notable Activity_View in browser link Clicked</th>\n",
       "    </tr>\n",
       "  </thead>\n",
       "  <tbody>\n",
       "    <tr>\n",
       "      <th>7220</th>\n",
       "      <td>260562de-2a20-4054-84d8-9078502bdf07</td>\n",
       "      <td>0</td>\n",
       "      <td>0</td>\n",
       "      <td>1</td>\n",
       "      <td>0.436186</td>\n",
       "      <td>2.091938</td>\n",
       "      <td>0.918347</td>\n",
       "      <td>0</td>\n",
       "      <td>0</td>\n",
       "      <td>0</td>\n",
       "      <td>...</td>\n",
       "      <td>0</td>\n",
       "      <td>0</td>\n",
       "      <td>0</td>\n",
       "      <td>0</td>\n",
       "      <td>0</td>\n",
       "      <td>0</td>\n",
       "      <td>0</td>\n",
       "      <td>0</td>\n",
       "      <td>0</td>\n",
       "      <td>0</td>\n",
       "    </tr>\n",
       "    <tr>\n",
       "      <th>3383</th>\n",
       "      <td>8cb3a5c7-1bde-40da-b915-55528ffcaccf</td>\n",
       "      <td>0</td>\n",
       "      <td>0</td>\n",
       "      <td>0</td>\n",
       "      <td>0.028331</td>\n",
       "      <td>0.230687</td>\n",
       "      <td>0.391804</td>\n",
       "      <td>0</td>\n",
       "      <td>0</td>\n",
       "      <td>0</td>\n",
       "      <td>...</td>\n",
       "      <td>0</td>\n",
       "      <td>0</td>\n",
       "      <td>0</td>\n",
       "      <td>0</td>\n",
       "      <td>0</td>\n",
       "      <td>0</td>\n",
       "      <td>1</td>\n",
       "      <td>0</td>\n",
       "      <td>0</td>\n",
       "      <td>0</td>\n",
       "    </tr>\n",
       "    <tr>\n",
       "      <th>770</th>\n",
       "      <td>f445613b-089f-4715-9d4d-def14fb26bdc</td>\n",
       "      <td>0</td>\n",
       "      <td>0</td>\n",
       "      <td>0</td>\n",
       "      <td>0.436186</td>\n",
       "      <td>-0.244329</td>\n",
       "      <td>0.918347</td>\n",
       "      <td>0</td>\n",
       "      <td>0</td>\n",
       "      <td>0</td>\n",
       "      <td>...</td>\n",
       "      <td>0</td>\n",
       "      <td>0</td>\n",
       "      <td>0</td>\n",
       "      <td>0</td>\n",
       "      <td>0</td>\n",
       "      <td>0</td>\n",
       "      <td>1</td>\n",
       "      <td>0</td>\n",
       "      <td>0</td>\n",
       "      <td>0</td>\n",
       "    </tr>\n",
       "    <tr>\n",
       "      <th>5785</th>\n",
       "      <td>112e2574-5b64-4409-95e4-d7e084d64cdb</td>\n",
       "      <td>0</td>\n",
       "      <td>0</td>\n",
       "      <td>1</td>\n",
       "      <td>-1.195236</td>\n",
       "      <td>-0.876452</td>\n",
       "      <td>-1.187826</td>\n",
       "      <td>0</td>\n",
       "      <td>0</td>\n",
       "      <td>0</td>\n",
       "      <td>...</td>\n",
       "      <td>0</td>\n",
       "      <td>0</td>\n",
       "      <td>0</td>\n",
       "      <td>0</td>\n",
       "      <td>0</td>\n",
       "      <td>0</td>\n",
       "      <td>1</td>\n",
       "      <td>0</td>\n",
       "      <td>0</td>\n",
       "      <td>0</td>\n",
       "    </tr>\n",
       "    <tr>\n",
       "      <th>5252</th>\n",
       "      <td>44888262-e19b-46eb-ad9e-7e9f73675662</td>\n",
       "      <td>0</td>\n",
       "      <td>0</td>\n",
       "      <td>1</td>\n",
       "      <td>1.251898</td>\n",
       "      <td>-0.464278</td>\n",
       "      <td>-0.134740</td>\n",
       "      <td>0</td>\n",
       "      <td>0</td>\n",
       "      <td>0</td>\n",
       "      <td>...</td>\n",
       "      <td>0</td>\n",
       "      <td>0</td>\n",
       "      <td>0</td>\n",
       "      <td>0</td>\n",
       "      <td>0</td>\n",
       "      <td>0</td>\n",
       "      <td>1</td>\n",
       "      <td>0</td>\n",
       "      <td>0</td>\n",
       "      <td>0</td>\n",
       "    </tr>\n",
       "  </tbody>\n",
       "</table>\n",
       "<p>5 rows × 68 columns</p>\n",
       "</div>"
      ],
      "text/plain": [
       "                               Prospect ID  Do Not Email  Do Not Call  \\\n",
       "7220  260562de-2a20-4054-84d8-9078502bdf07             0            0   \n",
       "3383  8cb3a5c7-1bde-40da-b915-55528ffcaccf             0            0   \n",
       "770   f445613b-089f-4715-9d4d-def14fb26bdc             0            0   \n",
       "5785  112e2574-5b64-4409-95e4-d7e084d64cdb             0            0   \n",
       "5252  44888262-e19b-46eb-ad9e-7e9f73675662             0            0   \n",
       "\n",
       "      Converted  TotalVisits  Total Time Spent on Website  \\\n",
       "7220          1     0.436186                     2.091938   \n",
       "3383          0     0.028331                     0.230687   \n",
       "770           0     0.436186                    -0.244329   \n",
       "5785          1    -1.195236                    -0.876452   \n",
       "5252          1     1.251898                    -0.464278   \n",
       "\n",
       "      Page Views Per Visit  Search  Newspaper Article  X Education Forums  \\\n",
       "7220              0.918347       0                  0                   0   \n",
       "3383              0.391804       0                  0                   0   \n",
       "770               0.918347       0                  0                   0   \n",
       "5785             -1.187826       0                  0                   0   \n",
       "5252             -0.134740       0                  0                   0   \n",
       "\n",
       "                             ...                          \\\n",
       "7220                         ...                           \n",
       "3383                         ...                           \n",
       "770                          ...                           \n",
       "5785                         ...                           \n",
       "5252                         ...                           \n",
       "\n",
       "      Last Notable Activity_Form Submitted on Website  \\\n",
       "7220                                                0   \n",
       "3383                                                0   \n",
       "770                                                 0   \n",
       "5785                                                0   \n",
       "5252                                                0   \n",
       "\n",
       "      Last Notable Activity_Had a Phone Conversation  \\\n",
       "7220                                               0   \n",
       "3383                                               0   \n",
       "770                                                0   \n",
       "5785                                               0   \n",
       "5252                                               0   \n",
       "\n",
       "      Last Notable Activity_Modified  \\\n",
       "7220                               0   \n",
       "3383                               0   \n",
       "770                                0   \n",
       "5785                               0   \n",
       "5252                               0   \n",
       "\n",
       "      Last Notable Activity_Olark Chat Conversation  \\\n",
       "7220                                              0   \n",
       "3383                                              0   \n",
       "770                                               0   \n",
       "5785                                              0   \n",
       "5252                                              0   \n",
       "\n",
       "      Last Notable Activity_Page Visited on Website  \\\n",
       "7220                                              0   \n",
       "3383                                              0   \n",
       "770                                               0   \n",
       "5785                                              0   \n",
       "5252                                              0   \n",
       "\n",
       "      Last Notable Activity_Resubscribed to emails  \\\n",
       "7220                                             0   \n",
       "3383                                             0   \n",
       "770                                              0   \n",
       "5785                                             0   \n",
       "5252                                             0   \n",
       "\n",
       "      Last Notable Activity_SMS Sent  Last Notable Activity_Unreachable  \\\n",
       "7220                               0                                  0   \n",
       "3383                               1                                  0   \n",
       "770                                1                                  0   \n",
       "5785                               1                                  0   \n",
       "5252                               1                                  0   \n",
       "\n",
       "      Last Notable Activity_Unsubscribed  \\\n",
       "7220                                   0   \n",
       "3383                                   0   \n",
       "770                                    0   \n",
       "5785                                   0   \n",
       "5252                                   0   \n",
       "\n",
       "      Last Notable Activity_View in browser link Clicked  \n",
       "7220                                                  0   \n",
       "3383                                                  0   \n",
       "770                                                   0   \n",
       "5785                                                  0   \n",
       "5252                                                  0   \n",
       "\n",
       "[5 rows x 68 columns]"
      ]
     },
     "execution_count": 258,
     "metadata": {},
     "output_type": "execute_result"
    }
   ],
   "source": [
    "#Checking the head of leads_train data set\n",
    "leads_train.head()"
   ]
  },
  {
   "cell_type": "code",
   "execution_count": 259,
   "metadata": {},
   "outputs": [
    {
     "data": {
      "text/plain": [
       "37.85541106458012"
      ]
     },
     "execution_count": 259,
     "metadata": {},
     "output_type": "execute_result"
    }
   ],
   "source": [
    "#Checking the Conversion Rate\n",
    "conversion = (sum(leads['Converted'])/len(leads['Converted'].index))*100\n",
    "conversion"
   ]
  },
  {
   "cell_type": "markdown",
   "metadata": {},
   "source": [
    "## 7. Model Building\n"
   ]
  },
  {
   "cell_type": "code",
   "execution_count": 260,
   "metadata": {},
   "outputs": [],
   "source": [
    "import statsmodels.api as sm"
   ]
  },
  {
   "cell_type": "code",
   "execution_count": 261,
   "metadata": {},
   "outputs": [],
   "source": [
    "#Dividing leads_train data set into x and y sets for the model building.\n",
    "y_train = leads_train['Converted']\n",
    "X_train = leads_train.drop(['Converted','Prospect ID'], 1)"
   ]
  },
  {
   "cell_type": "code",
   "execution_count": 262,
   "metadata": {},
   "outputs": [
    {
     "data": {
      "text/html": [
       "<table class=\"simpletable\">\n",
       "<caption>Generalized Linear Model Regression Results</caption>\n",
       "<tr>\n",
       "  <th>Dep. Variable:</th>      <td>Converted</td>    <th>  No. Observations:  </th>  <td>  6104</td>  \n",
       "</tr>\n",
       "<tr>\n",
       "  <th>Model:</th>                 <td>GLM</td>       <th>  Df Residuals:      </th>  <td>  6046</td>  \n",
       "</tr>\n",
       "<tr>\n",
       "  <th>Model Family:</th>       <td>Binomial</td>     <th>  Df Model:          </th>  <td>    57</td>  \n",
       "</tr>\n",
       "<tr>\n",
       "  <th>Link Function:</th>        <td>logit</td>      <th>  Scale:             </th> <td>  1.0000</td> \n",
       "</tr>\n",
       "<tr>\n",
       "  <th>Method:</th>               <td>IRLS</td>       <th>  Log-Likelihood:    </th> <td>     nan</td> \n",
       "</tr>\n",
       "<tr>\n",
       "  <th>Date:</th>           <td>Mon, 10 Jun 2019</td> <th>  Deviance:          </th> <td>     nan</td> \n",
       "</tr>\n",
       "<tr>\n",
       "  <th>Time:</th>               <td>20:21:47</td>     <th>  Pearson chi2:      </th> <td>7.20e+18</td> \n",
       "</tr>\n",
       "<tr>\n",
       "  <th>No. Iterations:</th>        <td>100</td>       <th>  Covariance Type:   </th> <td>nonrobust</td>\n",
       "</tr>\n",
       "</table>\n",
       "<table class=\"simpletable\">\n",
       "<tr>\n",
       "                           <td></td>                             <th>coef</th>     <th>std err</th>      <th>z</th>      <th>P>|z|</th>  <th>[0.025</th>    <th>0.975]</th>  \n",
       "</tr>\n",
       "<tr>\n",
       "  <th>const</th>                                              <td> 3.749e+15</td> <td>  9.5e+07</td> <td> 3.94e+07</td> <td> 0.000</td> <td> 3.75e+15</td> <td> 3.75e+15</td>\n",
       "</tr>\n",
       "<tr>\n",
       "  <th>Do Not Email</th>                                       <td> 3.325e+13</td> <td> 8.62e+06</td> <td> 3.86e+06</td> <td> 0.000</td> <td> 3.32e+13</td> <td> 3.32e+13</td>\n",
       "</tr>\n",
       "<tr>\n",
       "  <th>Do Not Call</th>                                        <td> 3.325e+13</td> <td> 8.62e+06</td> <td> 3.86e+06</td> <td> 0.000</td> <td> 3.32e+13</td> <td> 3.32e+13</td>\n",
       "</tr>\n",
       "<tr>\n",
       "  <th>TotalVisits</th>                                        <td>-1.849e+14</td> <td> 1.55e+06</td> <td>-1.19e+08</td> <td> 0.000</td> <td>-1.85e+14</td> <td>-1.85e+14</td>\n",
       "</tr>\n",
       "<tr>\n",
       "  <th>Total Time Spent on Website</th>                        <td> 8.207e+14</td> <td>  9.9e+05</td> <td> 8.29e+08</td> <td> 0.000</td> <td> 8.21e+14</td> <td> 8.21e+14</td>\n",
       "</tr>\n",
       "<tr>\n",
       "  <th>Page Views Per Visit</th>                               <td> 1.015e+14</td> <td> 1.56e+06</td> <td> 6.49e+07</td> <td> 0.000</td> <td> 1.01e+14</td> <td> 1.01e+14</td>\n",
       "</tr>\n",
       "<tr>\n",
       "  <th>Search</th>                                             <td> 3.325e+13</td> <td> 8.62e+06</td> <td> 3.86e+06</td> <td> 0.000</td> <td> 3.32e+13</td> <td> 3.32e+13</td>\n",
       "</tr>\n",
       "<tr>\n",
       "  <th>Newspaper Article</th>                                  <td> 2.611e+16</td> <td> 6.73e+07</td> <td> 3.88e+08</td> <td> 0.000</td> <td> 2.61e+16</td> <td> 2.61e+16</td>\n",
       "</tr>\n",
       "<tr>\n",
       "  <th>X Education Forums</th>                                 <td> -130.5448</td> <td>  6.9e-07</td> <td>-1.89e+08</td> <td> 0.000</td> <td> -130.545</td> <td> -130.545</td>\n",
       "</tr>\n",
       "<tr>\n",
       "  <th>Newspaper</th>                                          <td>   78.4408</td> <td> 5.91e-07</td> <td> 1.33e+08</td> <td> 0.000</td> <td>   78.441</td> <td>   78.441</td>\n",
       "</tr>\n",
       "<tr>\n",
       "  <th>Digital Advertisement</th>                              <td>-6.916e+14</td> <td> 3.89e+07</td> <td>-1.78e+07</td> <td> 0.000</td> <td>-6.92e+14</td> <td>-6.92e+14</td>\n",
       "</tr>\n",
       "<tr>\n",
       "  <th>Through Recommendations</th>                            <td> 2.812e+14</td> <td> 3.06e+07</td> <td> 9.18e+06</td> <td> 0.000</td> <td> 2.81e+14</td> <td> 2.81e+14</td>\n",
       "</tr>\n",
       "<tr>\n",
       "  <th>A free copy of Mastering The Interview</th>             <td> 3.875e+13</td> <td> 2.72e+06</td> <td> 1.43e+07</td> <td> 0.000</td> <td> 3.87e+13</td> <td> 3.87e+13</td>\n",
       "</tr>\n",
       "<tr>\n",
       "  <th>Lead Origin_Landing Page Submission</th>                <td>-2.878e+13</td> <td> 2.75e+06</td> <td>-1.05e+07</td> <td> 0.000</td> <td>-2.88e+13</td> <td>-2.88e+13</td>\n",
       "</tr>\n",
       "<tr>\n",
       "  <th>Lead Origin_Lead Add Form</th>                          <td> 1.896e+15</td> <td> 4.76e+07</td> <td> 3.98e+07</td> <td> 0.000</td> <td>  1.9e+15</td> <td>  1.9e+15</td>\n",
       "</tr>\n",
       "<tr>\n",
       "  <th>Lead Origin_Lead Import</th>                            <td> 5.043e+14</td> <td> 6.87e+07</td> <td> 7.34e+06</td> <td> 0.000</td> <td> 5.04e+14</td> <td> 5.04e+14</td>\n",
       "</tr>\n",
       "<tr>\n",
       "  <th>Lead Source_Direct Traffic</th>                         <td> 5.237e+14</td> <td> 6.74e+07</td> <td> 7.77e+06</td> <td> 0.000</td> <td> 5.24e+14</td> <td> 5.24e+14</td>\n",
       "</tr>\n",
       "<tr>\n",
       "  <th>Lead Source_Facebook</th>                               <td>-3.509e+14</td> <td> 9.51e+07</td> <td>-3.69e+06</td> <td> 0.000</td> <td>-3.51e+14</td> <td>-3.51e+14</td>\n",
       "</tr>\n",
       "<tr>\n",
       "  <th>Lead Source_Google</th>                                 <td> 8.025e+14</td> <td> 6.73e+07</td> <td> 1.19e+07</td> <td> 0.000</td> <td> 8.02e+14</td> <td> 8.02e+14</td>\n",
       "</tr>\n",
       "<tr>\n",
       "  <th>Lead Source_Live Chat</th>                              <td> 4.574e+15</td> <td> 6.72e+07</td> <td> 6.81e+07</td> <td> 0.000</td> <td> 4.57e+15</td> <td> 4.57e+15</td>\n",
       "</tr>\n",
       "<tr>\n",
       "  <th>Lead Source_NC_EDM</th>                                 <td> 3.968e+14</td> <td> 9.52e+07</td> <td> 4.17e+06</td> <td> 0.000</td> <td> 3.97e+14</td> <td> 3.97e+14</td>\n",
       "</tr>\n",
       "<tr>\n",
       "  <th>Lead Source_Olark Chat</th>                             <td>-8.657e+13</td> <td> 6.72e+07</td> <td>-1.29e+06</td> <td> 0.000</td> <td>-8.66e+13</td> <td>-8.66e+13</td>\n",
       "</tr>\n",
       "<tr>\n",
       "  <th>Lead Source_Organic Search</th>                         <td>  6.19e+14</td> <td> 6.74e+07</td> <td> 9.19e+06</td> <td> 0.000</td> <td> 6.19e+14</td> <td> 6.19e+14</td>\n",
       "</tr>\n",
       "<tr>\n",
       "  <th>Lead Source_Pay per Click Ads</th>                      <td>-1.116e+16</td> <td> 9.51e+07</td> <td>-1.17e+08</td> <td> 0.000</td> <td>-1.12e+16</td> <td>-1.12e+16</td>\n",
       "</tr>\n",
       "<tr>\n",
       "  <th>Lead Source_Press_Release</th>                          <td>-1.024e+16</td> <td> 9.53e+07</td> <td>-1.07e+08</td> <td> 0.000</td> <td>-1.02e+16</td> <td>-1.02e+16</td>\n",
       "</tr>\n",
       "<tr>\n",
       "  <th>Lead Source_Reference</th>                              <td> 5.982e+14</td> <td> 4.77e+07</td> <td> 1.25e+07</td> <td> 0.000</td> <td> 5.98e+14</td> <td> 5.98e+14</td>\n",
       "</tr>\n",
       "<tr>\n",
       "  <th>Lead Source_Referral Sites</th>                         <td> 7.857e+14</td> <td> 6.77e+07</td> <td> 1.16e+07</td> <td> 0.000</td> <td> 7.86e+14</td> <td> 7.86e+14</td>\n",
       "</tr>\n",
       "<tr>\n",
       "  <th>Lead Source_Social Media</th>                           <td> 7.566e+14</td> <td> 8.25e+07</td> <td> 9.18e+06</td> <td> 0.000</td> <td> 7.57e+14</td> <td> 7.57e+14</td>\n",
       "</tr>\n",
       "<tr>\n",
       "  <th>Lead Source_WeLearn</th>                                <td> 2.864e+15</td> <td> 9.51e+07</td> <td> 3.01e+07</td> <td> 0.000</td> <td> 2.86e+15</td> <td> 2.86e+15</td>\n",
       "</tr>\n",
       "<tr>\n",
       "  <th>Lead Source_Welingak Website</th>                       <td> 1.074e+15</td> <td> 4.81e+07</td> <td> 2.23e+07</td> <td> 0.000</td> <td> 1.07e+15</td> <td> 1.07e+15</td>\n",
       "</tr>\n",
       "<tr>\n",
       "  <th>Lead Source_bing</th>                                   <td> 2.504e+14</td> <td> 7.37e+07</td> <td>  3.4e+06</td> <td> 0.000</td> <td>  2.5e+14</td> <td>  2.5e+14</td>\n",
       "</tr>\n",
       "<tr>\n",
       "  <th>Lead Source_blog</th>                                   <td>   12.3233</td> <td> 2.09e-07</td> <td>  5.9e+07</td> <td> 0.000</td> <td>   12.323</td> <td>   12.323</td>\n",
       "</tr>\n",
       "<tr>\n",
       "  <th>Lead Source_google</th>                                 <td>-1.187e+16</td> <td> 9.51e+07</td> <td>-1.25e+08</td> <td> 0.000</td> <td>-1.19e+16</td> <td>-1.19e+16</td>\n",
       "</tr>\n",
       "<tr>\n",
       "  <th>Lead Source_testone</th>                                <td>-7.547e+15</td> <td> 9.51e+07</td> <td>-7.94e+07</td> <td> 0.000</td> <td>-7.55e+15</td> <td>-7.55e+15</td>\n",
       "</tr>\n",
       "<tr>\n",
       "  <th>Lead Source_welearnblog_Home</th>                       <td>-1.141e+16</td> <td> 9.51e+07</td> <td> -1.2e+08</td> <td> 0.000</td> <td>-1.14e+16</td> <td>-1.14e+16</td>\n",
       "</tr>\n",
       "<tr>\n",
       "  <th>Lead Source_youtubechannel</th>                         <td>    4.4807</td> <td> 2.63e-07</td> <td>  1.7e+07</td> <td> 0.000</td> <td>    4.481</td> <td>    4.481</td>\n",
       "</tr>\n",
       "<tr>\n",
       "  <th>Last Activity_Converted to Lead</th>                    <td>-4.068e+15</td> <td> 3.39e+07</td> <td> -1.2e+08</td> <td> 0.000</td> <td>-4.07e+15</td> <td>-4.07e+15</td>\n",
       "</tr>\n",
       "<tr>\n",
       "  <th>Last Activity_Email Bounced</th>                        <td>-5.145e+15</td> <td>  3.4e+07</td> <td>-1.52e+08</td> <td> 0.000</td> <td>-5.15e+15</td> <td>-5.15e+15</td>\n",
       "</tr>\n",
       "<tr>\n",
       "  <th>Last Activity_Email Link Clicked</th>                   <td>-3.517e+15</td> <td> 3.46e+07</td> <td>-1.02e+08</td> <td> 0.000</td> <td>-3.52e+15</td> <td>-3.52e+15</td>\n",
       "</tr>\n",
       "<tr>\n",
       "  <th>Last Activity_Email Marked Spam</th>                    <td>-2.133e+15</td> <td> 4.11e+07</td> <td>-5.18e+07</td> <td> 0.000</td> <td>-2.13e+15</td> <td>-2.13e+15</td>\n",
       "</tr>\n",
       "<tr>\n",
       "  <th>Last Activity_Email Opened</th>                         <td>-4.079e+15</td> <td> 3.37e+07</td> <td>-1.21e+08</td> <td> 0.000</td> <td>-4.08e+15</td> <td>-4.08e+15</td>\n",
       "</tr>\n",
       "<tr>\n",
       "  <th>Last Activity_Email Received</th>                       <td>-3.017e+14</td> <td> 4.75e+07</td> <td>-6.35e+06</td> <td> 0.000</td> <td>-3.02e+14</td> <td>-3.02e+14</td>\n",
       "</tr>\n",
       "<tr>\n",
       "  <th>Last Activity_Form Submitted on Website</th>            <td>-4.177e+15</td> <td> 3.44e+07</td> <td>-1.22e+08</td> <td> 0.000</td> <td>-4.18e+15</td> <td>-4.18e+15</td>\n",
       "</tr>\n",
       "<tr>\n",
       "  <th>Last Activity_Had a Phone Conversation</th>             <td>-3.819e+15</td> <td> 4.34e+07</td> <td>-8.81e+07</td> <td> 0.000</td> <td>-3.82e+15</td> <td>-3.82e+15</td>\n",
       "</tr>\n",
       "<tr>\n",
       "  <th>Last Activity_Olark Chat Conversation</th>              <td> -3.77e+15</td> <td> 3.37e+07</td> <td>-1.12e+08</td> <td> 0.000</td> <td>-3.77e+15</td> <td>-3.77e+15</td>\n",
       "</tr>\n",
       "<tr>\n",
       "  <th>Last Activity_Page Visited on Website</th>              <td>-4.028e+15</td> <td> 3.39e+07</td> <td>-1.19e+08</td> <td> 0.000</td> <td>-4.03e+15</td> <td>-4.03e+15</td>\n",
       "</tr>\n",
       "<tr>\n",
       "  <th>Last Activity_Resubscribed to emails</th>               <td>-5.314e+14</td> <td> 4.75e+07</td> <td>-1.12e+07</td> <td> 0.000</td> <td>-5.31e+14</td> <td>-5.31e+14</td>\n",
       "</tr>\n",
       "<tr>\n",
       "  <th>Last Activity_SMS Sent</th>                             <td>-3.819e+15</td> <td> 3.38e+07</td> <td>-1.13e+08</td> <td> 0.000</td> <td>-3.82e+15</td> <td>-3.82e+15</td>\n",
       "</tr>\n",
       "<tr>\n",
       "  <th>Last Activity_Unreachable</th>                          <td>-3.843e+15</td> <td> 3.52e+07</td> <td>-1.09e+08</td> <td> 0.000</td> <td>-3.84e+15</td> <td>-3.84e+15</td>\n",
       "</tr>\n",
       "<tr>\n",
       "  <th>Last Activity_Unsubscribed</th>                         <td>-3.773e+15</td> <td> 3.98e+07</td> <td>-9.49e+07</td> <td> 0.000</td> <td>-3.77e+15</td> <td>-3.77e+15</td>\n",
       "</tr>\n",
       "<tr>\n",
       "  <th>Last Activity_View in browser link Clicked</th>         <td>-8.926e+15</td> <td> 5.82e+07</td> <td>-1.53e+08</td> <td> 0.000</td> <td>-8.93e+15</td> <td>-8.93e+15</td>\n",
       "</tr>\n",
       "<tr>\n",
       "  <th>Last Activity_Visited Booth in Tradeshow</th>           <td>-1.423e+16</td> <td> 7.51e+07</td> <td> -1.9e+08</td> <td> 0.000</td> <td>-1.42e+16</td> <td>-1.42e+16</td>\n",
       "</tr>\n",
       "<tr>\n",
       "  <th>Last Notable Activity_Email Bounced</th>                <td> 8.045e+14</td> <td> 7.58e+07</td> <td> 1.06e+07</td> <td> 0.000</td> <td> 8.05e+14</td> <td> 8.05e+14</td>\n",
       "</tr>\n",
       "<tr>\n",
       "  <th>Last Notable Activity_Email Link Clicked</th>           <td>-3.143e+14</td> <td> 7.58e+07</td> <td>-4.15e+06</td> <td> 0.000</td> <td>-3.14e+14</td> <td>-3.14e+14</td>\n",
       "</tr>\n",
       "<tr>\n",
       "  <th>Last Notable Activity_Email Marked Spam</th>            <td>-2.133e+15</td> <td> 4.11e+07</td> <td>-5.18e+07</td> <td> 0.000</td> <td>-2.13e+15</td> <td>-2.13e+15</td>\n",
       "</tr>\n",
       "<tr>\n",
       "  <th>Last Notable Activity_Email Opened</th>                 <td>-3.397e+14</td> <td> 7.52e+07</td> <td>-4.52e+06</td> <td> 0.000</td> <td> -3.4e+14</td> <td> -3.4e+14</td>\n",
       "</tr>\n",
       "<tr>\n",
       "  <th>Last Notable Activity_Email Received</th>               <td>-3.017e+14</td> <td> 4.75e+07</td> <td>-6.35e+06</td> <td> 0.000</td> <td>-3.02e+14</td> <td>-3.02e+14</td>\n",
       "</tr>\n",
       "<tr>\n",
       "  <th>Last Notable Activity_Form Submitted on Website</th>    <td>-1.433e+16</td> <td> 1.01e+08</td> <td>-1.42e+08</td> <td> 0.000</td> <td>-1.43e+16</td> <td>-1.43e+16</td>\n",
       "</tr>\n",
       "<tr>\n",
       "  <th>Last Notable Activity_Had a Phone Conversation</th>     <td>-8.368e+14</td> <td> 8.27e+07</td> <td>-1.01e+07</td> <td> 0.000</td> <td>-8.37e+14</td> <td>-8.37e+14</td>\n",
       "</tr>\n",
       "<tr>\n",
       "  <th>Last Notable Activity_Modified</th>                     <td>-5.524e+14</td> <td> 7.51e+07</td> <td>-7.36e+06</td> <td> 0.000</td> <td>-5.52e+14</td> <td>-5.52e+14</td>\n",
       "</tr>\n",
       "<tr>\n",
       "  <th>Last Notable Activity_Olark Chat Conversation</th>      <td>-3.048e+14</td> <td> 7.53e+07</td> <td>-4.05e+06</td> <td> 0.000</td> <td>-3.05e+14</td> <td>-3.05e+14</td>\n",
       "</tr>\n",
       "<tr>\n",
       "  <th>Last Notable Activity_Page Visited on Website</th>      <td>  6.19e+13</td> <td> 7.54e+07</td> <td> 8.21e+05</td> <td> 0.000</td> <td> 6.19e+13</td> <td> 6.19e+13</td>\n",
       "</tr>\n",
       "<tr>\n",
       "  <th>Last Notable Activity_Resubscribed to emails</th>       <td>-5.314e+14</td> <td> 4.75e+07</td> <td>-1.12e+07</td> <td> 0.000</td> <td>-5.31e+14</td> <td>-5.31e+14</td>\n",
       "</tr>\n",
       "<tr>\n",
       "  <th>Last Notable Activity_SMS Sent</th>                     <td>-1.425e+15</td> <td> 7.52e+07</td> <td> -1.9e+07</td> <td> 0.000</td> <td>-1.43e+15</td> <td>-1.43e+15</td>\n",
       "</tr>\n",
       "<tr>\n",
       "  <th>Last Notable Activity_Unreachable</th>                  <td>-7.328e+14</td> <td> 7.71e+07</td> <td>-9.51e+06</td> <td> 0.000</td> <td>-7.33e+14</td> <td>-7.33e+14</td>\n",
       "</tr>\n",
       "<tr>\n",
       "  <th>Last Notable Activity_Unsubscribed</th>                 <td>-8.354e+14</td> <td>  7.9e+07</td> <td>-1.06e+07</td> <td> 0.000</td> <td>-8.35e+14</td> <td>-8.35e+14</td>\n",
       "</tr>\n",
       "<tr>\n",
       "  <th>Last Notable Activity_View in browser link Clicked</th> <td>-5.465e+15</td> <td> 1.11e+08</td> <td> -4.9e+07</td> <td> 0.000</td> <td>-5.46e+15</td> <td>-5.46e+15</td>\n",
       "</tr>\n",
       "</table>"
      ],
      "text/plain": [
       "<class 'statsmodels.iolib.summary.Summary'>\n",
       "\"\"\"\n",
       "                 Generalized Linear Model Regression Results                  \n",
       "==============================================================================\n",
       "Dep. Variable:              Converted   No. Observations:                 6104\n",
       "Model:                            GLM   Df Residuals:                     6046\n",
       "Model Family:                Binomial   Df Model:                           57\n",
       "Link Function:                  logit   Scale:                          1.0000\n",
       "Method:                          IRLS   Log-Likelihood:                    nan\n",
       "Date:                Mon, 10 Jun 2019   Deviance:                          nan\n",
       "Time:                        20:21:47   Pearson chi2:                 7.20e+18\n",
       "No. Iterations:                   100   Covariance Type:             nonrobust\n",
       "======================================================================================================================\n",
       "                                                         coef    std err          z      P>|z|      [0.025      0.975]\n",
       "----------------------------------------------------------------------------------------------------------------------\n",
       "const                                               3.749e+15    9.5e+07   3.94e+07      0.000    3.75e+15    3.75e+15\n",
       "Do Not Email                                        3.325e+13   8.62e+06   3.86e+06      0.000    3.32e+13    3.32e+13\n",
       "Do Not Call                                         3.325e+13   8.62e+06   3.86e+06      0.000    3.32e+13    3.32e+13\n",
       "TotalVisits                                        -1.849e+14   1.55e+06  -1.19e+08      0.000   -1.85e+14   -1.85e+14\n",
       "Total Time Spent on Website                         8.207e+14    9.9e+05   8.29e+08      0.000    8.21e+14    8.21e+14\n",
       "Page Views Per Visit                                1.015e+14   1.56e+06   6.49e+07      0.000    1.01e+14    1.01e+14\n",
       "Search                                              3.325e+13   8.62e+06   3.86e+06      0.000    3.32e+13    3.32e+13\n",
       "Newspaper Article                                   2.611e+16   6.73e+07   3.88e+08      0.000    2.61e+16    2.61e+16\n",
       "X Education Forums                                  -130.5448    6.9e-07  -1.89e+08      0.000    -130.545    -130.545\n",
       "Newspaper                                             78.4408   5.91e-07   1.33e+08      0.000      78.441      78.441\n",
       "Digital Advertisement                              -6.916e+14   3.89e+07  -1.78e+07      0.000   -6.92e+14   -6.92e+14\n",
       "Through Recommendations                             2.812e+14   3.06e+07   9.18e+06      0.000    2.81e+14    2.81e+14\n",
       "A free copy of Mastering The Interview              3.875e+13   2.72e+06   1.43e+07      0.000    3.87e+13    3.87e+13\n",
       "Lead Origin_Landing Page Submission                -2.878e+13   2.75e+06  -1.05e+07      0.000   -2.88e+13   -2.88e+13\n",
       "Lead Origin_Lead Add Form                           1.896e+15   4.76e+07   3.98e+07      0.000     1.9e+15     1.9e+15\n",
       "Lead Origin_Lead Import                             5.043e+14   6.87e+07   7.34e+06      0.000    5.04e+14    5.04e+14\n",
       "Lead Source_Direct Traffic                          5.237e+14   6.74e+07   7.77e+06      0.000    5.24e+14    5.24e+14\n",
       "Lead Source_Facebook                               -3.509e+14   9.51e+07  -3.69e+06      0.000   -3.51e+14   -3.51e+14\n",
       "Lead Source_Google                                  8.025e+14   6.73e+07   1.19e+07      0.000    8.02e+14    8.02e+14\n",
       "Lead Source_Live Chat                               4.574e+15   6.72e+07   6.81e+07      0.000    4.57e+15    4.57e+15\n",
       "Lead Source_NC_EDM                                  3.968e+14   9.52e+07   4.17e+06      0.000    3.97e+14    3.97e+14\n",
       "Lead Source_Olark Chat                             -8.657e+13   6.72e+07  -1.29e+06      0.000   -8.66e+13   -8.66e+13\n",
       "Lead Source_Organic Search                           6.19e+14   6.74e+07   9.19e+06      0.000    6.19e+14    6.19e+14\n",
       "Lead Source_Pay per Click Ads                      -1.116e+16   9.51e+07  -1.17e+08      0.000   -1.12e+16   -1.12e+16\n",
       "Lead Source_Press_Release                          -1.024e+16   9.53e+07  -1.07e+08      0.000   -1.02e+16   -1.02e+16\n",
       "Lead Source_Reference                               5.982e+14   4.77e+07   1.25e+07      0.000    5.98e+14    5.98e+14\n",
       "Lead Source_Referral Sites                          7.857e+14   6.77e+07   1.16e+07      0.000    7.86e+14    7.86e+14\n",
       "Lead Source_Social Media                            7.566e+14   8.25e+07   9.18e+06      0.000    7.57e+14    7.57e+14\n",
       "Lead Source_WeLearn                                 2.864e+15   9.51e+07   3.01e+07      0.000    2.86e+15    2.86e+15\n",
       "Lead Source_Welingak Website                        1.074e+15   4.81e+07   2.23e+07      0.000    1.07e+15    1.07e+15\n",
       "Lead Source_bing                                    2.504e+14   7.37e+07    3.4e+06      0.000     2.5e+14     2.5e+14\n",
       "Lead Source_blog                                      12.3233   2.09e-07    5.9e+07      0.000      12.323      12.323\n",
       "Lead Source_google                                 -1.187e+16   9.51e+07  -1.25e+08      0.000   -1.19e+16   -1.19e+16\n",
       "Lead Source_testone                                -7.547e+15   9.51e+07  -7.94e+07      0.000   -7.55e+15   -7.55e+15\n",
       "Lead Source_welearnblog_Home                       -1.141e+16   9.51e+07   -1.2e+08      0.000   -1.14e+16   -1.14e+16\n",
       "Lead Source_youtubechannel                             4.4807   2.63e-07    1.7e+07      0.000       4.481       4.481\n",
       "Last Activity_Converted to Lead                    -4.068e+15   3.39e+07   -1.2e+08      0.000   -4.07e+15   -4.07e+15\n",
       "Last Activity_Email Bounced                        -5.145e+15    3.4e+07  -1.52e+08      0.000   -5.15e+15   -5.15e+15\n",
       "Last Activity_Email Link Clicked                   -3.517e+15   3.46e+07  -1.02e+08      0.000   -3.52e+15   -3.52e+15\n",
       "Last Activity_Email Marked Spam                    -2.133e+15   4.11e+07  -5.18e+07      0.000   -2.13e+15   -2.13e+15\n",
       "Last Activity_Email Opened                         -4.079e+15   3.37e+07  -1.21e+08      0.000   -4.08e+15   -4.08e+15\n",
       "Last Activity_Email Received                       -3.017e+14   4.75e+07  -6.35e+06      0.000   -3.02e+14   -3.02e+14\n",
       "Last Activity_Form Submitted on Website            -4.177e+15   3.44e+07  -1.22e+08      0.000   -4.18e+15   -4.18e+15\n",
       "Last Activity_Had a Phone Conversation             -3.819e+15   4.34e+07  -8.81e+07      0.000   -3.82e+15   -3.82e+15\n",
       "Last Activity_Olark Chat Conversation               -3.77e+15   3.37e+07  -1.12e+08      0.000   -3.77e+15   -3.77e+15\n",
       "Last Activity_Page Visited on Website              -4.028e+15   3.39e+07  -1.19e+08      0.000   -4.03e+15   -4.03e+15\n",
       "Last Activity_Resubscribed to emails               -5.314e+14   4.75e+07  -1.12e+07      0.000   -5.31e+14   -5.31e+14\n",
       "Last Activity_SMS Sent                             -3.819e+15   3.38e+07  -1.13e+08      0.000   -3.82e+15   -3.82e+15\n",
       "Last Activity_Unreachable                          -3.843e+15   3.52e+07  -1.09e+08      0.000   -3.84e+15   -3.84e+15\n",
       "Last Activity_Unsubscribed                         -3.773e+15   3.98e+07  -9.49e+07      0.000   -3.77e+15   -3.77e+15\n",
       "Last Activity_View in browser link Clicked         -8.926e+15   5.82e+07  -1.53e+08      0.000   -8.93e+15   -8.93e+15\n",
       "Last Activity_Visited Booth in Tradeshow           -1.423e+16   7.51e+07   -1.9e+08      0.000   -1.42e+16   -1.42e+16\n",
       "Last Notable Activity_Email Bounced                 8.045e+14   7.58e+07   1.06e+07      0.000    8.05e+14    8.05e+14\n",
       "Last Notable Activity_Email Link Clicked           -3.143e+14   7.58e+07  -4.15e+06      0.000   -3.14e+14   -3.14e+14\n",
       "Last Notable Activity_Email Marked Spam            -2.133e+15   4.11e+07  -5.18e+07      0.000   -2.13e+15   -2.13e+15\n",
       "Last Notable Activity_Email Opened                 -3.397e+14   7.52e+07  -4.52e+06      0.000    -3.4e+14    -3.4e+14\n",
       "Last Notable Activity_Email Received               -3.017e+14   4.75e+07  -6.35e+06      0.000   -3.02e+14   -3.02e+14\n",
       "Last Notable Activity_Form Submitted on Website    -1.433e+16   1.01e+08  -1.42e+08      0.000   -1.43e+16   -1.43e+16\n",
       "Last Notable Activity_Had a Phone Conversation     -8.368e+14   8.27e+07  -1.01e+07      0.000   -8.37e+14   -8.37e+14\n",
       "Last Notable Activity_Modified                     -5.524e+14   7.51e+07  -7.36e+06      0.000   -5.52e+14   -5.52e+14\n",
       "Last Notable Activity_Olark Chat Conversation      -3.048e+14   7.53e+07  -4.05e+06      0.000   -3.05e+14   -3.05e+14\n",
       "Last Notable Activity_Page Visited on Website        6.19e+13   7.54e+07   8.21e+05      0.000    6.19e+13    6.19e+13\n",
       "Last Notable Activity_Resubscribed to emails       -5.314e+14   4.75e+07  -1.12e+07      0.000   -5.31e+14   -5.31e+14\n",
       "Last Notable Activity_SMS Sent                     -1.425e+15   7.52e+07   -1.9e+07      0.000   -1.43e+15   -1.43e+15\n",
       "Last Notable Activity_Unreachable                  -7.328e+14   7.71e+07  -9.51e+06      0.000   -7.33e+14   -7.33e+14\n",
       "Last Notable Activity_Unsubscribed                 -8.354e+14    7.9e+07  -1.06e+07      0.000   -8.35e+14   -8.35e+14\n",
       "Last Notable Activity_View in browser link Clicked -5.465e+15   1.11e+08   -4.9e+07      0.000   -5.46e+15   -5.46e+15\n",
       "======================================================================================================================\n",
       "\"\"\""
      ]
     },
     "execution_count": 262,
     "metadata": {},
     "output_type": "execute_result"
    }
   ],
   "source": [
    "# Building the Logistic regression model\n",
    "logm1 = sm.GLM(y_train,(sm.add_constant(X_train)), family = sm.families.Binomial())\n",
    "\n",
    "#Checking the summary of Logistic regression model\n",
    "logm1.fit().summary()"
   ]
  },
  {
   "cell_type": "markdown",
   "metadata": {},
   "source": [
    "## 8.Feature selection using RFE"
   ]
  },
  {
   "cell_type": "code",
   "execution_count": 263,
   "metadata": {},
   "outputs": [],
   "source": [
    "from sklearn.linear_model import LogisticRegression\n",
    "logreg = LogisticRegression()"
   ]
  },
  {
   "cell_type": "code",
   "execution_count": 264,
   "metadata": {},
   "outputs": [],
   "source": [
    "from sklearn.feature_selection import RFE\n",
    "# running RFE with 15 variables as output\n",
    "rfe = RFE(logreg, 15)             \n",
    "rfe = rfe.fit(X_train, y_train)"
   ]
  },
  {
   "cell_type": "code",
   "execution_count": 265,
   "metadata": {},
   "outputs": [
    {
     "data": {
      "text/plain": [
       "array([False, False, False,  True, False, False, False, False, False,\n",
       "       False,  True, False, False,  True, False,  True, False,  True,\n",
       "       False, False, False,  True, False, False,  True,  True, False,\n",
       "       False,  True, False, False, False, False, False, False, False,\n",
       "        True, False, False, False, False, False,  True,  True, False,\n",
       "       False, False, False, False, False, False,  True, False, False,\n",
       "       False, False, False, False, False, False, False, False,  True,\n",
       "        True, False, False])"
      ]
     },
     "execution_count": 265,
     "metadata": {},
     "output_type": "execute_result"
    }
   ],
   "source": [
    "rfe.support_"
   ]
  },
  {
   "cell_type": "code",
   "execution_count": 266,
   "metadata": {},
   "outputs": [
    {
     "data": {
      "text/plain": [
       "[('Do Not Email', False, 48),\n",
       " ('Do Not Call', False, 47),\n",
       " ('TotalVisits', False, 22),\n",
       " ('Total Time Spent on Website', True, 1),\n",
       " ('Page Views Per Visit', False, 23),\n",
       " ('Search', False, 46),\n",
       " ('Newspaper Article', False, 8),\n",
       " ('X Education Forums', False, 49),\n",
       " ('Newspaper', False, 52),\n",
       " ('Digital Advertisement', False, 35),\n",
       " ('Through Recommendations', True, 1),\n",
       " ('A free copy of Mastering The Interview', False, 44),\n",
       " ('Lead Origin_Landing Page Submission', False, 36),\n",
       " ('Lead Origin_Lead Add Form', True, 1),\n",
       " ('Lead Origin_Lead Import', False, 14),\n",
       " ('Lead Source_Direct Traffic', True, 1),\n",
       " ('Lead Source_Facebook', False, 42),\n",
       " ('Lead Source_Google', True, 1),\n",
       " ('Lead Source_Live Chat', False, 37),\n",
       " ('Lead Source_NC_EDM', False, 33),\n",
       " ('Lead Source_Olark Chat', False, 15),\n",
       " ('Lead Source_Organic Search', True, 1),\n",
       " ('Lead Source_Pay per Click Ads', False, 34),\n",
       " ('Lead Source_Press_Release', False, 39),\n",
       " ('Lead Source_Reference', True, 1),\n",
       " ('Lead Source_Referral Sites', True, 1),\n",
       " ('Lead Source_Social Media', False, 13),\n",
       " ('Lead Source_WeLearn', False, 26),\n",
       " ('Lead Source_Welingak Website', True, 1),\n",
       " ('Lead Source_bing', False, 31),\n",
       " ('Lead Source_blog', False, 51),\n",
       " ('Lead Source_google', False, 30),\n",
       " ('Lead Source_testone', False, 27),\n",
       " ('Lead Source_welearnblog_Home', False, 25),\n",
       " ('Lead Source_youtubechannel', False, 50),\n",
       " ('Last Activity_Converted to Lead', False, 2),\n",
       " ('Last Activity_Email Bounced', True, 1),\n",
       " ('Last Activity_Email Link Clicked', False, 7),\n",
       " ('Last Activity_Email Marked Spam', False, 40),\n",
       " ('Last Activity_Email Opened', False, 29),\n",
       " ('Last Activity_Email Received', False, 24),\n",
       " ('Last Activity_Form Submitted on Website', False, 3),\n",
       " ('Last Activity_Had a Phone Conversation', True, 1),\n",
       " ('Last Activity_Olark Chat Conversation', True, 1),\n",
       " ('Last Activity_Page Visited on Website', False, 6),\n",
       " ('Last Activity_Resubscribed to emails', False, 4),\n",
       " ('Last Activity_SMS Sent', False, 28),\n",
       " ('Last Activity_Unreachable', False, 45),\n",
       " ('Last Activity_Unsubscribed', False, 17),\n",
       " ('Last Activity_View in browser link Clicked', False, 20),\n",
       " ('Last Activity_Visited Booth in Tradeshow', False, 43),\n",
       " ('Last Notable Activity_Email Bounced', True, 1),\n",
       " ('Last Notable Activity_Email Link Clicked', False, 16),\n",
       " ('Last Notable Activity_Email Marked Spam', False, 38),\n",
       " ('Last Notable Activity_Email Opened', False, 12),\n",
       " ('Last Notable Activity_Email Received', False, 18),\n",
       " ('Last Notable Activity_Form Submitted on Website', False, 41),\n",
       " ('Last Notable Activity_Had a Phone Conversation', False, 19),\n",
       " ('Last Notable Activity_Modified', False, 10),\n",
       " ('Last Notable Activity_Olark Chat Conversation', False, 11),\n",
       " ('Last Notable Activity_Page Visited on Website', False, 21),\n",
       " ('Last Notable Activity_Resubscribed to emails', False, 5),\n",
       " ('Last Notable Activity_SMS Sent', True, 1),\n",
       " ('Last Notable Activity_Unreachable', True, 1),\n",
       " ('Last Notable Activity_Unsubscribed', False, 9),\n",
       " ('Last Notable Activity_View in browser link Clicked', False, 32)]"
      ]
     },
     "execution_count": 266,
     "metadata": {},
     "output_type": "execute_result"
    }
   ],
   "source": [
    "# List of variables with the rfe ranking and the rfesupport status\n",
    "list(zip(X_train.columns, rfe.support_, rfe.ranking_))"
   ]
  },
  {
   "cell_type": "code",
   "execution_count": 267,
   "metadata": {},
   "outputs": [],
   "source": [
    "# Storing the 15 variables selected by RFE in col variable\n",
    "col = X_train.columns[rfe.support_]"
   ]
  },
  {
   "cell_type": "code",
   "execution_count": 268,
   "metadata": {},
   "outputs": [
    {
     "data": {
      "text/plain": [
       "Index(['Do Not Email', 'Do Not Call', 'TotalVisits', 'Page Views Per Visit',\n",
       "       'Search', 'Newspaper Article', 'X Education Forums', 'Newspaper',\n",
       "       'Digital Advertisement', 'A free copy of Mastering The Interview',\n",
       "       'Lead Origin_Landing Page Submission', 'Lead Origin_Lead Import',\n",
       "       'Lead Source_Facebook', 'Lead Source_Live Chat', 'Lead Source_NC_EDM',\n",
       "       'Lead Source_Olark Chat', 'Lead Source_Pay per Click Ads',\n",
       "       'Lead Source_Press_Release', 'Lead Source_Social Media',\n",
       "       'Lead Source_WeLearn', 'Lead Source_bing', 'Lead Source_blog',\n",
       "       'Lead Source_google', 'Lead Source_testone',\n",
       "       'Lead Source_welearnblog_Home', 'Lead Source_youtubechannel',\n",
       "       'Last Activity_Converted to Lead', 'Last Activity_Email Link Clicked',\n",
       "       'Last Activity_Email Marked Spam', 'Last Activity_Email Opened',\n",
       "       'Last Activity_Email Received',\n",
       "       'Last Activity_Form Submitted on Website',\n",
       "       'Last Activity_Page Visited on Website',\n",
       "       'Last Activity_Resubscribed to emails', 'Last Activity_SMS Sent',\n",
       "       'Last Activity_Unreachable', 'Last Activity_Unsubscribed',\n",
       "       'Last Activity_View in browser link Clicked',\n",
       "       'Last Activity_Visited Booth in Tradeshow',\n",
       "       'Last Notable Activity_Email Link Clicked',\n",
       "       'Last Notable Activity_Email Marked Spam',\n",
       "       'Last Notable Activity_Email Opened',\n",
       "       'Last Notable Activity_Email Received',\n",
       "       'Last Notable Activity_Form Submitted on Website',\n",
       "       'Last Notable Activity_Had a Phone Conversation',\n",
       "       'Last Notable Activity_Modified',\n",
       "       'Last Notable Activity_Olark Chat Conversation',\n",
       "       'Last Notable Activity_Page Visited on Website',\n",
       "       'Last Notable Activity_Resubscribed to emails',\n",
       "       'Last Notable Activity_Unsubscribed',\n",
       "       'Last Notable Activity_View in browser link Clicked'],\n",
       "      dtype='object')"
      ]
     },
     "execution_count": 268,
     "metadata": {},
     "output_type": "execute_result"
    }
   ],
   "source": [
    "#Displaying 15 variables selected by RFE\n",
    "X_train.columns[~rfe.support_]"
   ]
  },
  {
   "cell_type": "code",
   "execution_count": 269,
   "metadata": {},
   "outputs": [
    {
     "data": {
      "text/html": [
       "<table class=\"simpletable\">\n",
       "<caption>Generalized Linear Model Regression Results</caption>\n",
       "<tr>\n",
       "  <th>Dep. Variable:</th>      <td>Converted</td>    <th>  No. Observations:  </th>  <td>  6104</td>  \n",
       "</tr>\n",
       "<tr>\n",
       "  <th>Model:</th>                 <td>GLM</td>       <th>  Df Residuals:      </th>  <td>  6088</td>  \n",
       "</tr>\n",
       "<tr>\n",
       "  <th>Model Family:</th>       <td>Binomial</td>     <th>  Df Model:          </th>  <td>    15</td>  \n",
       "</tr>\n",
       "<tr>\n",
       "  <th>Link Function:</th>        <td>logit</td>      <th>  Scale:             </th> <td>  1.0000</td> \n",
       "</tr>\n",
       "<tr>\n",
       "  <th>Method:</th>               <td>IRLS</td>       <th>  Log-Likelihood:    </th> <td> -2731.7</td> \n",
       "</tr>\n",
       "<tr>\n",
       "  <th>Date:</th>           <td>Mon, 10 Jun 2019</td> <th>  Deviance:          </th> <td>  5463.4</td> \n",
       "</tr>\n",
       "<tr>\n",
       "  <th>Time:</th>               <td>20:21:50</td>     <th>  Pearson chi2:      </th> <td>6.21e+03</td> \n",
       "</tr>\n",
       "<tr>\n",
       "  <th>No. Iterations:</th>         <td>7</td>        <th>  Covariance Type:   </th> <td>nonrobust</td>\n",
       "</tr>\n",
       "</table>\n",
       "<table class=\"simpletable\">\n",
       "<tr>\n",
       "                     <td></td>                       <th>coef</th>     <th>std err</th>      <th>z</th>      <th>P>|z|</th>  <th>[0.025</th>    <th>0.975]</th>  \n",
       "</tr>\n",
       "<tr>\n",
       "  <th>const</th>                                  <td>   -0.1414</td> <td>    0.087</td> <td>   -1.617</td> <td> 0.106</td> <td>   -0.313</td> <td>    0.030</td>\n",
       "</tr>\n",
       "<tr>\n",
       "  <th>Total Time Spent on Website</th>            <td>    1.0898</td> <td>    0.039</td> <td>   27.999</td> <td> 0.000</td> <td>    1.013</td> <td>    1.166</td>\n",
       "</tr>\n",
       "<tr>\n",
       "  <th>Through Recommendations</th>                <td>    2.6334</td> <td>    1.245</td> <td>    2.115</td> <td> 0.034</td> <td>    0.193</td> <td>    5.073</td>\n",
       "</tr>\n",
       "<tr>\n",
       "  <th>Lead Origin_Lead Add Form</th>              <td>    0.6075</td> <td>    0.973</td> <td>    0.624</td> <td> 0.532</td> <td>   -1.299</td> <td>    2.514</td>\n",
       "</tr>\n",
       "<tr>\n",
       "  <th>Lead Source_Direct Traffic</th>             <td>   -1.4346</td> <td>    0.113</td> <td>  -12.748</td> <td> 0.000</td> <td>   -1.655</td> <td>   -1.214</td>\n",
       "</tr>\n",
       "<tr>\n",
       "  <th>Lead Source_Google</th>                     <td>   -0.9970</td> <td>    0.107</td> <td>   -9.286</td> <td> 0.000</td> <td>   -1.207</td> <td>   -0.787</td>\n",
       "</tr>\n",
       "<tr>\n",
       "  <th>Lead Source_Organic Search</th>             <td>   -1.2044</td> <td>    0.132</td> <td>   -9.127</td> <td> 0.000</td> <td>   -1.463</td> <td>   -0.946</td>\n",
       "</tr>\n",
       "<tr>\n",
       "  <th>Lead Source_Reference</th>                  <td>    2.6470</td> <td>    0.999</td> <td>    2.649</td> <td> 0.008</td> <td>    0.689</td> <td>    4.606</td>\n",
       "</tr>\n",
       "<tr>\n",
       "  <th>Lead Source_Referral Sites</th>             <td>   -1.1209</td> <td>    0.312</td> <td>   -3.591</td> <td> 0.000</td> <td>   -1.733</td> <td>   -0.509</td>\n",
       "</tr>\n",
       "<tr>\n",
       "  <th>Lead Source_Welingak Website</th>           <td>    4.4685</td> <td>    1.401</td> <td>    3.190</td> <td> 0.001</td> <td>    1.723</td> <td>    7.214</td>\n",
       "</tr>\n",
       "<tr>\n",
       "  <th>Last Activity_Email Bounced</th>            <td>   -2.9588</td> <td>    0.594</td> <td>   -4.984</td> <td> 0.000</td> <td>   -4.122</td> <td>   -1.795</td>\n",
       "</tr>\n",
       "<tr>\n",
       "  <th>Last Activity_Had a Phone Conversation</th> <td>    2.6145</td> <td>    0.801</td> <td>    3.263</td> <td> 0.001</td> <td>    1.044</td> <td>    4.185</td>\n",
       "</tr>\n",
       "<tr>\n",
       "  <th>Last Activity_Olark Chat Conversation</th>  <td>   -1.5843</td> <td>    0.160</td> <td>   -9.885</td> <td> 0.000</td> <td>   -1.898</td> <td>   -1.270</td>\n",
       "</tr>\n",
       "<tr>\n",
       "  <th>Last Notable Activity_Email Bounced</th>    <td>    2.2047</td> <td>    0.731</td> <td>    3.015</td> <td> 0.003</td> <td>    0.771</td> <td>    3.638</td>\n",
       "</tr>\n",
       "<tr>\n",
       "  <th>Last Notable Activity_SMS Sent</th>         <td>    1.5980</td> <td>    0.078</td> <td>   20.574</td> <td> 0.000</td> <td>    1.446</td> <td>    1.750</td>\n",
       "</tr>\n",
       "<tr>\n",
       "  <th>Last Notable Activity_Unreachable</th>      <td>    1.9739</td> <td>    0.510</td> <td>    3.872</td> <td> 0.000</td> <td>    0.975</td> <td>    2.973</td>\n",
       "</tr>\n",
       "</table>"
      ],
      "text/plain": [
       "<class 'statsmodels.iolib.summary.Summary'>\n",
       "\"\"\"\n",
       "                 Generalized Linear Model Regression Results                  \n",
       "==============================================================================\n",
       "Dep. Variable:              Converted   No. Observations:                 6104\n",
       "Model:                            GLM   Df Residuals:                     6088\n",
       "Model Family:                Binomial   Df Model:                           15\n",
       "Link Function:                  logit   Scale:                          1.0000\n",
       "Method:                          IRLS   Log-Likelihood:                -2731.7\n",
       "Date:                Mon, 10 Jun 2019   Deviance:                       5463.4\n",
       "Time:                        20:21:50   Pearson chi2:                 6.21e+03\n",
       "No. Iterations:                     7   Covariance Type:             nonrobust\n",
       "==========================================================================================================\n",
       "                                             coef    std err          z      P>|z|      [0.025      0.975]\n",
       "----------------------------------------------------------------------------------------------------------\n",
       "const                                     -0.1414      0.087     -1.617      0.106      -0.313       0.030\n",
       "Total Time Spent on Website                1.0898      0.039     27.999      0.000       1.013       1.166\n",
       "Through Recommendations                    2.6334      1.245      2.115      0.034       0.193       5.073\n",
       "Lead Origin_Lead Add Form                  0.6075      0.973      0.624      0.532      -1.299       2.514\n",
       "Lead Source_Direct Traffic                -1.4346      0.113    -12.748      0.000      -1.655      -1.214\n",
       "Lead Source_Google                        -0.9970      0.107     -9.286      0.000      -1.207      -0.787\n",
       "Lead Source_Organic Search                -1.2044      0.132     -9.127      0.000      -1.463      -0.946\n",
       "Lead Source_Reference                      2.6470      0.999      2.649      0.008       0.689       4.606\n",
       "Lead Source_Referral Sites                -1.1209      0.312     -3.591      0.000      -1.733      -0.509\n",
       "Lead Source_Welingak Website               4.4685      1.401      3.190      0.001       1.723       7.214\n",
       "Last Activity_Email Bounced               -2.9588      0.594     -4.984      0.000      -4.122      -1.795\n",
       "Last Activity_Had a Phone Conversation     2.6145      0.801      3.263      0.001       1.044       4.185\n",
       "Last Activity_Olark Chat Conversation     -1.5843      0.160     -9.885      0.000      -1.898      -1.270\n",
       "Last Notable Activity_Email Bounced        2.2047      0.731      3.015      0.003       0.771       3.638\n",
       "Last Notable Activity_SMS Sent             1.5980      0.078     20.574      0.000       1.446       1.750\n",
       "Last Notable Activity_Unreachable          1.9739      0.510      3.872      0.000       0.975       2.973\n",
       "==========================================================================================================\n",
       "\"\"\""
      ]
     },
     "execution_count": 269,
     "metadata": {},
     "output_type": "execute_result"
    }
   ],
   "source": [
    "#Building logistic regression model with 15 variables selected using RFE\n",
    "X_train_sm = sm.add_constant(X_train[col])\n",
    "logm2 = sm.GLM(y_train,X_train_sm, family = sm.families.Binomial())\n",
    "res = logm2.fit()\n",
    "\n",
    "#Displaying the summary of the logistic regression model\n",
    "res.summary()"
   ]
  },
  {
   "cell_type": "code",
   "execution_count": 270,
   "metadata": {},
   "outputs": [],
   "source": [
    "# Checking the VIF values of the feature variables. \n",
    "from statsmodels.stats.outliers_influence import variance_inflation_factor"
   ]
  },
  {
   "cell_type": "code",
   "execution_count": 271,
   "metadata": {},
   "outputs": [
    {
     "data": {
      "text/html": [
       "<div>\n",
       "<style scoped>\n",
       "    .dataframe tbody tr th:only-of-type {\n",
       "        vertical-align: middle;\n",
       "    }\n",
       "\n",
       "    .dataframe tbody tr th {\n",
       "        vertical-align: top;\n",
       "    }\n",
       "\n",
       "    .dataframe thead th {\n",
       "        text-align: right;\n",
       "    }\n",
       "</style>\n",
       "<table border=\"1\" class=\"dataframe\">\n",
       "  <thead>\n",
       "    <tr style=\"text-align: right;\">\n",
       "      <th></th>\n",
       "      <th>Features</th>\n",
       "      <th>VIF</th>\n",
       "    </tr>\n",
       "  </thead>\n",
       "  <tbody>\n",
       "    <tr>\n",
       "      <th>2</th>\n",
       "      <td>Lead Origin_Lead Add Form</td>\n",
       "      <td>64.21</td>\n",
       "    </tr>\n",
       "    <tr>\n",
       "      <th>6</th>\n",
       "      <td>Lead Source_Reference</td>\n",
       "      <td>49.86</td>\n",
       "    </tr>\n",
       "    <tr>\n",
       "      <th>8</th>\n",
       "      <td>Lead Source_Welingak Website</td>\n",
       "      <td>15.34</td>\n",
       "    </tr>\n",
       "    <tr>\n",
       "      <th>9</th>\n",
       "      <td>Last Activity_Email Bounced</td>\n",
       "      <td>1.34</td>\n",
       "    </tr>\n",
       "    <tr>\n",
       "      <th>13</th>\n",
       "      <td>Last Notable Activity_SMS Sent</td>\n",
       "      <td>1.34</td>\n",
       "    </tr>\n",
       "    <tr>\n",
       "      <th>12</th>\n",
       "      <td>Last Notable Activity_Email Bounced</td>\n",
       "      <td>1.27</td>\n",
       "    </tr>\n",
       "    <tr>\n",
       "      <th>4</th>\n",
       "      <td>Lead Source_Google</td>\n",
       "      <td>1.18</td>\n",
       "    </tr>\n",
       "    <tr>\n",
       "      <th>0</th>\n",
       "      <td>Total Time Spent on Website</td>\n",
       "      <td>1.17</td>\n",
       "    </tr>\n",
       "    <tr>\n",
       "      <th>3</th>\n",
       "      <td>Lead Source_Direct Traffic</td>\n",
       "      <td>1.17</td>\n",
       "    </tr>\n",
       "    <tr>\n",
       "      <th>5</th>\n",
       "      <td>Lead Source_Organic Search</td>\n",
       "      <td>1.09</td>\n",
       "    </tr>\n",
       "    <tr>\n",
       "      <th>11</th>\n",
       "      <td>Last Activity_Olark Chat Conversation</td>\n",
       "      <td>1.07</td>\n",
       "    </tr>\n",
       "    <tr>\n",
       "      <th>14</th>\n",
       "      <td>Last Notable Activity_Unreachable</td>\n",
       "      <td>1.02</td>\n",
       "    </tr>\n",
       "    <tr>\n",
       "      <th>1</th>\n",
       "      <td>Through Recommendations</td>\n",
       "      <td>1.01</td>\n",
       "    </tr>\n",
       "    <tr>\n",
       "      <th>7</th>\n",
       "      <td>Lead Source_Referral Sites</td>\n",
       "      <td>1.01</td>\n",
       "    </tr>\n",
       "    <tr>\n",
       "      <th>10</th>\n",
       "      <td>Last Activity_Had a Phone Conversation</td>\n",
       "      <td>1.01</td>\n",
       "    </tr>\n",
       "  </tbody>\n",
       "</table>\n",
       "</div>"
      ],
      "text/plain": [
       "                                  Features    VIF\n",
       "2                Lead Origin_Lead Add Form  64.21\n",
       "6                    Lead Source_Reference  49.86\n",
       "8             Lead Source_Welingak Website  15.34\n",
       "9              Last Activity_Email Bounced   1.34\n",
       "13          Last Notable Activity_SMS Sent   1.34\n",
       "12     Last Notable Activity_Email Bounced   1.27\n",
       "4                       Lead Source_Google   1.18\n",
       "0              Total Time Spent on Website   1.17\n",
       "3               Lead Source_Direct Traffic   1.17\n",
       "5               Lead Source_Organic Search   1.09\n",
       "11   Last Activity_Olark Chat Conversation   1.07\n",
       "14       Last Notable Activity_Unreachable   1.02\n",
       "1                  Through Recommendations   1.01\n",
       "7               Lead Source_Referral Sites   1.01\n",
       "10  Last Activity_Had a Phone Conversation   1.01"
      ]
     },
     "execution_count": 271,
     "metadata": {},
     "output_type": "execute_result"
    }
   ],
   "source": [
    "# Create a dataframe that will contain the names of all the feature variables and their respective VIFs\n",
    "vif = pd.DataFrame()\n",
    "vif['Features'] = X_train[col].columns\n",
    "vif['VIF'] = [variance_inflation_factor(X_train[col].values, i) for i in range(X_train[col].shape[1])]\n",
    "vif['VIF'] = round(vif['VIF'], 2)\n",
    "vif = vif.sort_values(by = \"VIF\", ascending = False)\n",
    "vif"
   ]
  },
  {
   "cell_type": "code",
   "execution_count": 272,
   "metadata": {},
   "outputs": [
    {
     "data": {
      "text/plain": [
       "Index(['Total Time Spent on Website', 'Through Recommendations',\n",
       "       'Lead Source_Direct Traffic', 'Lead Source_Google',\n",
       "       'Lead Source_Organic Search', 'Lead Source_Reference',\n",
       "       'Lead Source_Referral Sites', 'Lead Source_Welingak Website',\n",
       "       'Last Activity_Email Bounced', 'Last Activity_Had a Phone Conversation',\n",
       "       'Last Activity_Olark Chat Conversation',\n",
       "       'Last Notable Activity_Email Bounced', 'Last Notable Activity_SMS Sent',\n",
       "       'Last Notable Activity_Unreachable'],\n",
       "      dtype='object')"
      ]
     },
     "execution_count": 272,
     "metadata": {},
     "output_type": "execute_result"
    }
   ],
   "source": [
    "#Dropping the Lead Origin_Lead Add Form as it has high P and VIF values\n",
    "col = col.drop('Lead Origin_Lead Add Form', 1)\n",
    "col"
   ]
  },
  {
   "cell_type": "code",
   "execution_count": 273,
   "metadata": {},
   "outputs": [
    {
     "data": {
      "text/html": [
       "<table class=\"simpletable\">\n",
       "<caption>Generalized Linear Model Regression Results</caption>\n",
       "<tr>\n",
       "  <th>Dep. Variable:</th>      <td>Converted</td>    <th>  No. Observations:  </th>  <td>  6104</td>  \n",
       "</tr>\n",
       "<tr>\n",
       "  <th>Model:</th>                 <td>GLM</td>       <th>  Df Residuals:      </th>  <td>  6089</td>  \n",
       "</tr>\n",
       "<tr>\n",
       "  <th>Model Family:</th>       <td>Binomial</td>     <th>  Df Model:          </th>  <td>    14</td>  \n",
       "</tr>\n",
       "<tr>\n",
       "  <th>Link Function:</th>        <td>logit</td>      <th>  Scale:             </th> <td>  1.0000</td> \n",
       "</tr>\n",
       "<tr>\n",
       "  <th>Method:</th>               <td>IRLS</td>       <th>  Log-Likelihood:    </th> <td> -2731.9</td> \n",
       "</tr>\n",
       "<tr>\n",
       "  <th>Date:</th>           <td>Mon, 10 Jun 2019</td> <th>  Deviance:          </th> <td>  5463.8</td> \n",
       "</tr>\n",
       "<tr>\n",
       "  <th>Time:</th>               <td>20:21:51</td>     <th>  Pearson chi2:      </th> <td>6.22e+03</td> \n",
       "</tr>\n",
       "<tr>\n",
       "  <th>No. Iterations:</th>         <td>7</td>        <th>  Covariance Type:   </th> <td>nonrobust</td>\n",
       "</tr>\n",
       "</table>\n",
       "<table class=\"simpletable\">\n",
       "<tr>\n",
       "                     <td></td>                       <th>coef</th>     <th>std err</th>      <th>z</th>      <th>P>|z|</th>  <th>[0.025</th>    <th>0.975]</th>  \n",
       "</tr>\n",
       "<tr>\n",
       "  <th>const</th>                                  <td>   -0.1369</td> <td>    0.087</td> <td>   -1.571</td> <td> 0.116</td> <td>   -0.308</td> <td>    0.034</td>\n",
       "</tr>\n",
       "<tr>\n",
       "  <th>Total Time Spent on Website</th>            <td>    1.0902</td> <td>    0.039</td> <td>   28.016</td> <td> 0.000</td> <td>    1.014</td> <td>    1.166</td>\n",
       "</tr>\n",
       "<tr>\n",
       "  <th>Through Recommendations</th>                <td>    2.6338</td> <td>    1.245</td> <td>    2.116</td> <td> 0.034</td> <td>    0.194</td> <td>    5.074</td>\n",
       "</tr>\n",
       "<tr>\n",
       "  <th>Lead Source_Direct Traffic</th>             <td>   -1.4395</td> <td>    0.112</td> <td>  -12.823</td> <td> 0.000</td> <td>   -1.659</td> <td>   -1.219</td>\n",
       "</tr>\n",
       "<tr>\n",
       "  <th>Lead Source_Google</th>                     <td>   -1.0018</td> <td>    0.107</td> <td>   -9.355</td> <td> 0.000</td> <td>   -1.212</td> <td>   -0.792</td>\n",
       "</tr>\n",
       "<tr>\n",
       "  <th>Lead Source_Organic Search</th>             <td>   -1.2092</td> <td>    0.132</td> <td>   -9.180</td> <td> 0.000</td> <td>   -1.467</td> <td>   -0.951</td>\n",
       "</tr>\n",
       "<tr>\n",
       "  <th>Lead Source_Reference</th>                  <td>    3.2504</td> <td>    0.254</td> <td>   12.800</td> <td> 0.000</td> <td>    2.753</td> <td>    3.748</td>\n",
       "</tr>\n",
       "<tr>\n",
       "  <th>Lead Source_Referral Sites</th>             <td>   -1.1254</td> <td>    0.312</td> <td>   -3.606</td> <td> 0.000</td> <td>   -1.737</td> <td>   -0.514</td>\n",
       "</tr>\n",
       "<tr>\n",
       "  <th>Lead Source_Welingak Website</th>           <td>    5.0720</td> <td>    1.014</td> <td>    5.003</td> <td> 0.000</td> <td>    3.085</td> <td>    7.059</td>\n",
       "</tr>\n",
       "<tr>\n",
       "  <th>Last Activity_Email Bounced</th>            <td>   -2.9595</td> <td>    0.594</td> <td>   -4.985</td> <td> 0.000</td> <td>   -4.123</td> <td>   -1.796</td>\n",
       "</tr>\n",
       "<tr>\n",
       "  <th>Last Activity_Had a Phone Conversation</th> <td>    2.6147</td> <td>    0.801</td> <td>    3.263</td> <td> 0.001</td> <td>    1.044</td> <td>    4.185</td>\n",
       "</tr>\n",
       "<tr>\n",
       "  <th>Last Activity_Olark Chat Conversation</th>  <td>   -1.5871</td> <td>    0.160</td> <td>   -9.907</td> <td> 0.000</td> <td>   -1.901</td> <td>   -1.273</td>\n",
       "</tr>\n",
       "<tr>\n",
       "  <th>Last Notable Activity_Email Bounced</th>    <td>    2.2046</td> <td>    0.731</td> <td>    3.015</td> <td> 0.003</td> <td>    0.771</td> <td>    3.638</td>\n",
       "</tr>\n",
       "<tr>\n",
       "  <th>Last Notable Activity_SMS Sent</th>         <td>    1.5986</td> <td>    0.078</td> <td>   20.582</td> <td> 0.000</td> <td>    1.446</td> <td>    1.751</td>\n",
       "</tr>\n",
       "<tr>\n",
       "  <th>Last Notable Activity_Unreachable</th>      <td>    1.9742</td> <td>    0.510</td> <td>    3.872</td> <td> 0.000</td> <td>    0.975</td> <td>    2.973</td>\n",
       "</tr>\n",
       "</table>"
      ],
      "text/plain": [
       "<class 'statsmodels.iolib.summary.Summary'>\n",
       "\"\"\"\n",
       "                 Generalized Linear Model Regression Results                  \n",
       "==============================================================================\n",
       "Dep. Variable:              Converted   No. Observations:                 6104\n",
       "Model:                            GLM   Df Residuals:                     6089\n",
       "Model Family:                Binomial   Df Model:                           14\n",
       "Link Function:                  logit   Scale:                          1.0000\n",
       "Method:                          IRLS   Log-Likelihood:                -2731.9\n",
       "Date:                Mon, 10 Jun 2019   Deviance:                       5463.8\n",
       "Time:                        20:21:51   Pearson chi2:                 6.22e+03\n",
       "No. Iterations:                     7   Covariance Type:             nonrobust\n",
       "==========================================================================================================\n",
       "                                             coef    std err          z      P>|z|      [0.025      0.975]\n",
       "----------------------------------------------------------------------------------------------------------\n",
       "const                                     -0.1369      0.087     -1.571      0.116      -0.308       0.034\n",
       "Total Time Spent on Website                1.0902      0.039     28.016      0.000       1.014       1.166\n",
       "Through Recommendations                    2.6338      1.245      2.116      0.034       0.194       5.074\n",
       "Lead Source_Direct Traffic                -1.4395      0.112    -12.823      0.000      -1.659      -1.219\n",
       "Lead Source_Google                        -1.0018      0.107     -9.355      0.000      -1.212      -0.792\n",
       "Lead Source_Organic Search                -1.2092      0.132     -9.180      0.000      -1.467      -0.951\n",
       "Lead Source_Reference                      3.2504      0.254     12.800      0.000       2.753       3.748\n",
       "Lead Source_Referral Sites                -1.1254      0.312     -3.606      0.000      -1.737      -0.514\n",
       "Lead Source_Welingak Website               5.0720      1.014      5.003      0.000       3.085       7.059\n",
       "Last Activity_Email Bounced               -2.9595      0.594     -4.985      0.000      -4.123      -1.796\n",
       "Last Activity_Had a Phone Conversation     2.6147      0.801      3.263      0.001       1.044       4.185\n",
       "Last Activity_Olark Chat Conversation     -1.5871      0.160     -9.907      0.000      -1.901      -1.273\n",
       "Last Notable Activity_Email Bounced        2.2046      0.731      3.015      0.003       0.771       3.638\n",
       "Last Notable Activity_SMS Sent             1.5986      0.078     20.582      0.000       1.446       1.751\n",
       "Last Notable Activity_Unreachable          1.9742      0.510      3.872      0.000       0.975       2.973\n",
       "==========================================================================================================\n",
       "\"\"\""
      ]
     },
     "execution_count": 273,
     "metadata": {},
     "output_type": "execute_result"
    }
   ],
   "source": [
    "#Building the logistic regression model again\n",
    "X_train_sm = sm.add_constant(X_train[col])\n",
    "logm3 = sm.GLM(y_train,X_train_sm, family = sm.families.Binomial())\n",
    "res = logm3.fit()\n",
    "\n",
    "#Displaying the summary of the logistic regression model\n",
    "res.summary()"
   ]
  },
  {
   "cell_type": "code",
   "execution_count": 274,
   "metadata": {},
   "outputs": [
    {
     "data": {
      "text/html": [
       "<div>\n",
       "<style scoped>\n",
       "    .dataframe tbody tr th:only-of-type {\n",
       "        vertical-align: middle;\n",
       "    }\n",
       "\n",
       "    .dataframe tbody tr th {\n",
       "        vertical-align: top;\n",
       "    }\n",
       "\n",
       "    .dataframe thead th {\n",
       "        text-align: right;\n",
       "    }\n",
       "</style>\n",
       "<table border=\"1\" class=\"dataframe\">\n",
       "  <thead>\n",
       "    <tr style=\"text-align: right;\">\n",
       "      <th></th>\n",
       "      <th>Features</th>\n",
       "      <th>VIF</th>\n",
       "    </tr>\n",
       "  </thead>\n",
       "  <tbody>\n",
       "    <tr>\n",
       "      <th>8</th>\n",
       "      <td>Last Activity_Email Bounced</td>\n",
       "      <td>1.34</td>\n",
       "    </tr>\n",
       "    <tr>\n",
       "      <th>12</th>\n",
       "      <td>Last Notable Activity_SMS Sent</td>\n",
       "      <td>1.34</td>\n",
       "    </tr>\n",
       "    <tr>\n",
       "      <th>11</th>\n",
       "      <td>Last Notable Activity_Email Bounced</td>\n",
       "      <td>1.27</td>\n",
       "    </tr>\n",
       "    <tr>\n",
       "      <th>3</th>\n",
       "      <td>Lead Source_Google</td>\n",
       "      <td>1.18</td>\n",
       "    </tr>\n",
       "    <tr>\n",
       "      <th>0</th>\n",
       "      <td>Total Time Spent on Website</td>\n",
       "      <td>1.17</td>\n",
       "    </tr>\n",
       "    <tr>\n",
       "      <th>2</th>\n",
       "      <td>Lead Source_Direct Traffic</td>\n",
       "      <td>1.17</td>\n",
       "    </tr>\n",
       "    <tr>\n",
       "      <th>4</th>\n",
       "      <td>Lead Source_Organic Search</td>\n",
       "      <td>1.09</td>\n",
       "    </tr>\n",
       "    <tr>\n",
       "      <th>5</th>\n",
       "      <td>Lead Source_Reference</td>\n",
       "      <td>1.08</td>\n",
       "    </tr>\n",
       "    <tr>\n",
       "      <th>10</th>\n",
       "      <td>Last Activity_Olark Chat Conversation</td>\n",
       "      <td>1.07</td>\n",
       "    </tr>\n",
       "    <tr>\n",
       "      <th>7</th>\n",
       "      <td>Lead Source_Welingak Website</td>\n",
       "      <td>1.03</td>\n",
       "    </tr>\n",
       "    <tr>\n",
       "      <th>13</th>\n",
       "      <td>Last Notable Activity_Unreachable</td>\n",
       "      <td>1.02</td>\n",
       "    </tr>\n",
       "    <tr>\n",
       "      <th>1</th>\n",
       "      <td>Through Recommendations</td>\n",
       "      <td>1.01</td>\n",
       "    </tr>\n",
       "    <tr>\n",
       "      <th>6</th>\n",
       "      <td>Lead Source_Referral Sites</td>\n",
       "      <td>1.01</td>\n",
       "    </tr>\n",
       "    <tr>\n",
       "      <th>9</th>\n",
       "      <td>Last Activity_Had a Phone Conversation</td>\n",
       "      <td>1.01</td>\n",
       "    </tr>\n",
       "  </tbody>\n",
       "</table>\n",
       "</div>"
      ],
      "text/plain": [
       "                                  Features   VIF\n",
       "8              Last Activity_Email Bounced  1.34\n",
       "12          Last Notable Activity_SMS Sent  1.34\n",
       "11     Last Notable Activity_Email Bounced  1.27\n",
       "3                       Lead Source_Google  1.18\n",
       "0              Total Time Spent on Website  1.17\n",
       "2               Lead Source_Direct Traffic  1.17\n",
       "4               Lead Source_Organic Search  1.09\n",
       "5                    Lead Source_Reference  1.08\n",
       "10   Last Activity_Olark Chat Conversation  1.07\n",
       "7             Lead Source_Welingak Website  1.03\n",
       "13       Last Notable Activity_Unreachable  1.02\n",
       "1                  Through Recommendations  1.01\n",
       "6               Lead Source_Referral Sites  1.01\n",
       "9   Last Activity_Had a Phone Conversation  1.01"
      ]
     },
     "execution_count": 274,
     "metadata": {},
     "output_type": "execute_result"
    }
   ],
   "source": [
    "# Create a dataframe that will contain the names of all the feature variables and their respective VIFs\n",
    "vif = pd.DataFrame()\n",
    "vif['Features'] = X_train[col].columns\n",
    "vif['VIF'] = [variance_inflation_factor(X_train[col].values, i) for i in range(X_train[col].shape[1])]\n",
    "vif['VIF'] = round(vif['VIF'], 2)\n",
    "vif = vif.sort_values(by = \"VIF\", ascending = False)\n",
    "vif"
   ]
  },
  {
   "cell_type": "code",
   "execution_count": 275,
   "metadata": {},
   "outputs": [
    {
     "data": {
      "text/plain": [
       "array([0.66913665, 0.62338664, 0.54822376, 0.97716782, 0.38130556,\n",
       "       0.12481935, 0.11908125, 0.52556338, 0.14323274, 0.98021765])"
      ]
     },
     "execution_count": 275,
     "metadata": {},
     "output_type": "execute_result"
    }
   ],
   "source": [
    "# Getting the predicted values on the train set\n",
    "y_train_pred = res.predict(X_train_sm).values.reshape(-1)\n",
    "y_train_pred[:10]"
   ]
  },
  {
   "cell_type": "code",
   "execution_count": 276,
   "metadata": {},
   "outputs": [
    {
     "data": {
      "text/html": [
       "<div>\n",
       "<style scoped>\n",
       "    .dataframe tbody tr th:only-of-type {\n",
       "        vertical-align: middle;\n",
       "    }\n",
       "\n",
       "    .dataframe tbody tr th {\n",
       "        vertical-align: top;\n",
       "    }\n",
       "\n",
       "    .dataframe thead th {\n",
       "        text-align: right;\n",
       "    }\n",
       "</style>\n",
       "<table border=\"1\" class=\"dataframe\">\n",
       "  <thead>\n",
       "    <tr style=\"text-align: right;\">\n",
       "      <th></th>\n",
       "      <th>Converted</th>\n",
       "      <th>Conversion_Prob</th>\n",
       "      <th>Prospect ID</th>\n",
       "    </tr>\n",
       "  </thead>\n",
       "  <tbody>\n",
       "    <tr>\n",
       "      <th>0</th>\n",
       "      <td>1</td>\n",
       "      <td>0.669137</td>\n",
       "      <td>7220</td>\n",
       "    </tr>\n",
       "    <tr>\n",
       "      <th>1</th>\n",
       "      <td>0</td>\n",
       "      <td>0.623387</td>\n",
       "      <td>3383</td>\n",
       "    </tr>\n",
       "    <tr>\n",
       "      <th>2</th>\n",
       "      <td>0</td>\n",
       "      <td>0.548224</td>\n",
       "      <td>770</td>\n",
       "    </tr>\n",
       "    <tr>\n",
       "      <th>3</th>\n",
       "      <td>1</td>\n",
       "      <td>0.977168</td>\n",
       "      <td>5785</td>\n",
       "    </tr>\n",
       "    <tr>\n",
       "      <th>4</th>\n",
       "      <td>1</td>\n",
       "      <td>0.381306</td>\n",
       "      <td>5252</td>\n",
       "    </tr>\n",
       "  </tbody>\n",
       "</table>\n",
       "</div>"
      ],
      "text/plain": [
       "   Converted  Conversion_Prob  Prospect ID\n",
       "0          1         0.669137         7220\n",
       "1          0         0.623387         3383\n",
       "2          0         0.548224          770\n",
       "3          1         0.977168         5785\n",
       "4          1         0.381306         5252"
      ]
     },
     "execution_count": 276,
     "metadata": {},
     "output_type": "execute_result"
    }
   ],
   "source": [
    "# Creating a dataframe with the actual Converted flag and the predicted probabilities\n",
    "y_train_pred_final = pd.DataFrame({'Converted':y_train.values, 'Conversion_Prob':y_train_pred})\n",
    "y_train_pred_final['Prospect ID'] = y_train.index\n",
    "y_train_pred_final.head()"
   ]
  },
  {
   "cell_type": "markdown",
   "metadata": {},
   "source": [
    "## Making prediction on train data set"
   ]
  },
  {
   "cell_type": "code",
   "execution_count": 277,
   "metadata": {},
   "outputs": [
    {
     "data": {
      "text/html": [
       "<div>\n",
       "<style scoped>\n",
       "    .dataframe tbody tr th:only-of-type {\n",
       "        vertical-align: middle;\n",
       "    }\n",
       "\n",
       "    .dataframe tbody tr th {\n",
       "        vertical-align: top;\n",
       "    }\n",
       "\n",
       "    .dataframe thead th {\n",
       "        text-align: right;\n",
       "    }\n",
       "</style>\n",
       "<table border=\"1\" class=\"dataframe\">\n",
       "  <thead>\n",
       "    <tr style=\"text-align: right;\">\n",
       "      <th></th>\n",
       "      <th>Converted</th>\n",
       "      <th>Conversion_Prob</th>\n",
       "      <th>Prospect ID</th>\n",
       "      <th>Predicted</th>\n",
       "    </tr>\n",
       "  </thead>\n",
       "  <tbody>\n",
       "    <tr>\n",
       "      <th>0</th>\n",
       "      <td>1</td>\n",
       "      <td>0.669137</td>\n",
       "      <td>7220</td>\n",
       "      <td>1</td>\n",
       "    </tr>\n",
       "    <tr>\n",
       "      <th>1</th>\n",
       "      <td>0</td>\n",
       "      <td>0.623387</td>\n",
       "      <td>3383</td>\n",
       "      <td>1</td>\n",
       "    </tr>\n",
       "    <tr>\n",
       "      <th>2</th>\n",
       "      <td>0</td>\n",
       "      <td>0.548224</td>\n",
       "      <td>770</td>\n",
       "      <td>1</td>\n",
       "    </tr>\n",
       "    <tr>\n",
       "      <th>3</th>\n",
       "      <td>1</td>\n",
       "      <td>0.977168</td>\n",
       "      <td>5785</td>\n",
       "      <td>1</td>\n",
       "    </tr>\n",
       "    <tr>\n",
       "      <th>4</th>\n",
       "      <td>1</td>\n",
       "      <td>0.381306</td>\n",
       "      <td>5252</td>\n",
       "      <td>0</td>\n",
       "    </tr>\n",
       "  </tbody>\n",
       "</table>\n",
       "</div>"
      ],
      "text/plain": [
       "   Converted  Conversion_Prob  Prospect ID  Predicted\n",
       "0          1         0.669137         7220          1\n",
       "1          0         0.623387         3383          1\n",
       "2          0         0.548224          770          1\n",
       "3          1         0.977168         5785          1\n",
       "4          1         0.381306         5252          0"
      ]
     },
     "execution_count": 277,
     "metadata": {},
     "output_type": "execute_result"
    }
   ],
   "source": [
    "## Creating new column 'Predicted' with 1 if Conversion_Prob > 0.5 else 0\n",
    "y_train_pred_final['Predicted'] = y_train_pred_final.Conversion_Prob.map(lambda x: 1 if x > 0.5 else 0)\n",
    "\n",
    "# Let's see the head\n",
    "y_train_pred_final.head()"
   ]
  },
  {
   "cell_type": "markdown",
   "metadata": {},
   "source": [
    "## 9.Checking the metrics"
   ]
  },
  {
   "cell_type": "code",
   "execution_count": 278,
   "metadata": {},
   "outputs": [],
   "source": [
    "from sklearn import metrics"
   ]
  },
  {
   "cell_type": "code",
   "execution_count": 279,
   "metadata": {},
   "outputs": [],
   "source": [
    "#Checking the metrics of the logistic regression model built`"
   ]
  },
  {
   "cell_type": "code",
   "execution_count": 280,
   "metadata": {},
   "outputs": [
    {
     "name": "stdout",
     "output_type": "stream",
     "text": [
      "[[3328  481]\n",
      " [ 794 1501]]\n"
     ]
    }
   ],
   "source": [
    "# Confusion matrix \n",
    "confusion = metrics.confusion_matrix(y_train_pred_final.Converted, y_train_pred_final.Predicted)\n",
    "print(confusion)"
   ]
  },
  {
   "cell_type": "code",
   "execution_count": 281,
   "metadata": {},
   "outputs": [],
   "source": [
    "# Predicted     not_converted    converted\n",
    "# Actual\n",
    "# not_converted        3328       481\n",
    "# converted            794        1501  "
   ]
  },
  {
   "cell_type": "code",
   "execution_count": 282,
   "metadata": {},
   "outputs": [
    {
     "name": "stdout",
     "output_type": "stream",
     "text": [
      "0.7911205766710354\n"
     ]
    }
   ],
   "source": [
    "# Checking the overall accuracy.\n",
    "print(metrics.accuracy_score(y_train_pred_final.Converted, y_train_pred_final.Predicted))"
   ]
  },
  {
   "cell_type": "code",
   "execution_count": 283,
   "metadata": {},
   "outputs": [],
   "source": [
    "TP = confusion[1,1] # true positive \n",
    "TN = confusion[0,0] # true negatives\n",
    "FP = confusion[0,1] # false positives\n",
    "FN = confusion[1,0] # false negatives"
   ]
  },
  {
   "cell_type": "code",
   "execution_count": 284,
   "metadata": {},
   "outputs": [
    {
     "data": {
      "text/plain": [
       "0.6540305010893246"
      ]
     },
     "execution_count": 284,
     "metadata": {},
     "output_type": "execute_result"
    }
   ],
   "source": [
    "#Checking the sensitivity of our logistic regression model\n",
    "TP / float(TP+FN)"
   ]
  },
  {
   "cell_type": "code",
   "execution_count": 285,
   "metadata": {},
   "outputs": [
    {
     "data": {
      "text/plain": [
       "0.8737201365187713"
      ]
     },
     "execution_count": 285,
     "metadata": {},
     "output_type": "execute_result"
    }
   ],
   "source": [
    "#Checking the specificity\n",
    "TN / float(TN+FP)"
   ]
  },
  {
   "cell_type": "code",
   "execution_count": 286,
   "metadata": {},
   "outputs": [
    {
     "name": "stdout",
     "output_type": "stream",
     "text": [
      "0.12627986348122866\n"
     ]
    }
   ],
   "source": [
    "# Checking the false postive rate - predicting conversion when customer does not have converted\n",
    "print(FP/ float(TN+FP))"
   ]
  },
  {
   "cell_type": "code",
   "execution_count": 287,
   "metadata": {},
   "outputs": [
    {
     "name": "stdout",
     "output_type": "stream",
     "text": [
      "0.7573158425832492\n"
     ]
    }
   ],
   "source": [
    "#Checking the positive predictive value \n",
    "print (TP / float(TP+FP))"
   ]
  },
  {
   "cell_type": "code",
   "execution_count": 288,
   "metadata": {},
   "outputs": [
    {
     "name": "stdout",
     "output_type": "stream",
     "text": [
      "0.8073750606501698\n"
     ]
    }
   ],
   "source": [
    "#Checking the Negative predictive value\n",
    "print (TN / float(TN+ FN))"
   ]
  },
  {
   "cell_type": "markdown",
   "metadata": {},
   "source": [
    "## 10.Plotting ROC Curve"
   ]
  },
  {
   "cell_type": "code",
   "execution_count": 289,
   "metadata": {},
   "outputs": [],
   "source": [
    "def draw_roc( actual, probs ):\n",
    "    fpr, tpr, thresholds = metrics.roc_curve( actual, probs,\n",
    "                                              drop_intermediate = False )\n",
    "    auc_score = metrics.roc_auc_score( actual, probs )\n",
    "    plt.figure(figsize=(5, 5))\n",
    "    plt.plot( fpr, tpr, label='ROC curve (area = %0.2f)' % auc_score )\n",
    "    plt.plot([0, 1], [0, 1], 'k--')\n",
    "    plt.xlim([0.0, 1.0])\n",
    "    plt.ylim([0.0, 1.05])\n",
    "    plt.xlabel('False Positive Rate or [1 - True Negative Rate]')\n",
    "    plt.ylabel('True Positive Rate')\n",
    "    plt.title('Receiver operating characteristic example')\n",
    "    plt.legend(loc=\"lower right\")\n",
    "    plt.show()\n",
    "\n",
    "    return None"
   ]
  },
  {
   "cell_type": "code",
   "execution_count": 290,
   "metadata": {},
   "outputs": [],
   "source": [
    "fpr, tpr, thresholds = metrics.roc_curve( y_train_pred_final.Converted, y_train_pred_final.Conversion_Prob, drop_intermediate = False )"
   ]
  },
  {
   "cell_type": "code",
   "execution_count": 291,
   "metadata": {},
   "outputs": [
    {
     "data": {
      "image/png": "[encoded data removed]",
      "text/plain": [
       "<Figure size 360x360 with 1 Axes>"
      ]
     },
     "metadata": {
      "needs_background": "light"
     },
     "output_type": "display_data"
    }
   ],
   "source": [
    "draw_roc(y_train_pred_final.Converted, y_train_pred_final.Conversion_Prob)"
   ]
  },
  {
   "cell_type": "markdown",
   "metadata": {},
   "source": [
    "## 11.Finding Optimal Cutoff Point"
   ]
  },
  {
   "cell_type": "code",
   "execution_count": 292,
   "metadata": {},
   "outputs": [
    {
     "data": {
      "text/html": [
       "<div>\n",
       "<style scoped>\n",
       "    .dataframe tbody tr th:only-of-type {\n",
       "        vertical-align: middle;\n",
       "    }\n",
       "\n",
       "    .dataframe tbody tr th {\n",
       "        vertical-align: top;\n",
       "    }\n",
       "\n",
       "    .dataframe thead th {\n",
       "        text-align: right;\n",
       "    }\n",
       "</style>\n",
       "<table border=\"1\" class=\"dataframe\">\n",
       "  <thead>\n",
       "    <tr style=\"text-align: right;\">\n",
       "      <th></th>\n",
       "      <th>Converted</th>\n",
       "      <th>Conversion_Prob</th>\n",
       "      <th>Prospect ID</th>\n",
       "      <th>Predicted</th>\n",
       "      <th>0.0</th>\n",
       "      <th>0.1</th>\n",
       "      <th>0.2</th>\n",
       "      <th>0.3</th>\n",
       "      <th>0.4</th>\n",
       "      <th>0.5</th>\n",
       "      <th>0.6</th>\n",
       "      <th>0.7</th>\n",
       "      <th>0.8</th>\n",
       "      <th>0.9</th>\n",
       "    </tr>\n",
       "  </thead>\n",
       "  <tbody>\n",
       "    <tr>\n",
       "      <th>0</th>\n",
       "      <td>1</td>\n",
       "      <td>0.669137</td>\n",
       "      <td>7220</td>\n",
       "      <td>1</td>\n",
       "      <td>1</td>\n",
       "      <td>1</td>\n",
       "      <td>1</td>\n",
       "      <td>1</td>\n",
       "      <td>1</td>\n",
       "      <td>1</td>\n",
       "      <td>1</td>\n",
       "      <td>0</td>\n",
       "      <td>0</td>\n",
       "      <td>0</td>\n",
       "    </tr>\n",
       "    <tr>\n",
       "      <th>1</th>\n",
       "      <td>0</td>\n",
       "      <td>0.623387</td>\n",
       "      <td>3383</td>\n",
       "      <td>1</td>\n",
       "      <td>1</td>\n",
       "      <td>1</td>\n",
       "      <td>1</td>\n",
       "      <td>1</td>\n",
       "      <td>1</td>\n",
       "      <td>1</td>\n",
       "      <td>1</td>\n",
       "      <td>0</td>\n",
       "      <td>0</td>\n",
       "      <td>0</td>\n",
       "    </tr>\n",
       "    <tr>\n",
       "      <th>2</th>\n",
       "      <td>0</td>\n",
       "      <td>0.548224</td>\n",
       "      <td>770</td>\n",
       "      <td>1</td>\n",
       "      <td>1</td>\n",
       "      <td>1</td>\n",
       "      <td>1</td>\n",
       "      <td>1</td>\n",
       "      <td>1</td>\n",
       "      <td>1</td>\n",
       "      <td>0</td>\n",
       "      <td>0</td>\n",
       "      <td>0</td>\n",
       "      <td>0</td>\n",
       "    </tr>\n",
       "    <tr>\n",
       "      <th>3</th>\n",
       "      <td>1</td>\n",
       "      <td>0.977168</td>\n",
       "      <td>5785</td>\n",
       "      <td>1</td>\n",
       "      <td>1</td>\n",
       "      <td>1</td>\n",
       "      <td>1</td>\n",
       "      <td>1</td>\n",
       "      <td>1</td>\n",
       "      <td>1</td>\n",
       "      <td>1</td>\n",
       "      <td>1</td>\n",
       "      <td>1</td>\n",
       "      <td>1</td>\n",
       "    </tr>\n",
       "    <tr>\n",
       "      <th>4</th>\n",
       "      <td>1</td>\n",
       "      <td>0.381306</td>\n",
       "      <td>5252</td>\n",
       "      <td>0</td>\n",
       "      <td>1</td>\n",
       "      <td>1</td>\n",
       "      <td>1</td>\n",
       "      <td>1</td>\n",
       "      <td>0</td>\n",
       "      <td>0</td>\n",
       "      <td>0</td>\n",
       "      <td>0</td>\n",
       "      <td>0</td>\n",
       "      <td>0</td>\n",
       "    </tr>\n",
       "  </tbody>\n",
       "</table>\n",
       "</div>"
      ],
      "text/plain": [
       "   Converted  Conversion_Prob  Prospect ID  Predicted  0.0  0.1  0.2  0.3  \\\n",
       "0          1         0.669137         7220          1    1    1    1    1   \n",
       "1          0         0.623387         3383          1    1    1    1    1   \n",
       "2          0         0.548224          770          1    1    1    1    1   \n",
       "3          1         0.977168         5785          1    1    1    1    1   \n",
       "4          1         0.381306         5252          0    1    1    1    1   \n",
       "\n",
       "   0.4  0.5  0.6  0.7  0.8  0.9  \n",
       "0    1    1    1    0    0    0  \n",
       "1    1    1    1    0    0    0  \n",
       "2    1    1    0    0    0    0  \n",
       "3    1    1    1    1    1    1  \n",
       "4    0    0    0    0    0    0  "
      ]
     },
     "execution_count": 292,
     "metadata": {},
     "output_type": "execute_result"
    }
   ],
   "source": [
    "#Creating columns with different probability cutoffs \n",
    "numbers = [float(x)/10 for x in range(10)]\n",
    "for i in numbers:\n",
    "    y_train_pred_final[i]= y_train_pred_final.Conversion_Prob.map(lambda x: 1 if x > i else 0)\n",
    "y_train_pred_final.head()"
   ]
  },
  {
   "cell_type": "code",
   "execution_count": 293,
   "metadata": {},
   "outputs": [
    {
     "name": "stdout",
     "output_type": "stream",
     "text": [
      "     prob  accuracy     sensi     speci\n",
      "0.0   0.0  0.375983  1.000000  0.000000\n",
      "0.1   0.1  0.546527  0.974292  0.288790\n",
      "0.2   0.2  0.719856  0.908497  0.606196\n",
      "0.3   0.3  0.783585  0.818736  0.762405\n",
      "0.4   0.4  0.787025  0.738998  0.815962\n",
      "0.5   0.5  0.791121  0.654031  0.873720\n",
      "0.6   0.6  0.787025  0.575163  0.914676\n",
      "0.7   0.7  0.757864  0.435730  0.951956\n",
      "0.8   0.8  0.733781  0.339869  0.971121\n",
      "0.9   0.9  0.682995  0.172549  0.990549\n"
     ]
    }
   ],
   "source": [
    "#Calculating accuracy sensitivity and specificity for various probability cutoffs.\n",
    "cutoff_df = pd.DataFrame( columns = ['prob','accuracy','sensi','speci'])\n",
    "from sklearn.metrics import confusion_matrix\n",
    "\n",
    "# TP = confusion[1,1] # true positive \n",
    "# TN = confusion[0,0] # true negatives\n",
    "# FP = confusion[0,1] # false positives\n",
    "# FN = confusion[1,0] # false negatives\n",
    "\n",
    "num = [0.0,0.1,0.2,0.3,0.4,0.5,0.6,0.7,0.8,0.9]\n",
    "for i in num:\n",
    "    cm1 = metrics.confusion_matrix(y_train_pred_final.Converted,y_train_pred_final[i] )\n",
    "    total1=sum(sum(cm1))\n",
    "    accuracy = (cm1[0,0]+cm1[1,1])/total1\n",
    "    \n",
    "    speci = cm1[0,0]/(cm1[0,0]+cm1[0,1])\n",
    "    sensi = cm1[1,1]/(cm1[1,0]+cm1[1,1])\n",
    "    cutoff_df.loc[i] =[ i ,accuracy,sensi,speci]\n",
    "print(cutoff_df)"
   ]
  },
  {
   "cell_type": "code",
   "execution_count": 294,
   "metadata": {},
   "outputs": [
    {
     "data": {
      "image/png": "[encoded data removed]",
      "text/plain": [
       "<Figure size 432x288 with 1 Axes>"
      ]
     },
     "metadata": {
      "needs_background": "light"
     },
     "output_type": "display_data"
    }
   ],
   "source": [
    "#Plotting accuracy sensitivity and specificity for various probabilities.\n",
    "cutoff_df.plot.line(x='prob', y=['accuracy','sensi','speci'])\n",
    "plt.show()"
   ]
  },
  {
   "cell_type": "markdown",
   "metadata": {},
   "source": [
    "#### From the curve above, 0.33 is the optimum point to take it as a cutoff probability."
   ]
  },
  {
   "cell_type": "code",
   "execution_count": 295,
   "metadata": {},
   "outputs": [
    {
     "data": {
      "text/html": [
       "<div>\n",
       "<style scoped>\n",
       "    .dataframe tbody tr th:only-of-type {\n",
       "        vertical-align: middle;\n",
       "    }\n",
       "\n",
       "    .dataframe tbody tr th {\n",
       "        vertical-align: top;\n",
       "    }\n",
       "\n",
       "    .dataframe thead th {\n",
       "        text-align: right;\n",
       "    }\n",
       "</style>\n",
       "<table border=\"1\" class=\"dataframe\">\n",
       "  <thead>\n",
       "    <tr style=\"text-align: right;\">\n",
       "      <th></th>\n",
       "      <th>Converted</th>\n",
       "      <th>Conversion_Prob</th>\n",
       "      <th>Prospect ID</th>\n",
       "      <th>Predicted</th>\n",
       "      <th>0.0</th>\n",
       "      <th>0.1</th>\n",
       "      <th>0.2</th>\n",
       "      <th>0.3</th>\n",
       "      <th>0.4</th>\n",
       "      <th>0.5</th>\n",
       "      <th>0.6</th>\n",
       "      <th>0.7</th>\n",
       "      <th>0.8</th>\n",
       "      <th>0.9</th>\n",
       "      <th>Final_Predicted</th>\n",
       "    </tr>\n",
       "  </thead>\n",
       "  <tbody>\n",
       "    <tr>\n",
       "      <th>0</th>\n",
       "      <td>1</td>\n",
       "      <td>0.669137</td>\n",
       "      <td>7220</td>\n",
       "      <td>1</td>\n",
       "      <td>1</td>\n",
       "      <td>1</td>\n",
       "      <td>1</td>\n",
       "      <td>1</td>\n",
       "      <td>1</td>\n",
       "      <td>1</td>\n",
       "      <td>1</td>\n",
       "      <td>0</td>\n",
       "      <td>0</td>\n",
       "      <td>0</td>\n",
       "      <td>1</td>\n",
       "    </tr>\n",
       "    <tr>\n",
       "      <th>1</th>\n",
       "      <td>0</td>\n",
       "      <td>0.623387</td>\n",
       "      <td>3383</td>\n",
       "      <td>1</td>\n",
       "      <td>1</td>\n",
       "      <td>1</td>\n",
       "      <td>1</td>\n",
       "      <td>1</td>\n",
       "      <td>1</td>\n",
       "      <td>1</td>\n",
       "      <td>1</td>\n",
       "      <td>0</td>\n",
       "      <td>0</td>\n",
       "      <td>0</td>\n",
       "      <td>1</td>\n",
       "    </tr>\n",
       "    <tr>\n",
       "      <th>2</th>\n",
       "      <td>0</td>\n",
       "      <td>0.548224</td>\n",
       "      <td>770</td>\n",
       "      <td>1</td>\n",
       "      <td>1</td>\n",
       "      <td>1</td>\n",
       "      <td>1</td>\n",
       "      <td>1</td>\n",
       "      <td>1</td>\n",
       "      <td>1</td>\n",
       "      <td>0</td>\n",
       "      <td>0</td>\n",
       "      <td>0</td>\n",
       "      <td>0</td>\n",
       "      <td>1</td>\n",
       "    </tr>\n",
       "    <tr>\n",
       "      <th>3</th>\n",
       "      <td>1</td>\n",
       "      <td>0.977168</td>\n",
       "      <td>5785</td>\n",
       "      <td>1</td>\n",
       "      <td>1</td>\n",
       "      <td>1</td>\n",
       "      <td>1</td>\n",
       "      <td>1</td>\n",
       "      <td>1</td>\n",
       "      <td>1</td>\n",
       "      <td>1</td>\n",
       "      <td>1</td>\n",
       "      <td>1</td>\n",
       "      <td>1</td>\n",
       "      <td>1</td>\n",
       "    </tr>\n",
       "    <tr>\n",
       "      <th>4</th>\n",
       "      <td>1</td>\n",
       "      <td>0.381306</td>\n",
       "      <td>5252</td>\n",
       "      <td>0</td>\n",
       "      <td>1</td>\n",
       "      <td>1</td>\n",
       "      <td>1</td>\n",
       "      <td>1</td>\n",
       "      <td>0</td>\n",
       "      <td>0</td>\n",
       "      <td>0</td>\n",
       "      <td>0</td>\n",
       "      <td>0</td>\n",
       "      <td>0</td>\n",
       "      <td>1</td>\n",
       "    </tr>\n",
       "  </tbody>\n",
       "</table>\n",
       "</div>"
      ],
      "text/plain": [
       "   Converted  Conversion_Prob  Prospect ID  Predicted  0.0  0.1  0.2  0.3  \\\n",
       "0          1         0.669137         7220          1    1    1    1    1   \n",
       "1          0         0.623387         3383          1    1    1    1    1   \n",
       "2          0         0.548224          770          1    1    1    1    1   \n",
       "3          1         0.977168         5785          1    1    1    1    1   \n",
       "4          1         0.381306         5252          0    1    1    1    1   \n",
       "\n",
       "   0.4  0.5  0.6  0.7  0.8  0.9  Final_Predicted  \n",
       "0    1    1    1    0    0    0                1  \n",
       "1    1    1    1    0    0    0                1  \n",
       "2    1    1    0    0    0    0                1  \n",
       "3    1    1    1    1    1    1                1  \n",
       "4    0    0    0    0    0    0                1  "
      ]
     },
     "execution_count": 295,
     "metadata": {},
     "output_type": "execute_result"
    }
   ],
   "source": [
    "y_train_pred_final['Final_Predicted'] = y_train_pred_final.Conversion_Prob.map( lambda x: 1 if x > 0.33 else 0)\n",
    "\n",
    "y_train_pred_final.head()"
   ]
  },
  {
   "cell_type": "code",
   "execution_count": 296,
   "metadata": {},
   "outputs": [
    {
     "data": {
      "text/plain": [
       "0.7894823066841415"
      ]
     },
     "execution_count": 296,
     "metadata": {},
     "output_type": "execute_result"
    }
   ],
   "source": [
    "#Checking the overall accuracy with new probability cutoff.\n",
    "metrics.accuracy_score(y_train_pred_final.Converted, y_train_pred_final.Final_Predicted)"
   ]
  },
  {
   "cell_type": "code",
   "execution_count": 297,
   "metadata": {},
   "outputs": [
    {
     "data": {
      "text/plain": [
       "array([[2980,  829],\n",
       "       [ 456, 1839]], dtype=int64)"
      ]
     },
     "execution_count": 297,
     "metadata": {},
     "output_type": "execute_result"
    }
   ],
   "source": [
    "#Confusion matrix\n",
    "confusion2 = metrics.confusion_matrix(y_train_pred_final.Converted, y_train_pred_final.Final_Predicted )\n",
    "confusion2"
   ]
  },
  {
   "cell_type": "code",
   "execution_count": 298,
   "metadata": {},
   "outputs": [],
   "source": [
    "TP = confusion2[1,1] # true positive \n",
    "TN = confusion2[0,0] # true negatives\n",
    "FP = confusion2[0,1] # false positives\n",
    "FN = confusion2[1,0] # false negatives"
   ]
  },
  {
   "cell_type": "code",
   "execution_count": 299,
   "metadata": {},
   "outputs": [
    {
     "data": {
      "text/plain": [
       "0.8013071895424837"
      ]
     },
     "execution_count": 299,
     "metadata": {},
     "output_type": "execute_result"
    }
   ],
   "source": [
    "#Checking the sensitivity of our logistic regression model\n",
    "TP / float(TP+FN)"
   ]
  },
  {
   "cell_type": "code",
   "execution_count": 300,
   "metadata": {},
   "outputs": [
    {
     "data": {
      "text/plain": [
       "0.7823575741664479"
      ]
     },
     "execution_count": 300,
     "metadata": {},
     "output_type": "execute_result"
    }
   ],
   "source": [
    "#Calculating specificity\n",
    "TN / float(TN+FP)"
   ]
  },
  {
   "cell_type": "code",
   "execution_count": 301,
   "metadata": {},
   "outputs": [
    {
     "name": "stdout",
     "output_type": "stream",
     "text": [
      "0.21764242583355212\n"
     ]
    }
   ],
   "source": [
    "# Calculating false postive rate - predicting conversion when customer does not have converted\n",
    "print(FP/ float(TN+FP))"
   ]
  },
  {
   "cell_type": "code",
   "execution_count": 302,
   "metadata": {},
   "outputs": [
    {
     "name": "stdout",
     "output_type": "stream",
     "text": [
      "0.68928035982009\n"
     ]
    }
   ],
   "source": [
    "#Calculating positive predictive value \n",
    "print (TP / float(TP+FP))"
   ]
  },
  {
   "cell_type": "code",
   "execution_count": 303,
   "metadata": {},
   "outputs": [
    {
     "name": "stdout",
     "output_type": "stream",
     "text": [
      "0.8672875436554133\n"
     ]
    }
   ],
   "source": [
    "#Calculating Negative predictive value\n",
    "print (TN / float(TN+ FN))"
   ]
  },
  {
   "cell_type": "markdown",
   "metadata": {},
   "source": [
    "#### Precision and Recall"
   ]
  },
  {
   "cell_type": "code",
   "execution_count": 304,
   "metadata": {},
   "outputs": [
    {
     "data": {
      "text/plain": [
       "array([[3328,  481],\n",
       "       [ 794, 1501]], dtype=int64)"
      ]
     },
     "execution_count": 304,
     "metadata": {},
     "output_type": "execute_result"
    }
   ],
   "source": [
    "#Confusion matrix\n",
    "confusion = metrics.confusion_matrix(y_train_pred_final.Converted, y_train_pred_final.Predicted )\n",
    "confusion"
   ]
  },
  {
   "cell_type": "code",
   "execution_count": 305,
   "metadata": {},
   "outputs": [
    {
     "data": {
      "text/plain": [
       "0.7573158425832492"
      ]
     },
     "execution_count": 305,
     "metadata": {},
     "output_type": "execute_result"
    }
   ],
   "source": [
    "#Precision\n",
    "confusion[1,1]/(confusion[0,1]+confusion[1,1])"
   ]
  },
  {
   "cell_type": "code",
   "execution_count": 306,
   "metadata": {},
   "outputs": [
    {
     "data": {
      "text/plain": [
       "0.6540305010893246"
      ]
     },
     "execution_count": 306,
     "metadata": {},
     "output_type": "execute_result"
    }
   ],
   "source": [
    "#Recall\n",
    "confusion[1,1]/(confusion[1,0]+confusion[1,1])"
   ]
  },
  {
   "cell_type": "code",
   "execution_count": 307,
   "metadata": {},
   "outputs": [],
   "source": [
    "from sklearn.metrics import precision_score, recall_score"
   ]
  },
  {
   "cell_type": "code",
   "execution_count": 308,
   "metadata": {},
   "outputs": [
    {
     "data": {
      "text/plain": [
       "0.7573158425832492"
      ]
     },
     "execution_count": 308,
     "metadata": {},
     "output_type": "execute_result"
    }
   ],
   "source": [
    "precision_score(y_train_pred_final.Converted, y_train_pred_final.Predicted)"
   ]
  },
  {
   "cell_type": "code",
   "execution_count": 309,
   "metadata": {},
   "outputs": [
    {
     "data": {
      "text/plain": [
       "0.6540305010893246"
      ]
     },
     "execution_count": 309,
     "metadata": {},
     "output_type": "execute_result"
    }
   ],
   "source": [
    "recall_score(y_train_pred_final.Converted, y_train_pred_final.Predicted)"
   ]
  },
  {
   "cell_type": "markdown",
   "metadata": {},
   "source": [
    "## Precision and recall tradeoff"
   ]
  },
  {
   "cell_type": "code",
   "execution_count": 310,
   "metadata": {},
   "outputs": [],
   "source": [
    "from sklearn.metrics import precision_recall_curve"
   ]
  },
  {
   "cell_type": "code",
   "execution_count": 311,
   "metadata": {},
   "outputs": [
    {
     "data": {
      "text/plain": [
       "(0       1\n",
       " 1       0\n",
       " 2       0\n",
       " 3       1\n",
       " 4       1\n",
       " 5       0\n",
       " 6       0\n",
       " 7       0\n",
       " 8       0\n",
       " 9       1\n",
       " 10      0\n",
       " 11      0\n",
       " 12      0\n",
       " 13      1\n",
       " 14      1\n",
       " 15      0\n",
       " 16      0\n",
       " 17      1\n",
       " 18      1\n",
       " 19      1\n",
       " 20      1\n",
       " 21      0\n",
       " 22      0\n",
       " 23      0\n",
       " 24      1\n",
       " 25      1\n",
       " 26      0\n",
       " 27      0\n",
       " 28      0\n",
       " 29      0\n",
       "        ..\n",
       " 6074    1\n",
       " 6075    0\n",
       " 6076    0\n",
       " 6077    1\n",
       " 6078    1\n",
       " 6079    0\n",
       " 6080    1\n",
       " 6081    0\n",
       " 6082    0\n",
       " 6083    0\n",
       " 6084    1\n",
       " 6085    0\n",
       " 6086    1\n",
       " 6087    0\n",
       " 6088    1\n",
       " 6089    1\n",
       " 6090    1\n",
       " 6091    0\n",
       " 6092    1\n",
       " 6093    1\n",
       " 6094    1\n",
       " 6095    0\n",
       " 6096    0\n",
       " 6097    1\n",
       " 6098    0\n",
       " 6099    0\n",
       " 6100    0\n",
       " 6101    0\n",
       " 6102    0\n",
       " 6103    1\n",
       " Name: Converted, Length: 6104, dtype: int64, 0       1\n",
       " 1       1\n",
       " 2       1\n",
       " 3       1\n",
       " 4       0\n",
       " 5       0\n",
       " 6       0\n",
       " 7       1\n",
       " 8       0\n",
       " 9       1\n",
       " 10      1\n",
       " 11      1\n",
       " 12      0\n",
       " 13      1\n",
       " 14      1\n",
       " 15      0\n",
       " 16      0\n",
       " 17      1\n",
       " 18      1\n",
       " 19      0\n",
       " 20      1\n",
       " 21      0\n",
       " 22      0\n",
       " 23      0\n",
       " 24      0\n",
       " 25      0\n",
       " 26      0\n",
       " 27      0\n",
       " 28      0\n",
       " 29      0\n",
       "        ..\n",
       " 6074    1\n",
       " 6075    1\n",
       " 6076    0\n",
       " 6077    1\n",
       " 6078    1\n",
       " 6079    0\n",
       " 6080    1\n",
       " 6081    0\n",
       " 6082    0\n",
       " 6083    0\n",
       " 6084    1\n",
       " 6085    0\n",
       " 6086    1\n",
       " 6087    1\n",
       " 6088    0\n",
       " 6089    1\n",
       " 6090    1\n",
       " 6091    0\n",
       " 6092    1\n",
       " 6093    1\n",
       " 6094    1\n",
       " 6095    0\n",
       " 6096    0\n",
       " 6097    1\n",
       " 6098    0\n",
       " 6099    0\n",
       " 6100    0\n",
       " 6101    0\n",
       " 6102    0\n",
       " 6103    0\n",
       " Name: Predicted, Length: 6104, dtype: int64)"
      ]
     },
     "execution_count": 311,
     "metadata": {},
     "output_type": "execute_result"
    }
   ],
   "source": [
    "y_train_pred_final.Converted, y_train_pred_final.Predicted"
   ]
  },
  {
   "cell_type": "code",
   "execution_count": 312,
   "metadata": {},
   "outputs": [],
   "source": [
    "p, r, thresholds = precision_recall_curve(y_train_pred_final.Converted, y_train_pred_final.Conversion_Prob)"
   ]
  },
  {
   "cell_type": "code",
   "execution_count": 313,
   "metadata": {},
   "outputs": [
    {
     "data": {
      "image/png": "[encoded data removed]",
      "text/plain": [
       "<Figure size 432x288 with 1 Axes>"
      ]
     },
     "metadata": {
      "needs_background": "light"
     },
     "output_type": "display_data"
    }
   ],
   "source": [
    "plt.plot(thresholds, p[:-1], \"g-\")\n",
    "plt.plot(thresholds, r[:-1], \"r-\")\n",
    "plt.show()"
   ]
  },
  {
   "cell_type": "markdown",
   "metadata": {},
   "source": [
    "#### From the curve above, 0.42 is the optimum point to take it as a cutoff probability."
   ]
  },
  {
   "cell_type": "code",
   "execution_count": 314,
   "metadata": {},
   "outputs": [
    {
     "data": {
      "text/html": [
       "<div>\n",
       "<style scoped>\n",
       "    .dataframe tbody tr th:only-of-type {\n",
       "        vertical-align: middle;\n",
       "    }\n",
       "\n",
       "    .dataframe tbody tr th {\n",
       "        vertical-align: top;\n",
       "    }\n",
       "\n",
       "    .dataframe thead th {\n",
       "        text-align: right;\n",
       "    }\n",
       "</style>\n",
       "<table border=\"1\" class=\"dataframe\">\n",
       "  <thead>\n",
       "    <tr style=\"text-align: right;\">\n",
       "      <th></th>\n",
       "      <th>Converted</th>\n",
       "      <th>Conversion_Prob</th>\n",
       "      <th>Prospect ID</th>\n",
       "      <th>Predicted</th>\n",
       "      <th>0.0</th>\n",
       "      <th>0.1</th>\n",
       "      <th>0.2</th>\n",
       "      <th>0.3</th>\n",
       "      <th>0.4</th>\n",
       "      <th>0.5</th>\n",
       "      <th>0.6</th>\n",
       "      <th>0.7</th>\n",
       "      <th>0.8</th>\n",
       "      <th>0.9</th>\n",
       "      <th>Final_Predicted</th>\n",
       "    </tr>\n",
       "  </thead>\n",
       "  <tbody>\n",
       "    <tr>\n",
       "      <th>0</th>\n",
       "      <td>1</td>\n",
       "      <td>0.669137</td>\n",
       "      <td>7220</td>\n",
       "      <td>1</td>\n",
       "      <td>1</td>\n",
       "      <td>1</td>\n",
       "      <td>1</td>\n",
       "      <td>1</td>\n",
       "      <td>1</td>\n",
       "      <td>1</td>\n",
       "      <td>1</td>\n",
       "      <td>0</td>\n",
       "      <td>0</td>\n",
       "      <td>0</td>\n",
       "      <td>1</td>\n",
       "    </tr>\n",
       "    <tr>\n",
       "      <th>1</th>\n",
       "      <td>0</td>\n",
       "      <td>0.623387</td>\n",
       "      <td>3383</td>\n",
       "      <td>1</td>\n",
       "      <td>1</td>\n",
       "      <td>1</td>\n",
       "      <td>1</td>\n",
       "      <td>1</td>\n",
       "      <td>1</td>\n",
       "      <td>1</td>\n",
       "      <td>1</td>\n",
       "      <td>0</td>\n",
       "      <td>0</td>\n",
       "      <td>0</td>\n",
       "      <td>1</td>\n",
       "    </tr>\n",
       "    <tr>\n",
       "      <th>2</th>\n",
       "      <td>0</td>\n",
       "      <td>0.548224</td>\n",
       "      <td>770</td>\n",
       "      <td>1</td>\n",
       "      <td>1</td>\n",
       "      <td>1</td>\n",
       "      <td>1</td>\n",
       "      <td>1</td>\n",
       "      <td>1</td>\n",
       "      <td>1</td>\n",
       "      <td>0</td>\n",
       "      <td>0</td>\n",
       "      <td>0</td>\n",
       "      <td>0</td>\n",
       "      <td>1</td>\n",
       "    </tr>\n",
       "    <tr>\n",
       "      <th>3</th>\n",
       "      <td>1</td>\n",
       "      <td>0.977168</td>\n",
       "      <td>5785</td>\n",
       "      <td>1</td>\n",
       "      <td>1</td>\n",
       "      <td>1</td>\n",
       "      <td>1</td>\n",
       "      <td>1</td>\n",
       "      <td>1</td>\n",
       "      <td>1</td>\n",
       "      <td>1</td>\n",
       "      <td>1</td>\n",
       "      <td>1</td>\n",
       "      <td>1</td>\n",
       "      <td>1</td>\n",
       "    </tr>\n",
       "    <tr>\n",
       "      <th>4</th>\n",
       "      <td>1</td>\n",
       "      <td>0.381306</td>\n",
       "      <td>5252</td>\n",
       "      <td>0</td>\n",
       "      <td>1</td>\n",
       "      <td>1</td>\n",
       "      <td>1</td>\n",
       "      <td>1</td>\n",
       "      <td>0</td>\n",
       "      <td>0</td>\n",
       "      <td>0</td>\n",
       "      <td>0</td>\n",
       "      <td>0</td>\n",
       "      <td>0</td>\n",
       "      <td>0</td>\n",
       "    </tr>\n",
       "  </tbody>\n",
       "</table>\n",
       "</div>"
      ],
      "text/plain": [
       "   Converted  Conversion_Prob  Prospect ID  Predicted  0.0  0.1  0.2  0.3  \\\n",
       "0          1         0.669137         7220          1    1    1    1    1   \n",
       "1          0         0.623387         3383          1    1    1    1    1   \n",
       "2          0         0.548224          770          1    1    1    1    1   \n",
       "3          1         0.977168         5785          1    1    1    1    1   \n",
       "4          1         0.381306         5252          0    1    1    1    1   \n",
       "\n",
       "   0.4  0.5  0.6  0.7  0.8  0.9  Final_Predicted  \n",
       "0    1    1    1    0    0    0                1  \n",
       "1    1    1    1    0    0    0                1  \n",
       "2    1    1    0    0    0    0                1  \n",
       "3    1    1    1    1    1    1                1  \n",
       "4    0    0    0    0    0    0                0  "
      ]
     },
     "execution_count": 314,
     "metadata": {},
     "output_type": "execute_result"
    }
   ],
   "source": [
    "y_train_pred_final['Final_Predicted'] = y_train_pred_final.Conversion_Prob.map( lambda x: 1 if x > 0.42 else 0)\n",
    "\n",
    "y_train_pred_final.head()"
   ]
  },
  {
   "cell_type": "code",
   "execution_count": 315,
   "metadata": {},
   "outputs": [
    {
     "data": {
      "text/plain": [
       "0.7899737876802096"
      ]
     },
     "execution_count": 315,
     "metadata": {},
     "output_type": "execute_result"
    }
   ],
   "source": [
    "#Checking the overall accuracy with new probability cutoff.\n",
    "metrics.accuracy_score(y_train_pred_final.Converted, y_train_pred_final.Final_Predicted)"
   ]
  },
  {
   "cell_type": "code",
   "execution_count": 316,
   "metadata": {},
   "outputs": [
    {
     "data": {
      "text/plain": [
       "array([[3154,  655],\n",
       "       [ 627, 1668]], dtype=int64)"
      ]
     },
     "execution_count": 316,
     "metadata": {},
     "output_type": "execute_result"
    }
   ],
   "source": [
    "#Confusion matrix\n",
    "confusion2 = metrics.confusion_matrix(y_train_pred_final.Converted, y_train_pred_final.Final_Predicted )\n",
    "confusion2"
   ]
  },
  {
   "cell_type": "code",
   "execution_count": 317,
   "metadata": {},
   "outputs": [],
   "source": [
    "TP = confusion2[1,1] # true positive \n",
    "TN = confusion2[0,0] # true negatives\n",
    "FP = confusion2[0,1] # false positives\n",
    "FN = confusion2[1,0] # false negatives"
   ]
  },
  {
   "cell_type": "code",
   "execution_count": 318,
   "metadata": {},
   "outputs": [
    {
     "data": {
      "text/plain": [
       "0.726797385620915"
      ]
     },
     "execution_count": 318,
     "metadata": {},
     "output_type": "execute_result"
    }
   ],
   "source": [
    "#Checking the sensitivity of our logistic regression model\n",
    "TP / float(TP+FN)"
   ]
  },
  {
   "cell_type": "code",
   "execution_count": 319,
   "metadata": {},
   "outputs": [
    {
     "data": {
      "text/plain": [
       "0.8280388553426096"
      ]
     },
     "execution_count": 319,
     "metadata": {},
     "output_type": "execute_result"
    }
   ],
   "source": [
    "#Calculating specificity\n",
    "TN / float(TN+FP)"
   ]
  },
  {
   "cell_type": "code",
   "execution_count": 320,
   "metadata": {},
   "outputs": [
    {
     "name": "stdout",
     "output_type": "stream",
     "text": [
      "0.1719611446573904\n"
     ]
    }
   ],
   "source": [
    "# Calculating false postive rate - predicting conversion when customer does not have converted\n",
    "print(FP/ float(TN+FP))"
   ]
  },
  {
   "cell_type": "code",
   "execution_count": 321,
   "metadata": {},
   "outputs": [
    {
     "name": "stdout",
     "output_type": "stream",
     "text": [
      "0.7180370210934137\n"
     ]
    }
   ],
   "source": [
    "#Calculating positive predictive value \n",
    "print (TP / float(TP+FP))"
   ]
  },
  {
   "cell_type": "code",
   "execution_count": 322,
   "metadata": {},
   "outputs": [
    {
     "name": "stdout",
     "output_type": "stream",
     "text": [
      "0.8341708542713567\n"
     ]
    }
   ],
   "source": [
    "#Calculating Negative predictive value\n",
    "print (TN / float(TN+ FN))"
   ]
  },
  {
   "cell_type": "markdown",
   "metadata": {},
   "source": [
    "## 11. Making predictions on the test set"
   ]
  },
  {
   "cell_type": "code",
   "execution_count": 323,
   "metadata": {},
   "outputs": [],
   "source": [
    "#Dividing leads test data set into x and y sets for the predictions\n",
    "y_test = leads_test['Converted']\n",
    "X_test = leads_test.drop(['Converted','Prospect ID'], 1)"
   ]
  },
  {
   "cell_type": "code",
   "execution_count": 324,
   "metadata": {},
   "outputs": [
    {
     "name": "stdout",
     "output_type": "stream",
     "text": [
      "<class 'pandas.core.frame.DataFrame'>\n",
      "Int64Index: 2617 entries, 1105 to 4752\n",
      "Data columns (total 66 columns):\n",
      "Do Not Email                                          2617 non-null int64\n",
      "Do Not Call                                           2617 non-null int64\n",
      "TotalVisits                                           2617 non-null float64\n",
      "Total Time Spent on Website                           2617 non-null int64\n",
      "Page Views Per Visit                                  2617 non-null float64\n",
      "Search                                                2617 non-null int64\n",
      "Newspaper Article                                     2617 non-null int64\n",
      "X Education Forums                                    2617 non-null int64\n",
      "Newspaper                                             2617 non-null int64\n",
      "Digital Advertisement                                 2617 non-null int64\n",
      "Through Recommendations                               2617 non-null int64\n",
      "A free copy of Mastering The Interview                2617 non-null int64\n",
      "Lead Origin_Landing Page Submission                   2617 non-null uint8\n",
      "Lead Origin_Lead Add Form                             2617 non-null uint8\n",
      "Lead Origin_Lead Import                               2617 non-null uint8\n",
      "Lead Source_Direct Traffic                            2617 non-null uint8\n",
      "Lead Source_Facebook                                  2617 non-null uint8\n",
      "Lead Source_Google                                    2617 non-null uint8\n",
      "Lead Source_Live Chat                                 2617 non-null uint8\n",
      "Lead Source_NC_EDM                                    2617 non-null uint8\n",
      "Lead Source_Olark Chat                                2617 non-null uint8\n",
      "Lead Source_Organic Search                            2617 non-null uint8\n",
      "Lead Source_Pay per Click Ads                         2617 non-null uint8\n",
      "Lead Source_Press_Release                             2617 non-null uint8\n",
      "Lead Source_Reference                                 2617 non-null uint8\n",
      "Lead Source_Referral Sites                            2617 non-null uint8\n",
      "Lead Source_Social Media                              2617 non-null uint8\n",
      "Lead Source_WeLearn                                   2617 non-null uint8\n",
      "Lead Source_Welingak Website                          2617 non-null uint8\n",
      "Lead Source_bing                                      2617 non-null uint8\n",
      "Lead Source_blog                                      2617 non-null uint8\n",
      "Lead Source_google                                    2617 non-null uint8\n",
      "Lead Source_testone                                   2617 non-null uint8\n",
      "Lead Source_welearnblog_Home                          2617 non-null uint8\n",
      "Lead Source_youtubechannel                            2617 non-null uint8\n",
      "Last Activity_Converted to Lead                       2617 non-null uint8\n",
      "Last Activity_Email Bounced                           2617 non-null uint8\n",
      "Last Activity_Email Link Clicked                      2617 non-null uint8\n",
      "Last Activity_Email Marked Spam                       2617 non-null uint8\n",
      "Last Activity_Email Opened                            2617 non-null uint8\n",
      "Last Activity_Email Received                          2617 non-null uint8\n",
      "Last Activity_Form Submitted on Website               2617 non-null uint8\n",
      "Last Activity_Had a Phone Conversation                2617 non-null uint8\n",
      "Last Activity_Olark Chat Conversation                 2617 non-null uint8\n",
      "Last Activity_Page Visited on Website                 2617 non-null uint8\n",
      "Last Activity_Resubscribed to emails                  2617 non-null uint8\n",
      "Last Activity_SMS Sent                                2617 non-null uint8\n",
      "Last Activity_Unreachable                             2617 non-null uint8\n",
      "Last Activity_Unsubscribed                            2617 non-null uint8\n",
      "Last Activity_View in browser link Clicked            2617 non-null uint8\n",
      "Last Activity_Visited Booth in Tradeshow              2617 non-null uint8\n",
      "Last Notable Activity_Email Bounced                   2617 non-null uint8\n",
      "Last Notable Activity_Email Link Clicked              2617 non-null uint8\n",
      "Last Notable Activity_Email Marked Spam               2617 non-null uint8\n",
      "Last Notable Activity_Email Opened                    2617 non-null uint8\n",
      "Last Notable Activity_Email Received                  2617 non-null uint8\n",
      "Last Notable Activity_Form Submitted on Website       2617 non-null uint8\n",
      "Last Notable Activity_Had a Phone Conversation        2617 non-null uint8\n",
      "Last Notable Activity_Modified                        2617 non-null uint8\n",
      "Last Notable Activity_Olark Chat Conversation         2617 non-null uint8\n",
      "Last Notable Activity_Page Visited on Website         2617 non-null uint8\n",
      "Last Notable Activity_Resubscribed to emails          2617 non-null uint8\n",
      "Last Notable Activity_SMS Sent                        2617 non-null uint8\n",
      "Last Notable Activity_Unreachable                     2617 non-null uint8\n",
      "Last Notable Activity_Unsubscribed                    2617 non-null uint8\n",
      "Last Notable Activity_View in browser link Clicked    2617 non-null uint8\n",
      "dtypes: float64(2), int64(10), uint8(54)\n",
      "memory usage: 403.8 KB\n"
     ]
    }
   ],
   "source": [
    "X_test.info()"
   ]
  },
  {
   "cell_type": "code",
   "execution_count": 325,
   "metadata": {},
   "outputs": [],
   "source": [
    "X_test[['TotalVisits','Total Time Spent on Website','Page Views Per Visit']] = scaler.transform(X_test[['TotalVisits','Total Time Spent on Website','Page Views Per Visit']])"
   ]
  },
  {
   "cell_type": "code",
   "execution_count": 326,
   "metadata": {},
   "outputs": [
    {
     "data": {
      "text/html": [
       "<div>\n",
       "<style scoped>\n",
       "    .dataframe tbody tr th:only-of-type {\n",
       "        vertical-align: middle;\n",
       "    }\n",
       "\n",
       "    .dataframe tbody tr th {\n",
       "        vertical-align: top;\n",
       "    }\n",
       "\n",
       "    .dataframe thead th {\n",
       "        text-align: right;\n",
       "    }\n",
       "</style>\n",
       "<table border=\"1\" class=\"dataframe\">\n",
       "  <thead>\n",
       "    <tr style=\"text-align: right;\">\n",
       "      <th></th>\n",
       "      <th>Total Time Spent on Website</th>\n",
       "      <th>Through Recommendations</th>\n",
       "      <th>Lead Source_Direct Traffic</th>\n",
       "      <th>Lead Source_Google</th>\n",
       "      <th>Lead Source_Organic Search</th>\n",
       "      <th>Lead Source_Reference</th>\n",
       "      <th>Lead Source_Referral Sites</th>\n",
       "      <th>Lead Source_Welingak Website</th>\n",
       "      <th>Last Activity_Email Bounced</th>\n",
       "      <th>Last Activity_Had a Phone Conversation</th>\n",
       "      <th>Last Activity_Olark Chat Conversation</th>\n",
       "      <th>Last Notable Activity_Email Bounced</th>\n",
       "      <th>Last Notable Activity_SMS Sent</th>\n",
       "      <th>Last Notable Activity_Unreachable</th>\n",
       "    </tr>\n",
       "  </thead>\n",
       "  <tbody>\n",
       "    <tr>\n",
       "      <th>1105</th>\n",
       "      <td>-0.602901</td>\n",
       "      <td>0</td>\n",
       "      <td>0</td>\n",
       "      <td>1</td>\n",
       "      <td>0</td>\n",
       "      <td>0</td>\n",
       "      <td>0</td>\n",
       "      <td>0</td>\n",
       "      <td>0</td>\n",
       "      <td>0</td>\n",
       "      <td>0</td>\n",
       "      <td>0</td>\n",
       "      <td>0</td>\n",
       "      <td>0</td>\n",
       "    </tr>\n",
       "    <tr>\n",
       "      <th>5872</th>\n",
       "      <td>-0.876452</td>\n",
       "      <td>0</td>\n",
       "      <td>0</td>\n",
       "      <td>0</td>\n",
       "      <td>0</td>\n",
       "      <td>0</td>\n",
       "      <td>0</td>\n",
       "      <td>1</td>\n",
       "      <td>0</td>\n",
       "      <td>0</td>\n",
       "      <td>0</td>\n",
       "      <td>0</td>\n",
       "      <td>1</td>\n",
       "      <td>0</td>\n",
       "    </tr>\n",
       "    <tr>\n",
       "      <th>480</th>\n",
       "      <td>-0.876452</td>\n",
       "      <td>0</td>\n",
       "      <td>0</td>\n",
       "      <td>0</td>\n",
       "      <td>0</td>\n",
       "      <td>0</td>\n",
       "      <td>0</td>\n",
       "      <td>0</td>\n",
       "      <td>0</td>\n",
       "      <td>0</td>\n",
       "      <td>0</td>\n",
       "      <td>0</td>\n",
       "      <td>0</td>\n",
       "      <td>0</td>\n",
       "    </tr>\n",
       "    <tr>\n",
       "      <th>8055</th>\n",
       "      <td>-0.876452</td>\n",
       "      <td>0</td>\n",
       "      <td>0</td>\n",
       "      <td>0</td>\n",
       "      <td>0</td>\n",
       "      <td>1</td>\n",
       "      <td>0</td>\n",
       "      <td>0</td>\n",
       "      <td>0</td>\n",
       "      <td>0</td>\n",
       "      <td>0</td>\n",
       "      <td>0</td>\n",
       "      <td>1</td>\n",
       "      <td>0</td>\n",
       "    </tr>\n",
       "    <tr>\n",
       "      <th>8214</th>\n",
       "      <td>-0.876452</td>\n",
       "      <td>0</td>\n",
       "      <td>0</td>\n",
       "      <td>0</td>\n",
       "      <td>0</td>\n",
       "      <td>0</td>\n",
       "      <td>0</td>\n",
       "      <td>0</td>\n",
       "      <td>0</td>\n",
       "      <td>0</td>\n",
       "      <td>0</td>\n",
       "      <td>0</td>\n",
       "      <td>0</td>\n",
       "      <td>0</td>\n",
       "    </tr>\n",
       "  </tbody>\n",
       "</table>\n",
       "</div>"
      ],
      "text/plain": [
       "      Total Time Spent on Website  Through Recommendations  \\\n",
       "1105                    -0.602901                        0   \n",
       "5872                    -0.876452                        0   \n",
       "480                     -0.876452                        0   \n",
       "8055                    -0.876452                        0   \n",
       "8214                    -0.876452                        0   \n",
       "\n",
       "      Lead Source_Direct Traffic  Lead Source_Google  \\\n",
       "1105                           0                   1   \n",
       "5872                           0                   0   \n",
       "480                            0                   0   \n",
       "8055                           0                   0   \n",
       "8214                           0                   0   \n",
       "\n",
       "      Lead Source_Organic Search  Lead Source_Reference  \\\n",
       "1105                           0                      0   \n",
       "5872                           0                      0   \n",
       "480                            0                      0   \n",
       "8055                           0                      1   \n",
       "8214                           0                      0   \n",
       "\n",
       "      Lead Source_Referral Sites  Lead Source_Welingak Website  \\\n",
       "1105                           0                             0   \n",
       "5872                           0                             1   \n",
       "480                            0                             0   \n",
       "8055                           0                             0   \n",
       "8214                           0                             0   \n",
       "\n",
       "      Last Activity_Email Bounced  Last Activity_Had a Phone Conversation  \\\n",
       "1105                            0                                       0   \n",
       "5872                            0                                       0   \n",
       "480                             0                                       0   \n",
       "8055                            0                                       0   \n",
       "8214                            0                                       0   \n",
       "\n",
       "      Last Activity_Olark Chat Conversation  \\\n",
       "1105                                      0   \n",
       "5872                                      0   \n",
       "480                                       0   \n",
       "8055                                      0   \n",
       "8214                                      0   \n",
       "\n",
       "      Last Notable Activity_Email Bounced  Last Notable Activity_SMS Sent  \\\n",
       "1105                                    0                               0   \n",
       "5872                                    0                               1   \n",
       "480                                     0                               0   \n",
       "8055                                    0                               1   \n",
       "8214                                    0                               0   \n",
       "\n",
       "      Last Notable Activity_Unreachable  \n",
       "1105                                  0  \n",
       "5872                                  0  \n",
       "480                                   0  \n",
       "8055                                  0  \n",
       "8214                                  0  "
      ]
     },
     "execution_count": 326,
     "metadata": {},
     "output_type": "execute_result"
    }
   ],
   "source": [
    "X_test = X_test[col]\n",
    "X_test.head()"
   ]
  },
  {
   "cell_type": "code",
   "execution_count": 327,
   "metadata": {},
   "outputs": [],
   "source": [
    "X_test_sm = sm.add_constant(X_test)"
   ]
  },
  {
   "cell_type": "code",
   "execution_count": 328,
   "metadata": {},
   "outputs": [],
   "source": [
    "y_test_pred = res.predict(X_test_sm)"
   ]
  },
  {
   "cell_type": "code",
   "execution_count": 329,
   "metadata": {},
   "outputs": [
    {
     "data": {
      "text/plain": [
       "1105    0.142340\n",
       "5872    0.996235\n",
       "480     0.251155\n",
       "8055    0.977168\n",
       "8214    0.251155\n",
       "4641    0.111256\n",
       "5693    0.251155\n",
       "3810    0.695856\n",
       "430     0.165111\n",
       "2085    0.981649\n",
       "dtype: float64"
      ]
     },
     "execution_count": 329,
     "metadata": {},
     "output_type": "execute_result"
    }
   ],
   "source": [
    "y_test_pred[:10]"
   ]
  },
  {
   "cell_type": "code",
   "execution_count": 330,
   "metadata": {},
   "outputs": [],
   "source": [
    "# Converting y_pred to a dataframe which is an array\n",
    "y_pred_1 = pd.DataFrame(y_test_pred)"
   ]
  },
  {
   "cell_type": "code",
   "execution_count": 331,
   "metadata": {},
   "outputs": [
    {
     "data": {
      "text/html": [
       "<div>\n",
       "<style scoped>\n",
       "    .dataframe tbody tr th:only-of-type {\n",
       "        vertical-align: middle;\n",
       "    }\n",
       "\n",
       "    .dataframe tbody tr th {\n",
       "        vertical-align: top;\n",
       "    }\n",
       "\n",
       "    .dataframe thead th {\n",
       "        text-align: right;\n",
       "    }\n",
       "</style>\n",
       "<table border=\"1\" class=\"dataframe\">\n",
       "  <thead>\n",
       "    <tr style=\"text-align: right;\">\n",
       "      <th></th>\n",
       "      <th>0</th>\n",
       "    </tr>\n",
       "  </thead>\n",
       "  <tbody>\n",
       "    <tr>\n",
       "      <th>1105</th>\n",
       "      <td>0.142340</td>\n",
       "    </tr>\n",
       "    <tr>\n",
       "      <th>5872</th>\n",
       "      <td>0.996235</td>\n",
       "    </tr>\n",
       "    <tr>\n",
       "      <th>480</th>\n",
       "      <td>0.251155</td>\n",
       "    </tr>\n",
       "    <tr>\n",
       "      <th>8055</th>\n",
       "      <td>0.977168</td>\n",
       "    </tr>\n",
       "    <tr>\n",
       "      <th>8214</th>\n",
       "      <td>0.251155</td>\n",
       "    </tr>\n",
       "  </tbody>\n",
       "</table>\n",
       "</div>"
      ],
      "text/plain": [
       "             0\n",
       "1105  0.142340\n",
       "5872  0.996235\n",
       "480   0.251155\n",
       "8055  0.977168\n",
       "8214  0.251155"
      ]
     },
     "execution_count": 331,
     "metadata": {},
     "output_type": "execute_result"
    }
   ],
   "source": [
    "# Checking the head\n",
    "y_pred_1.head()"
   ]
  },
  {
   "cell_type": "code",
   "execution_count": 332,
   "metadata": {},
   "outputs": [],
   "source": [
    "# Converting y_test to dataframe\n",
    "y_test_df = pd.DataFrame(y_test)"
   ]
  },
  {
   "cell_type": "code",
   "execution_count": 333,
   "metadata": {},
   "outputs": [],
   "source": [
    "# Putting Prospect ID to index\n",
    "y_test_df['Prospect ID'] = y_test_df.index"
   ]
  },
  {
   "cell_type": "code",
   "execution_count": 334,
   "metadata": {},
   "outputs": [],
   "source": [
    "# Removing index for both dataframes to append them side by side \n",
    "y_pred_1.reset_index(drop=True, inplace=True)\n",
    "y_test_df.reset_index(drop=True, inplace=True)"
   ]
  },
  {
   "cell_type": "code",
   "execution_count": 335,
   "metadata": {},
   "outputs": [],
   "source": [
    "# Appending y_test_df and y_pred_1\n",
    "y_pred_final = pd.concat([y_test_df, y_pred_1],axis=1)"
   ]
  },
  {
   "cell_type": "code",
   "execution_count": 336,
   "metadata": {},
   "outputs": [],
   "source": [
    "# Appending y_test_df and y_pred_1\n",
    "y_pred_final = pd.concat([y_test_df, y_pred_1],axis=1)"
   ]
  },
  {
   "cell_type": "code",
   "execution_count": 337,
   "metadata": {},
   "outputs": [
    {
     "data": {
      "text/html": [
       "<div>\n",
       "<style scoped>\n",
       "    .dataframe tbody tr th:only-of-type {\n",
       "        vertical-align: middle;\n",
       "    }\n",
       "\n",
       "    .dataframe tbody tr th {\n",
       "        vertical-align: top;\n",
       "    }\n",
       "\n",
       "    .dataframe thead th {\n",
       "        text-align: right;\n",
       "    }\n",
       "</style>\n",
       "<table border=\"1\" class=\"dataframe\">\n",
       "  <thead>\n",
       "    <tr style=\"text-align: right;\">\n",
       "      <th></th>\n",
       "      <th>Converted</th>\n",
       "      <th>Prospect ID</th>\n",
       "      <th>0</th>\n",
       "    </tr>\n",
       "  </thead>\n",
       "  <tbody>\n",
       "    <tr>\n",
       "      <th>0</th>\n",
       "      <td>0</td>\n",
       "      <td>1105</td>\n",
       "      <td>0.142340</td>\n",
       "    </tr>\n",
       "    <tr>\n",
       "      <th>1</th>\n",
       "      <td>1</td>\n",
       "      <td>5872</td>\n",
       "      <td>0.996235</td>\n",
       "    </tr>\n",
       "    <tr>\n",
       "      <th>2</th>\n",
       "      <td>0</td>\n",
       "      <td>480</td>\n",
       "      <td>0.251155</td>\n",
       "    </tr>\n",
       "    <tr>\n",
       "      <th>3</th>\n",
       "      <td>1</td>\n",
       "      <td>8055</td>\n",
       "      <td>0.977168</td>\n",
       "    </tr>\n",
       "    <tr>\n",
       "      <th>4</th>\n",
       "      <td>0</td>\n",
       "      <td>8214</td>\n",
       "      <td>0.251155</td>\n",
       "    </tr>\n",
       "  </tbody>\n",
       "</table>\n",
       "</div>"
      ],
      "text/plain": [
       "   Converted  Prospect ID         0\n",
       "0          0         1105  0.142340\n",
       "1          1         5872  0.996235\n",
       "2          0          480  0.251155\n",
       "3          1         8055  0.977168\n",
       "4          0         8214  0.251155"
      ]
     },
     "execution_count": 337,
     "metadata": {},
     "output_type": "execute_result"
    }
   ],
   "source": [
    "y_pred_final.head()"
   ]
  },
  {
   "cell_type": "code",
   "execution_count": 338,
   "metadata": {},
   "outputs": [],
   "source": [
    "# Renaming the column \n",
    "y_pred_final= y_pred_final.rename(columns={ 0 : 'Conversion_Prob'})"
   ]
  },
  {
   "cell_type": "code",
   "execution_count": 339,
   "metadata": {},
   "outputs": [],
   "source": [
    "# Rearranging the columns\n",
    "y_pred_final = y_pred_final.reindex_axis(['Prospect ID','Converted','Conversion_Prob'], axis=1)"
   ]
  },
  {
   "cell_type": "code",
   "execution_count": 340,
   "metadata": {},
   "outputs": [
    {
     "data": {
      "text/html": [
       "<div>\n",
       "<style scoped>\n",
       "    .dataframe tbody tr th:only-of-type {\n",
       "        vertical-align: middle;\n",
       "    }\n",
       "\n",
       "    .dataframe tbody tr th {\n",
       "        vertical-align: top;\n",
       "    }\n",
       "\n",
       "    .dataframe thead th {\n",
       "        text-align: right;\n",
       "    }\n",
       "</style>\n",
       "<table border=\"1\" class=\"dataframe\">\n",
       "  <thead>\n",
       "    <tr style=\"text-align: right;\">\n",
       "      <th></th>\n",
       "      <th>Prospect ID</th>\n",
       "      <th>Converted</th>\n",
       "      <th>Conversion_Prob</th>\n",
       "    </tr>\n",
       "  </thead>\n",
       "  <tbody>\n",
       "    <tr>\n",
       "      <th>0</th>\n",
       "      <td>1105</td>\n",
       "      <td>0</td>\n",
       "      <td>0.142340</td>\n",
       "    </tr>\n",
       "    <tr>\n",
       "      <th>1</th>\n",
       "      <td>5872</td>\n",
       "      <td>1</td>\n",
       "      <td>0.996235</td>\n",
       "    </tr>\n",
       "    <tr>\n",
       "      <th>2</th>\n",
       "      <td>480</td>\n",
       "      <td>0</td>\n",
       "      <td>0.251155</td>\n",
       "    </tr>\n",
       "    <tr>\n",
       "      <th>3</th>\n",
       "      <td>8055</td>\n",
       "      <td>1</td>\n",
       "      <td>0.977168</td>\n",
       "    </tr>\n",
       "    <tr>\n",
       "      <th>4</th>\n",
       "      <td>8214</td>\n",
       "      <td>0</td>\n",
       "      <td>0.251155</td>\n",
       "    </tr>\n",
       "  </tbody>\n",
       "</table>\n",
       "</div>"
      ],
      "text/plain": [
       "   Prospect ID  Converted  Conversion_Prob\n",
       "0         1105          0         0.142340\n",
       "1         5872          1         0.996235\n",
       "2          480          0         0.251155\n",
       "3         8055          1         0.977168\n",
       "4         8214          0         0.251155"
      ]
     },
     "execution_count": 340,
     "metadata": {},
     "output_type": "execute_result"
    }
   ],
   "source": [
    "# Checking the head of y_pred_final\n",
    "y_pred_final.head()"
   ]
  },
  {
   "cell_type": "code",
   "execution_count": 341,
   "metadata": {},
   "outputs": [],
   "source": [
    "#0.42 as cut off probability(from precision and recall curve) is giving better results compared to \n",
    "#0.33 (from accurcay,specificity and sensitivity curve)\n",
    "#So using 0.42 as the cut offf probability for making prediction\n",
    "y_pred_final['Final_Predicted'] = y_pred_final.Conversion_Prob.map(lambda x: 1 if x > 0.42 else 0)"
   ]
  },
  {
   "cell_type": "code",
   "execution_count": 342,
   "metadata": {},
   "outputs": [
    {
     "data": {
      "text/html": [
       "<div>\n",
       "<style scoped>\n",
       "    .dataframe tbody tr th:only-of-type {\n",
       "        vertical-align: middle;\n",
       "    }\n",
       "\n",
       "    .dataframe tbody tr th {\n",
       "        vertical-align: top;\n",
       "    }\n",
       "\n",
       "    .dataframe thead th {\n",
       "        text-align: right;\n",
       "    }\n",
       "</style>\n",
       "<table border=\"1\" class=\"dataframe\">\n",
       "  <thead>\n",
       "    <tr style=\"text-align: right;\">\n",
       "      <th></th>\n",
       "      <th>Prospect ID</th>\n",
       "      <th>Converted</th>\n",
       "      <th>Conversion_Prob</th>\n",
       "      <th>Final_Predicted</th>\n",
       "    </tr>\n",
       "  </thead>\n",
       "  <tbody>\n",
       "    <tr>\n",
       "      <th>0</th>\n",
       "      <td>1105</td>\n",
       "      <td>0</td>\n",
       "      <td>0.142340</td>\n",
       "      <td>0</td>\n",
       "    </tr>\n",
       "    <tr>\n",
       "      <th>1</th>\n",
       "      <td>5872</td>\n",
       "      <td>1</td>\n",
       "      <td>0.996235</td>\n",
       "      <td>1</td>\n",
       "    </tr>\n",
       "    <tr>\n",
       "      <th>2</th>\n",
       "      <td>480</td>\n",
       "      <td>0</td>\n",
       "      <td>0.251155</td>\n",
       "      <td>0</td>\n",
       "    </tr>\n",
       "    <tr>\n",
       "      <th>3</th>\n",
       "      <td>8055</td>\n",
       "      <td>1</td>\n",
       "      <td>0.977168</td>\n",
       "      <td>1</td>\n",
       "    </tr>\n",
       "    <tr>\n",
       "      <th>4</th>\n",
       "      <td>8214</td>\n",
       "      <td>0</td>\n",
       "      <td>0.251155</td>\n",
       "      <td>0</td>\n",
       "    </tr>\n",
       "  </tbody>\n",
       "</table>\n",
       "</div>"
      ],
      "text/plain": [
       "   Prospect ID  Converted  Conversion_Prob  Final_Predicted\n",
       "0         1105          0         0.142340                0\n",
       "1         5872          1         0.996235                1\n",
       "2          480          0         0.251155                0\n",
       "3         8055          1         0.977168                1\n",
       "4         8214          0         0.251155                0"
      ]
     },
     "execution_count": 342,
     "metadata": {},
     "output_type": "execute_result"
    }
   ],
   "source": [
    "y_pred_final.head()"
   ]
  },
  {
   "cell_type": "code",
   "execution_count": 343,
   "metadata": {},
   "outputs": [
    {
     "data": {
      "text/plain": [
       "0.8028276652655713"
      ]
     },
     "execution_count": 343,
     "metadata": {},
     "output_type": "execute_result"
    }
   ],
   "source": [
    "#Checking the overall accuracy.\n",
    "metrics.accuracy_score(y_pred_final.Converted, y_pred_final.Final_Predicted)"
   ]
  },
  {
   "cell_type": "code",
   "execution_count": 344,
   "metadata": {},
   "outputs": [
    {
     "data": {
      "text/plain": [
       "array([[1363,  279],\n",
       "       [ 237,  738]], dtype=int64)"
      ]
     },
     "execution_count": 344,
     "metadata": {},
     "output_type": "execute_result"
    }
   ],
   "source": [
    "#Confusion matrix\n",
    "confusion2 = metrics.confusion_matrix(y_pred_final.Converted, y_pred_final.Final_Predicted )\n",
    "confusion2"
   ]
  },
  {
   "cell_type": "code",
   "execution_count": 345,
   "metadata": {},
   "outputs": [],
   "source": [
    "TP = confusion2[1,1] # true positive \n",
    "TN = confusion2[0,0] # true negatives\n",
    "FP = confusion2[0,1] # false positives\n",
    "FN = confusion2[1,0] # false negatives"
   ]
  },
  {
   "cell_type": "code",
   "execution_count": 346,
   "metadata": {},
   "outputs": [
    {
     "data": {
      "text/plain": [
       "0.7569230769230769"
      ]
     },
     "execution_count": 346,
     "metadata": {},
     "output_type": "execute_result"
    }
   ],
   "source": [
    "#Checking the sensitivity of our logistic regression model\n",
    "TP / float(TP+FN)"
   ]
  },
  {
   "cell_type": "code",
   "execution_count": 347,
   "metadata": {},
   "outputs": [
    {
     "data": {
      "text/plain": [
       "0.8300852618757613"
      ]
     },
     "execution_count": 347,
     "metadata": {},
     "output_type": "execute_result"
    }
   ],
   "source": [
    "#Checking the specificity\n",
    "TN / float(TN+FP)"
   ]
  },
  {
   "cell_type": "code",
   "execution_count": 348,
   "metadata": {},
   "outputs": [
    {
     "name": "stdout",
     "output_type": "stream",
     "text": [
      "0.16991473812423874\n"
     ]
    }
   ],
   "source": [
    "# Calculating false postive rate - predicting conversion when customer does not have converted\n",
    "print(FP/ float(TN+FP))"
   ]
  },
  {
   "cell_type": "code",
   "execution_count": 349,
   "metadata": {},
   "outputs": [
    {
     "name": "stdout",
     "output_type": "stream",
     "text": [
      "0.7256637168141593\n"
     ]
    }
   ],
   "source": [
    "#Calculating positive predictive value \n",
    "print (TP / float(TP+FP))"
   ]
  },
  {
   "cell_type": "code",
   "execution_count": 350,
   "metadata": {},
   "outputs": [
    {
     "name": "stdout",
     "output_type": "stream",
     "text": [
      "0.851875\n"
     ]
    }
   ],
   "source": [
    "#Calculating Negative predictive value\n",
    "print (TN / float(TN+ FN))"
   ]
  },
  {
   "cell_type": "markdown",
   "metadata": {},
   "source": [
    "## 12.Calculating lead scores for the original data set"
   ]
  },
  {
   "cell_type": "code",
   "execution_count": 351,
   "metadata": {},
   "outputs": [
    {
     "data": {
      "text/plain": [
       "Prospect ID                                           0.0\n",
       "Do Not Email                                          0.0\n",
       "Do Not Call                                           0.0\n",
       "Converted                                             0.0\n",
       "TotalVisits                                           0.0\n",
       "Total Time Spent on Website                           0.0\n",
       "Page Views Per Visit                                  0.0\n",
       "Search                                                0.0\n",
       "Newspaper Article                                     0.0\n",
       "X Education Forums                                    0.0\n",
       "Newspaper                                             0.0\n",
       "Digital Advertisement                                 0.0\n",
       "Through Recommendations                               0.0\n",
       "A free copy of Mastering The Interview                0.0\n",
       "Lead Origin_Landing Page Submission                   0.0\n",
       "Lead Origin_Lead Add Form                             0.0\n",
       "Lead Origin_Lead Import                               0.0\n",
       "Lead Source_Direct Traffic                            0.0\n",
       "Lead Source_Facebook                                  0.0\n",
       "Lead Source_Google                                    0.0\n",
       "Lead Source_Live Chat                                 0.0\n",
       "Lead Source_NC_EDM                                    0.0\n",
       "Lead Source_Olark Chat                                0.0\n",
       "Lead Source_Organic Search                            0.0\n",
       "Lead Source_Pay per Click Ads                         0.0\n",
       "Lead Source_Press_Release                             0.0\n",
       "Lead Source_Reference                                 0.0\n",
       "Lead Source_Referral Sites                            0.0\n",
       "Lead Source_Social Media                              0.0\n",
       "Lead Source_WeLearn                                   0.0\n",
       "                                                     ... \n",
       "Last Activity_Email Bounced                           0.0\n",
       "Last Activity_Email Link Clicked                      0.0\n",
       "Last Activity_Email Marked Spam                       0.0\n",
       "Last Activity_Email Opened                            0.0\n",
       "Last Activity_Email Received                          0.0\n",
       "Last Activity_Form Submitted on Website               0.0\n",
       "Last Activity_Had a Phone Conversation                0.0\n",
       "Last Activity_Olark Chat Conversation                 0.0\n",
       "Last Activity_Page Visited on Website                 0.0\n",
       "Last Activity_Resubscribed to emails                  0.0\n",
       "Last Activity_SMS Sent                                0.0\n",
       "Last Activity_Unreachable                             0.0\n",
       "Last Activity_Unsubscribed                            0.0\n",
       "Last Activity_View in browser link Clicked            0.0\n",
       "Last Activity_Visited Booth in Tradeshow              0.0\n",
       "Last Notable Activity_Email Bounced                   0.0\n",
       "Last Notable Activity_Email Link Clicked              0.0\n",
       "Last Notable Activity_Email Marked Spam               0.0\n",
       "Last Notable Activity_Email Opened                    0.0\n",
       "Last Notable Activity_Email Received                  0.0\n",
       "Last Notable Activity_Form Submitted on Website       0.0\n",
       "Last Notable Activity_Had a Phone Conversation        0.0\n",
       "Last Notable Activity_Modified                        0.0\n",
       "Last Notable Activity_Olark Chat Conversation         0.0\n",
       "Last Notable Activity_Page Visited on Website         0.0\n",
       "Last Notable Activity_Resubscribed to emails          0.0\n",
       "Last Notable Activity_SMS Sent                        0.0\n",
       "Last Notable Activity_Unreachable                     0.0\n",
       "Last Notable Activity_Unsubscribed                    0.0\n",
       "Last Notable Activity_View in browser link Clicked    0.0\n",
       "Length: 68, dtype: float64"
      ]
     },
     "execution_count": 351,
     "metadata": {},
     "output_type": "execute_result"
    }
   ],
   "source": [
    "# Checking the column-wise null percentages here\n",
    "\n",
    "round(100*(leads.isnull().sum()/len(leads.index)),2)"
   ]
  },
  {
   "cell_type": "code",
   "execution_count": 352,
   "metadata": {},
   "outputs": [],
   "source": [
    "#Dividing leads test data set into x and y sets for the predictions\n",
    "y = leads['Converted']\n",
    "X = leads.drop(['Converted','Prospect ID'], 1)"
   ]
  },
  {
   "cell_type": "code",
   "execution_count": 353,
   "metadata": {},
   "outputs": [
    {
     "name": "stdout",
     "output_type": "stream",
     "text": [
      "<class 'pandas.core.frame.DataFrame'>\n",
      "Int64Index: 9074 entries, 0 to 9239\n",
      "Data columns (total 66 columns):\n",
      "Do Not Email                                          9074 non-null int64\n",
      "Do Not Call                                           9074 non-null int64\n",
      "TotalVisits                                           9074 non-null float64\n",
      "Total Time Spent on Website                           9074 non-null int64\n",
      "Page Views Per Visit                                  9074 non-null float64\n",
      "Search                                                9074 non-null int64\n",
      "Newspaper Article                                     9074 non-null int64\n",
      "X Education Forums                                    9074 non-null int64\n",
      "Newspaper                                             9074 non-null int64\n",
      "Digital Advertisement                                 9074 non-null int64\n",
      "Through Recommendations                               9074 non-null int64\n",
      "A free copy of Mastering The Interview                9074 non-null int64\n",
      "Lead Origin_Landing Page Submission                   9074 non-null uint8\n",
      "Lead Origin_Lead Add Form                             9074 non-null uint8\n",
      "Lead Origin_Lead Import                               9074 non-null uint8\n",
      "Lead Source_Direct Traffic                            9074 non-null uint8\n",
      "Lead Source_Facebook                                  9074 non-null uint8\n",
      "Lead Source_Google                                    9074 non-null uint8\n",
      "Lead Source_Live Chat                                 9074 non-null uint8\n",
      "Lead Source_NC_EDM                                    9074 non-null uint8\n",
      "Lead Source_Olark Chat                                9074 non-null uint8\n",
      "Lead Source_Organic Search                            9074 non-null uint8\n",
      "Lead Source_Pay per Click Ads                         9074 non-null uint8\n",
      "Lead Source_Press_Release                             9074 non-null uint8\n",
      "Lead Source_Reference                                 9074 non-null uint8\n",
      "Lead Source_Referral Sites                            9074 non-null uint8\n",
      "Lead Source_Social Media                              9074 non-null uint8\n",
      "Lead Source_WeLearn                                   9074 non-null uint8\n",
      "Lead Source_Welingak Website                          9074 non-null uint8\n",
      "Lead Source_bing                                      9074 non-null uint8\n",
      "Lead Source_blog                                      9074 non-null uint8\n",
      "Lead Source_google                                    9074 non-null uint8\n",
      "Lead Source_testone                                   9074 non-null uint8\n",
      "Lead Source_welearnblog_Home                          9074 non-null uint8\n",
      "Lead Source_youtubechannel                            9074 non-null uint8\n",
      "Last Activity_Converted to Lead                       9074 non-null uint8\n",
      "Last Activity_Email Bounced                           9074 non-null uint8\n",
      "Last Activity_Email Link Clicked                      9074 non-null uint8\n",
      "Last Activity_Email Marked Spam                       9074 non-null uint8\n",
      "Last Activity_Email Opened                            9074 non-null uint8\n",
      "Last Activity_Email Received                          9074 non-null uint8\n",
      "Last Activity_Form Submitted on Website               9074 non-null uint8\n",
      "Last Activity_Had a Phone Conversation                9074 non-null uint8\n",
      "Last Activity_Olark Chat Conversation                 9074 non-null uint8\n",
      "Last Activity_Page Visited on Website                 9074 non-null uint8\n",
      "Last Activity_Resubscribed to emails                  9074 non-null uint8\n",
      "Last Activity_SMS Sent                                9074 non-null uint8\n",
      "Last Activity_Unreachable                             9074 non-null uint8\n",
      "Last Activity_Unsubscribed                            9074 non-null uint8\n",
      "Last Activity_View in browser link Clicked            9074 non-null uint8\n",
      "Last Activity_Visited Booth in Tradeshow              9074 non-null uint8\n",
      "Last Notable Activity_Email Bounced                   9074 non-null uint8\n",
      "Last Notable Activity_Email Link Clicked              9074 non-null uint8\n",
      "Last Notable Activity_Email Marked Spam               9074 non-null uint8\n",
      "Last Notable Activity_Email Opened                    9074 non-null uint8\n",
      "Last Notable Activity_Email Received                  9074 non-null uint8\n",
      "Last Notable Activity_Form Submitted on Website       9074 non-null uint8\n",
      "Last Notable Activity_Had a Phone Conversation        9074 non-null uint8\n",
      "Last Notable Activity_Modified                        9074 non-null uint8\n",
      "Last Notable Activity_Olark Chat Conversation         9074 non-null uint8\n",
      "Last Notable Activity_Page Visited on Website         9074 non-null uint8\n",
      "Last Notable Activity_Resubscribed to emails          9074 non-null uint8\n",
      "Last Notable Activity_SMS Sent                        9074 non-null uint8\n",
      "Last Notable Activity_Unreachable                     9074 non-null uint8\n",
      "Last Notable Activity_Unsubscribed                    9074 non-null uint8\n",
      "Last Notable Activity_View in browser link Clicked    9074 non-null uint8\n",
      "dtypes: float64(2), int64(10), uint8(54)\n",
      "memory usage: 1.7 MB\n"
     ]
    }
   ],
   "source": [
    "#Checking the information of X\n",
    "X.info()"
   ]
  },
  {
   "cell_type": "code",
   "execution_count": 354,
   "metadata": {},
   "outputs": [],
   "source": [
    "#Applying the standard scaler on original data set\n",
    "X[['TotalVisits','Total Time Spent on Website','Page Views Per Visit']] = scaler.transform(X[['TotalVisits','Total Time Spent on Website','Page Views Per Visit']])"
   ]
  },
  {
   "cell_type": "code",
   "execution_count": 355,
   "metadata": {},
   "outputs": [
    {
     "data": {
      "text/html": [
       "<div>\n",
       "<style scoped>\n",
       "    .dataframe tbody tr th:only-of-type {\n",
       "        vertical-align: middle;\n",
       "    }\n",
       "\n",
       "    .dataframe tbody tr th {\n",
       "        vertical-align: top;\n",
       "    }\n",
       "\n",
       "    .dataframe thead th {\n",
       "        text-align: right;\n",
       "    }\n",
       "</style>\n",
       "<table border=\"1\" class=\"dataframe\">\n",
       "  <thead>\n",
       "    <tr style=\"text-align: right;\">\n",
       "      <th></th>\n",
       "      <th>Total Time Spent on Website</th>\n",
       "      <th>Through Recommendations</th>\n",
       "      <th>Lead Source_Direct Traffic</th>\n",
       "      <th>Lead Source_Google</th>\n",
       "      <th>Lead Source_Organic Search</th>\n",
       "      <th>Lead Source_Reference</th>\n",
       "      <th>Lead Source_Referral Sites</th>\n",
       "      <th>Lead Source_Welingak Website</th>\n",
       "      <th>Last Activity_Email Bounced</th>\n",
       "      <th>Last Activity_Had a Phone Conversation</th>\n",
       "      <th>Last Activity_Olark Chat Conversation</th>\n",
       "      <th>Last Notable Activity_Email Bounced</th>\n",
       "      <th>Last Notable Activity_SMS Sent</th>\n",
       "      <th>Last Notable Activity_Unreachable</th>\n",
       "    </tr>\n",
       "  </thead>\n",
       "  <tbody>\n",
       "    <tr>\n",
       "      <th>0</th>\n",
       "      <td>-0.876452</td>\n",
       "      <td>0</td>\n",
       "      <td>0</td>\n",
       "      <td>0</td>\n",
       "      <td>0</td>\n",
       "      <td>0</td>\n",
       "      <td>0</td>\n",
       "      <td>0</td>\n",
       "      <td>0</td>\n",
       "      <td>0</td>\n",
       "      <td>0</td>\n",
       "      <td>0</td>\n",
       "      <td>0</td>\n",
       "      <td>0</td>\n",
       "    </tr>\n",
       "    <tr>\n",
       "      <th>1</th>\n",
       "      <td>0.369311</td>\n",
       "      <td>0</td>\n",
       "      <td>0</td>\n",
       "      <td>0</td>\n",
       "      <td>1</td>\n",
       "      <td>0</td>\n",
       "      <td>0</td>\n",
       "      <td>0</td>\n",
       "      <td>0</td>\n",
       "      <td>0</td>\n",
       "      <td>0</td>\n",
       "      <td>0</td>\n",
       "      <td>0</td>\n",
       "      <td>0</td>\n",
       "    </tr>\n",
       "    <tr>\n",
       "      <th>2</th>\n",
       "      <td>1.955163</td>\n",
       "      <td>0</td>\n",
       "      <td>1</td>\n",
       "      <td>0</td>\n",
       "      <td>0</td>\n",
       "      <td>0</td>\n",
       "      <td>0</td>\n",
       "      <td>0</td>\n",
       "      <td>0</td>\n",
       "      <td>0</td>\n",
       "      <td>0</td>\n",
       "      <td>0</td>\n",
       "      <td>0</td>\n",
       "      <td>0</td>\n",
       "    </tr>\n",
       "    <tr>\n",
       "      <th>3</th>\n",
       "      <td>-0.312716</td>\n",
       "      <td>0</td>\n",
       "      <td>1</td>\n",
       "      <td>0</td>\n",
       "      <td>0</td>\n",
       "      <td>0</td>\n",
       "      <td>0</td>\n",
       "      <td>0</td>\n",
       "      <td>0</td>\n",
       "      <td>0</td>\n",
       "      <td>0</td>\n",
       "      <td>0</td>\n",
       "      <td>0</td>\n",
       "      <td>0</td>\n",
       "    </tr>\n",
       "    <tr>\n",
       "      <th>4</th>\n",
       "      <td>1.762938</td>\n",
       "      <td>0</td>\n",
       "      <td>0</td>\n",
       "      <td>1</td>\n",
       "      <td>0</td>\n",
       "      <td>0</td>\n",
       "      <td>0</td>\n",
       "      <td>0</td>\n",
       "      <td>0</td>\n",
       "      <td>0</td>\n",
       "      <td>0</td>\n",
       "      <td>0</td>\n",
       "      <td>0</td>\n",
       "      <td>0</td>\n",
       "    </tr>\n",
       "  </tbody>\n",
       "</table>\n",
       "</div>"
      ],
      "text/plain": [
       "   Total Time Spent on Website  Through Recommendations  \\\n",
       "0                    -0.876452                        0   \n",
       "1                     0.369311                        0   \n",
       "2                     1.955163                        0   \n",
       "3                    -0.312716                        0   \n",
       "4                     1.762938                        0   \n",
       "\n",
       "   Lead Source_Direct Traffic  Lead Source_Google  Lead Source_Organic Search  \\\n",
       "0                           0                   0                           0   \n",
       "1                           0                   0                           1   \n",
       "2                           1                   0                           0   \n",
       "3                           1                   0                           0   \n",
       "4                           0                   1                           0   \n",
       "\n",
       "   Lead Source_Reference  Lead Source_Referral Sites  \\\n",
       "0                      0                           0   \n",
       "1                      0                           0   \n",
       "2                      0                           0   \n",
       "3                      0                           0   \n",
       "4                      0                           0   \n",
       "\n",
       "   Lead Source_Welingak Website  Last Activity_Email Bounced  \\\n",
       "0                             0                            0   \n",
       "1                             0                            0   \n",
       "2                             0                            0   \n",
       "3                             0                            0   \n",
       "4                             0                            0   \n",
       "\n",
       "   Last Activity_Had a Phone Conversation  \\\n",
       "0                                       0   \n",
       "1                                       0   \n",
       "2                                       0   \n",
       "3                                       0   \n",
       "4                                       0   \n",
       "\n",
       "   Last Activity_Olark Chat Conversation  Last Notable Activity_Email Bounced  \\\n",
       "0                                      0                                    0   \n",
       "1                                      0                                    0   \n",
       "2                                      0                                    0   \n",
       "3                                      0                                    0   \n",
       "4                                      0                                    0   \n",
       "\n",
       "   Last Notable Activity_SMS Sent  Last Notable Activity_Unreachable  \n",
       "0                               0                                  0  \n",
       "1                               0                                  0  \n",
       "2                               0                                  0  \n",
       "3                               0                                  0  \n",
       "4                               0                                  0  "
      ]
     },
     "execution_count": 355,
     "metadata": {},
     "output_type": "execute_result"
    }
   ],
   "source": [
    "X = X[col]\n",
    "X.head()"
   ]
  },
  {
   "cell_type": "code",
   "execution_count": 356,
   "metadata": {},
   "outputs": [],
   "source": [
    "X_sm = sm.add_constant(X)"
   ]
  },
  {
   "cell_type": "code",
   "execution_count": 357,
   "metadata": {},
   "outputs": [],
   "source": [
    "y_pred = res.predict(X_sm)"
   ]
  },
  {
   "cell_type": "code",
   "execution_count": 358,
   "metadata": {},
   "outputs": [
    {
     "data": {
      "text/plain": [
       "0    0.251155\n",
       "1    0.280197\n",
       "2    0.635334\n",
       "3    0.128159\n",
       "4    0.686393\n",
       "5    0.064192\n",
       "6    0.770389\n",
       "7    0.064192\n",
       "8    0.084026\n",
       "9    0.121602\n",
       "dtype: float64"
      ]
     },
     "execution_count": 358,
     "metadata": {},
     "output_type": "execute_result"
    }
   ],
   "source": [
    "y_pred[:10]"
   ]
  },
  {
   "cell_type": "code",
   "execution_count": 359,
   "metadata": {},
   "outputs": [],
   "source": [
    "# Converting y_pred to a dataframe which is an array\n",
    "y_pred_1 = pd.DataFrame(y_pred)"
   ]
  },
  {
   "cell_type": "code",
   "execution_count": 360,
   "metadata": {},
   "outputs": [
    {
     "data": {
      "text/html": [
       "<div>\n",
       "<style scoped>\n",
       "    .dataframe tbody tr th:only-of-type {\n",
       "        vertical-align: middle;\n",
       "    }\n",
       "\n",
       "    .dataframe tbody tr th {\n",
       "        vertical-align: top;\n",
       "    }\n",
       "\n",
       "    .dataframe thead th {\n",
       "        text-align: right;\n",
       "    }\n",
       "</style>\n",
       "<table border=\"1\" class=\"dataframe\">\n",
       "  <thead>\n",
       "    <tr style=\"text-align: right;\">\n",
       "      <th></th>\n",
       "      <th>0</th>\n",
       "    </tr>\n",
       "  </thead>\n",
       "  <tbody>\n",
       "    <tr>\n",
       "      <th>0</th>\n",
       "      <td>0.251155</td>\n",
       "    </tr>\n",
       "    <tr>\n",
       "      <th>1</th>\n",
       "      <td>0.280197</td>\n",
       "    </tr>\n",
       "    <tr>\n",
       "      <th>2</th>\n",
       "      <td>0.635334</td>\n",
       "    </tr>\n",
       "    <tr>\n",
       "      <th>3</th>\n",
       "      <td>0.128159</td>\n",
       "    </tr>\n",
       "    <tr>\n",
       "      <th>4</th>\n",
       "      <td>0.686393</td>\n",
       "    </tr>\n",
       "  </tbody>\n",
       "</table>\n",
       "</div>"
      ],
      "text/plain": [
       "          0\n",
       "0  0.251155\n",
       "1  0.280197\n",
       "2  0.635334\n",
       "3  0.128159\n",
       "4  0.686393"
      ]
     },
     "execution_count": 360,
     "metadata": {},
     "output_type": "execute_result"
    }
   ],
   "source": [
    "# Checking the head\n",
    "y_pred_1.head()"
   ]
  },
  {
   "cell_type": "code",
   "execution_count": 361,
   "metadata": {},
   "outputs": [],
   "source": [
    "# Converting y to dataframe\n",
    "y_df = pd.DataFrame(y)"
   ]
  },
  {
   "cell_type": "code",
   "execution_count": 362,
   "metadata": {},
   "outputs": [],
   "source": [
    "#Mapping the Prospect ID of the leads data set to y_df\n",
    "y_df['Prospect ID'] = leads['Prospect ID']"
   ]
  },
  {
   "cell_type": "code",
   "execution_count": 363,
   "metadata": {},
   "outputs": [],
   "source": [
    "# Removing index for both dataframes to append them side by side \n",
    "y_pred_1.reset_index(drop=True, inplace=True)\n",
    "y_df.reset_index(drop=True, inplace=True)"
   ]
  },
  {
   "cell_type": "code",
   "execution_count": 364,
   "metadata": {},
   "outputs": [],
   "source": [
    "# Appending y_df and y_pred_1\n",
    "y_pred_final = pd.concat([y_df, y_pred_1],axis=1)"
   ]
  },
  {
   "cell_type": "code",
   "execution_count": 365,
   "metadata": {},
   "outputs": [],
   "source": [
    "# Appending y_df and y_pred_1\n",
    "y_pred_final = pd.concat([y_df, y_pred_1],axis=1)"
   ]
  },
  {
   "cell_type": "code",
   "execution_count": 366,
   "metadata": {},
   "outputs": [
    {
     "data": {
      "text/html": [
       "<div>\n",
       "<style scoped>\n",
       "    .dataframe tbody tr th:only-of-type {\n",
       "        vertical-align: middle;\n",
       "    }\n",
       "\n",
       "    .dataframe tbody tr th {\n",
       "        vertical-align: top;\n",
       "    }\n",
       "\n",
       "    .dataframe thead th {\n",
       "        text-align: right;\n",
       "    }\n",
       "</style>\n",
       "<table border=\"1\" class=\"dataframe\">\n",
       "  <thead>\n",
       "    <tr style=\"text-align: right;\">\n",
       "      <th></th>\n",
       "      <th>Converted</th>\n",
       "      <th>Prospect ID</th>\n",
       "      <th>0</th>\n",
       "    </tr>\n",
       "  </thead>\n",
       "  <tbody>\n",
       "    <tr>\n",
       "      <th>0</th>\n",
       "      <td>0</td>\n",
       "      <td>7927b2df-8bba-4d29-b9a2-b6e0beafe620</td>\n",
       "      <td>0.251155</td>\n",
       "    </tr>\n",
       "    <tr>\n",
       "      <th>1</th>\n",
       "      <td>0</td>\n",
       "      <td>2a272436-5132-4136-86fa-dcc88c88f482</td>\n",
       "      <td>0.280197</td>\n",
       "    </tr>\n",
       "    <tr>\n",
       "      <th>2</th>\n",
       "      <td>1</td>\n",
       "      <td>8cc8c611-a219-4f35-ad23-fdfd2656bd8a</td>\n",
       "      <td>0.635334</td>\n",
       "    </tr>\n",
       "    <tr>\n",
       "      <th>3</th>\n",
       "      <td>0</td>\n",
       "      <td>0cc2df48-7cf4-4e39-9de9-19797f9b38cc</td>\n",
       "      <td>0.128159</td>\n",
       "    </tr>\n",
       "    <tr>\n",
       "      <th>4</th>\n",
       "      <td>1</td>\n",
       "      <td>3256f628-e534-4826-9d63-4a8b88782852</td>\n",
       "      <td>0.686393</td>\n",
       "    </tr>\n",
       "  </tbody>\n",
       "</table>\n",
       "</div>"
      ],
      "text/plain": [
       "   Converted                           Prospect ID         0\n",
       "0          0  7927b2df-8bba-4d29-b9a2-b6e0beafe620  0.251155\n",
       "1          0  2a272436-5132-4136-86fa-dcc88c88f482  0.280197\n",
       "2          1  8cc8c611-a219-4f35-ad23-fdfd2656bd8a  0.635334\n",
       "3          0  0cc2df48-7cf4-4e39-9de9-19797f9b38cc  0.128159\n",
       "4          1  3256f628-e534-4826-9d63-4a8b88782852  0.686393"
      ]
     },
     "execution_count": 366,
     "metadata": {},
     "output_type": "execute_result"
    }
   ],
   "source": [
    "#Checking the head\n",
    "y_pred_final.head()"
   ]
  },
  {
   "cell_type": "code",
   "execution_count": 367,
   "metadata": {},
   "outputs": [],
   "source": [
    "# Renaming the column \n",
    "y_pred_final= y_pred_final.rename(columns={ 0 : 'Conversion_Prob'})"
   ]
  },
  {
   "cell_type": "code",
   "execution_count": 368,
   "metadata": {},
   "outputs": [],
   "source": [
    "# Rearranging the columns\n",
    "y_pred_final = y_pred_final.reindex_axis(['Prospect ID','Converted','Conversion_Prob'], axis=1)"
   ]
  },
  {
   "cell_type": "code",
   "execution_count": 369,
   "metadata": {},
   "outputs": [
    {
     "data": {
      "text/html": [
       "<div>\n",
       "<style scoped>\n",
       "    .dataframe tbody tr th:only-of-type {\n",
       "        vertical-align: middle;\n",
       "    }\n",
       "\n",
       "    .dataframe tbody tr th {\n",
       "        vertical-align: top;\n",
       "    }\n",
       "\n",
       "    .dataframe thead th {\n",
       "        text-align: right;\n",
       "    }\n",
       "</style>\n",
       "<table border=\"1\" class=\"dataframe\">\n",
       "  <thead>\n",
       "    <tr style=\"text-align: right;\">\n",
       "      <th></th>\n",
       "      <th>Prospect ID</th>\n",
       "      <th>Converted</th>\n",
       "      <th>Conversion_Prob</th>\n",
       "    </tr>\n",
       "  </thead>\n",
       "  <tbody>\n",
       "    <tr>\n",
       "      <th>0</th>\n",
       "      <td>7927b2df-8bba-4d29-b9a2-b6e0beafe620</td>\n",
       "      <td>0</td>\n",
       "      <td>0.251155</td>\n",
       "    </tr>\n",
       "    <tr>\n",
       "      <th>1</th>\n",
       "      <td>2a272436-5132-4136-86fa-dcc88c88f482</td>\n",
       "      <td>0</td>\n",
       "      <td>0.280197</td>\n",
       "    </tr>\n",
       "    <tr>\n",
       "      <th>2</th>\n",
       "      <td>8cc8c611-a219-4f35-ad23-fdfd2656bd8a</td>\n",
       "      <td>1</td>\n",
       "      <td>0.635334</td>\n",
       "    </tr>\n",
       "    <tr>\n",
       "      <th>3</th>\n",
       "      <td>0cc2df48-7cf4-4e39-9de9-19797f9b38cc</td>\n",
       "      <td>0</td>\n",
       "      <td>0.128159</td>\n",
       "    </tr>\n",
       "    <tr>\n",
       "      <th>4</th>\n",
       "      <td>3256f628-e534-4826-9d63-4a8b88782852</td>\n",
       "      <td>1</td>\n",
       "      <td>0.686393</td>\n",
       "    </tr>\n",
       "  </tbody>\n",
       "</table>\n",
       "</div>"
      ],
      "text/plain": [
       "                            Prospect ID  Converted  Conversion_Prob\n",
       "0  7927b2df-8bba-4d29-b9a2-b6e0beafe620          0         0.251155\n",
       "1  2a272436-5132-4136-86fa-dcc88c88f482          0         0.280197\n",
       "2  8cc8c611-a219-4f35-ad23-fdfd2656bd8a          1         0.635334\n",
       "3  0cc2df48-7cf4-4e39-9de9-19797f9b38cc          0         0.128159\n",
       "4  3256f628-e534-4826-9d63-4a8b88782852          1         0.686393"
      ]
     },
     "execution_count": 369,
     "metadata": {},
     "output_type": "execute_result"
    }
   ],
   "source": [
    "# Checking the head of y_pred_final\n",
    "y_pred_final.head()"
   ]
  },
  {
   "cell_type": "code",
   "execution_count": 370,
   "metadata": {},
   "outputs": [],
   "source": [
    "#Using 0.42 as cut off probability for making prediction as it is giving better results \n",
    "y_pred_final['Final_Predicted'] = y_pred_final.Conversion_Prob.map(lambda x: 1 if x > 0.32 else 0)"
   ]
  },
  {
   "cell_type": "code",
   "execution_count": 371,
   "metadata": {},
   "outputs": [
    {
     "data": {
      "text/html": [
       "<div>\n",
       "<style scoped>\n",
       "    .dataframe tbody tr th:only-of-type {\n",
       "        vertical-align: middle;\n",
       "    }\n",
       "\n",
       "    .dataframe tbody tr th {\n",
       "        vertical-align: top;\n",
       "    }\n",
       "\n",
       "    .dataframe thead th {\n",
       "        text-align: right;\n",
       "    }\n",
       "</style>\n",
       "<table border=\"1\" class=\"dataframe\">\n",
       "  <thead>\n",
       "    <tr style=\"text-align: right;\">\n",
       "      <th></th>\n",
       "      <th>Prospect ID</th>\n",
       "      <th>Converted</th>\n",
       "      <th>Conversion_Prob</th>\n",
       "      <th>Final_Predicted</th>\n",
       "    </tr>\n",
       "  </thead>\n",
       "  <tbody>\n",
       "    <tr>\n",
       "      <th>0</th>\n",
       "      <td>7927b2df-8bba-4d29-b9a2-b6e0beafe620</td>\n",
       "      <td>0</td>\n",
       "      <td>0.251155</td>\n",
       "      <td>0</td>\n",
       "    </tr>\n",
       "    <tr>\n",
       "      <th>1</th>\n",
       "      <td>2a272436-5132-4136-86fa-dcc88c88f482</td>\n",
       "      <td>0</td>\n",
       "      <td>0.280197</td>\n",
       "      <td>0</td>\n",
       "    </tr>\n",
       "    <tr>\n",
       "      <th>2</th>\n",
       "      <td>8cc8c611-a219-4f35-ad23-fdfd2656bd8a</td>\n",
       "      <td>1</td>\n",
       "      <td>0.635334</td>\n",
       "      <td>1</td>\n",
       "    </tr>\n",
       "    <tr>\n",
       "      <th>3</th>\n",
       "      <td>0cc2df48-7cf4-4e39-9de9-19797f9b38cc</td>\n",
       "      <td>0</td>\n",
       "      <td>0.128159</td>\n",
       "      <td>0</td>\n",
       "    </tr>\n",
       "    <tr>\n",
       "      <th>4</th>\n",
       "      <td>3256f628-e534-4826-9d63-4a8b88782852</td>\n",
       "      <td>1</td>\n",
       "      <td>0.686393</td>\n",
       "      <td>1</td>\n",
       "    </tr>\n",
       "  </tbody>\n",
       "</table>\n",
       "</div>"
      ],
      "text/plain": [
       "                            Prospect ID  Converted  Conversion_Prob  \\\n",
       "0  7927b2df-8bba-4d29-b9a2-b6e0beafe620          0         0.251155   \n",
       "1  2a272436-5132-4136-86fa-dcc88c88f482          0         0.280197   \n",
       "2  8cc8c611-a219-4f35-ad23-fdfd2656bd8a          1         0.635334   \n",
       "3  0cc2df48-7cf4-4e39-9de9-19797f9b38cc          0         0.128159   \n",
       "4  3256f628-e534-4826-9d63-4a8b88782852          1         0.686393   \n",
       "\n",
       "   Final_Predicted  \n",
       "0                0  \n",
       "1                0  \n",
       "2                1  \n",
       "3                0  \n",
       "4                1  "
      ]
     },
     "execution_count": 371,
     "metadata": {},
     "output_type": "execute_result"
    }
   ],
   "source": [
    "#Checking the head\n",
    "y_pred_final.head()"
   ]
  },
  {
   "cell_type": "code",
   "execution_count": 372,
   "metadata": {},
   "outputs": [],
   "source": [
    "#Concatenating the X and y_pred_final and storing it in leads\n",
    "leads = pd.concat([y_pred_final,X],axis=1)"
   ]
  },
  {
   "cell_type": "code",
   "execution_count": 373,
   "metadata": {},
   "outputs": [
    {
     "data": {
      "text/html": [
       "<div>\n",
       "<style scoped>\n",
       "    .dataframe tbody tr th:only-of-type {\n",
       "        vertical-align: middle;\n",
       "    }\n",
       "\n",
       "    .dataframe tbody tr th {\n",
       "        vertical-align: top;\n",
       "    }\n",
       "\n",
       "    .dataframe thead th {\n",
       "        text-align: right;\n",
       "    }\n",
       "</style>\n",
       "<table border=\"1\" class=\"dataframe\">\n",
       "  <thead>\n",
       "    <tr style=\"text-align: right;\">\n",
       "      <th></th>\n",
       "      <th>Prospect ID</th>\n",
       "      <th>Converted</th>\n",
       "      <th>Conversion_Prob</th>\n",
       "      <th>Final_Predicted</th>\n",
       "      <th>Total Time Spent on Website</th>\n",
       "      <th>Through Recommendations</th>\n",
       "      <th>Lead Source_Direct Traffic</th>\n",
       "      <th>Lead Source_Google</th>\n",
       "      <th>Lead Source_Organic Search</th>\n",
       "      <th>Lead Source_Reference</th>\n",
       "      <th>Lead Source_Referral Sites</th>\n",
       "      <th>Lead Source_Welingak Website</th>\n",
       "      <th>Last Activity_Email Bounced</th>\n",
       "      <th>Last Activity_Had a Phone Conversation</th>\n",
       "      <th>Last Activity_Olark Chat Conversation</th>\n",
       "      <th>Last Notable Activity_Email Bounced</th>\n",
       "      <th>Last Notable Activity_SMS Sent</th>\n",
       "      <th>Last Notable Activity_Unreachable</th>\n",
       "    </tr>\n",
       "  </thead>\n",
       "  <tbody>\n",
       "    <tr>\n",
       "      <th>9235</th>\n",
       "      <td>NaN</td>\n",
       "      <td>NaN</td>\n",
       "      <td>NaN</td>\n",
       "      <td>NaN</td>\n",
       "      <td>2.533684</td>\n",
       "      <td>0.0</td>\n",
       "      <td>1.0</td>\n",
       "      <td>0.0</td>\n",
       "      <td>0.0</td>\n",
       "      <td>0.0</td>\n",
       "      <td>0.0</td>\n",
       "      <td>0.0</td>\n",
       "      <td>0.0</td>\n",
       "      <td>0.0</td>\n",
       "      <td>0.0</td>\n",
       "      <td>0.0</td>\n",
       "      <td>0.0</td>\n",
       "      <td>0.0</td>\n",
       "    </tr>\n",
       "    <tr>\n",
       "      <th>9236</th>\n",
       "      <td>NaN</td>\n",
       "      <td>NaN</td>\n",
       "      <td>NaN</td>\n",
       "      <td>NaN</td>\n",
       "      <td>-0.436553</td>\n",
       "      <td>0.0</td>\n",
       "      <td>1.0</td>\n",
       "      <td>0.0</td>\n",
       "      <td>0.0</td>\n",
       "      <td>0.0</td>\n",
       "      <td>0.0</td>\n",
       "      <td>0.0</td>\n",
       "      <td>0.0</td>\n",
       "      <td>0.0</td>\n",
       "      <td>0.0</td>\n",
       "      <td>0.0</td>\n",
       "      <td>1.0</td>\n",
       "      <td>0.0</td>\n",
       "    </tr>\n",
       "    <tr>\n",
       "      <th>9237</th>\n",
       "      <td>NaN</td>\n",
       "      <td>NaN</td>\n",
       "      <td>NaN</td>\n",
       "      <td>NaN</td>\n",
       "      <td>-0.508637</td>\n",
       "      <td>0.0</td>\n",
       "      <td>1.0</td>\n",
       "      <td>0.0</td>\n",
       "      <td>0.0</td>\n",
       "      <td>0.0</td>\n",
       "      <td>0.0</td>\n",
       "      <td>0.0</td>\n",
       "      <td>0.0</td>\n",
       "      <td>0.0</td>\n",
       "      <td>0.0</td>\n",
       "      <td>0.0</td>\n",
       "      <td>1.0</td>\n",
       "      <td>0.0</td>\n",
       "    </tr>\n",
       "    <tr>\n",
       "      <th>9238</th>\n",
       "      <td>NaN</td>\n",
       "      <td>NaN</td>\n",
       "      <td>NaN</td>\n",
       "      <td>NaN</td>\n",
       "      <td>0.045856</td>\n",
       "      <td>0.0</td>\n",
       "      <td>0.0</td>\n",
       "      <td>1.0</td>\n",
       "      <td>0.0</td>\n",
       "      <td>0.0</td>\n",
       "      <td>0.0</td>\n",
       "      <td>0.0</td>\n",
       "      <td>0.0</td>\n",
       "      <td>0.0</td>\n",
       "      <td>0.0</td>\n",
       "      <td>0.0</td>\n",
       "      <td>1.0</td>\n",
       "      <td>0.0</td>\n",
       "    </tr>\n",
       "    <tr>\n",
       "      <th>9239</th>\n",
       "      <td>NaN</td>\n",
       "      <td>NaN</td>\n",
       "      <td>NaN</td>\n",
       "      <td>NaN</td>\n",
       "      <td>1.487540</td>\n",
       "      <td>0.0</td>\n",
       "      <td>1.0</td>\n",
       "      <td>0.0</td>\n",
       "      <td>0.0</td>\n",
       "      <td>0.0</td>\n",
       "      <td>0.0</td>\n",
       "      <td>0.0</td>\n",
       "      <td>0.0</td>\n",
       "      <td>0.0</td>\n",
       "      <td>0.0</td>\n",
       "      <td>0.0</td>\n",
       "      <td>0.0</td>\n",
       "      <td>0.0</td>\n",
       "    </tr>\n",
       "  </tbody>\n",
       "</table>\n",
       "</div>"
      ],
      "text/plain": [
       "     Prospect ID  Converted  Conversion_Prob  Final_Predicted  \\\n",
       "9235         NaN        NaN              NaN              NaN   \n",
       "9236         NaN        NaN              NaN              NaN   \n",
       "9237         NaN        NaN              NaN              NaN   \n",
       "9238         NaN        NaN              NaN              NaN   \n",
       "9239         NaN        NaN              NaN              NaN   \n",
       "\n",
       "      Total Time Spent on Website  Through Recommendations  \\\n",
       "9235                     2.533684                      0.0   \n",
       "9236                    -0.436553                      0.0   \n",
       "9237                    -0.508637                      0.0   \n",
       "9238                     0.045856                      0.0   \n",
       "9239                     1.487540                      0.0   \n",
       "\n",
       "      Lead Source_Direct Traffic  Lead Source_Google  \\\n",
       "9235                         1.0                 0.0   \n",
       "9236                         1.0                 0.0   \n",
       "9237                         1.0                 0.0   \n",
       "9238                         0.0                 1.0   \n",
       "9239                         1.0                 0.0   \n",
       "\n",
       "      Lead Source_Organic Search  Lead Source_Reference  \\\n",
       "9235                         0.0                    0.0   \n",
       "9236                         0.0                    0.0   \n",
       "9237                         0.0                    0.0   \n",
       "9238                         0.0                    0.0   \n",
       "9239                         0.0                    0.0   \n",
       "\n",
       "      Lead Source_Referral Sites  Lead Source_Welingak Website  \\\n",
       "9235                         0.0                           0.0   \n",
       "9236                         0.0                           0.0   \n",
       "9237                         0.0                           0.0   \n",
       "9238                         0.0                           0.0   \n",
       "9239                         0.0                           0.0   \n",
       "\n",
       "      Last Activity_Email Bounced  Last Activity_Had a Phone Conversation  \\\n",
       "9235                          0.0                                     0.0   \n",
       "9236                          0.0                                     0.0   \n",
       "9237                          0.0                                     0.0   \n",
       "9238                          0.0                                     0.0   \n",
       "9239                          0.0                                     0.0   \n",
       "\n",
       "      Last Activity_Olark Chat Conversation  \\\n",
       "9235                                    0.0   \n",
       "9236                                    0.0   \n",
       "9237                                    0.0   \n",
       "9238                                    0.0   \n",
       "9239                                    0.0   \n",
       "\n",
       "      Last Notable Activity_Email Bounced  Last Notable Activity_SMS Sent  \\\n",
       "9235                                  0.0                             0.0   \n",
       "9236                                  0.0                             1.0   \n",
       "9237                                  0.0                             1.0   \n",
       "9238                                  0.0                             1.0   \n",
       "9239                                  0.0                             0.0   \n",
       "\n",
       "      Last Notable Activity_Unreachable  \n",
       "9235                                0.0  \n",
       "9236                                0.0  \n",
       "9237                                0.0  \n",
       "9238                                0.0  \n",
       "9239                                0.0  "
      ]
     },
     "execution_count": 373,
     "metadata": {},
     "output_type": "execute_result"
    }
   ],
   "source": [
    "#Checking the head\n",
    "leads.tail()"
   ]
  },
  {
   "cell_type": "code",
   "execution_count": 374,
   "metadata": {},
   "outputs": [
    {
     "name": "stdout",
     "output_type": "stream",
     "text": [
      "<class 'pandas.core.frame.DataFrame'>\n",
      "Int64Index: 9238 entries, 0 to 9239\n",
      "Data columns (total 18 columns):\n",
      "Prospect ID                               9074 non-null object\n",
      "Converted                                 9074 non-null float64\n",
      "Conversion_Prob                           9074 non-null float64\n",
      "Final_Predicted                           9074 non-null float64\n",
      "Total Time Spent on Website               9074 non-null float64\n",
      "Through Recommendations                   9074 non-null float64\n",
      "Lead Source_Direct Traffic                9074 non-null float64\n",
      "Lead Source_Google                        9074 non-null float64\n",
      "Lead Source_Organic Search                9074 non-null float64\n",
      "Lead Source_Reference                     9074 non-null float64\n",
      "Lead Source_Referral Sites                9074 non-null float64\n",
      "Lead Source_Welingak Website              9074 non-null float64\n",
      "Last Activity_Email Bounced               9074 non-null float64\n",
      "Last Activity_Had a Phone Conversation    9074 non-null float64\n",
      "Last Activity_Olark Chat Conversation     9074 non-null float64\n",
      "Last Notable Activity_Email Bounced       9074 non-null float64\n",
      "Last Notable Activity_SMS Sent            9074 non-null float64\n",
      "Last Notable Activity_Unreachable         9074 non-null float64\n",
      "dtypes: float64(17), object(1)\n",
      "memory usage: 1.3+ MB\n"
     ]
    }
   ],
   "source": [
    "#Checking the information of leads data set\n",
    "leads.info()"
   ]
  },
  {
   "cell_type": "code",
   "execution_count": 375,
   "metadata": {},
   "outputs": [
    {
     "data": {
      "text/plain": [
       "Prospect ID                               1.78\n",
       "Converted                                 1.78\n",
       "Conversion_Prob                           1.78\n",
       "Final_Predicted                           1.78\n",
       "Total Time Spent on Website               1.78\n",
       "Through Recommendations                   1.78\n",
       "Lead Source_Direct Traffic                1.78\n",
       "Lead Source_Google                        1.78\n",
       "Lead Source_Organic Search                1.78\n",
       "Lead Source_Reference                     1.78\n",
       "Lead Source_Referral Sites                1.78\n",
       "Lead Source_Welingak Website              1.78\n",
       "Last Activity_Email Bounced               1.78\n",
       "Last Activity_Had a Phone Conversation    1.78\n",
       "Last Activity_Olark Chat Conversation     1.78\n",
       "Last Notable Activity_Email Bounced       1.78\n",
       "Last Notable Activity_SMS Sent            1.78\n",
       "Last Notable Activity_Unreachable         1.78\n",
       "dtype: float64"
      ]
     },
     "execution_count": 375,
     "metadata": {},
     "output_type": "execute_result"
    }
   ],
   "source": [
    "# Checking the column-wise null percentages here\n",
    "\n",
    "round(100*(leads.isnull().sum()/len(leads.index)),2)"
   ]
  },
  {
   "cell_type": "code",
   "execution_count": 376,
   "metadata": {},
   "outputs": [
    {
     "data": {
      "text/plain": [
       "9074"
      ]
     },
     "execution_count": 376,
     "metadata": {},
     "output_type": "execute_result"
    }
   ],
   "source": [
    "len(leads[leads['Prospect ID'].isnull()==False])"
   ]
  },
  {
   "cell_type": "code",
   "execution_count": 377,
   "metadata": {},
   "outputs": [],
   "source": [
    "leads.sort_values('Conversion_Prob',ascending=True,inplace = True, na_position ='last')"
   ]
  },
  {
   "cell_type": "code",
   "execution_count": 378,
   "metadata": {},
   "outputs": [
    {
     "name": "stdout",
     "output_type": "stream",
     "text": [
      "<class 'pandas.core.frame.DataFrame'>\n",
      "Int64Index: 9238 entries, 3948 to 9239\n",
      "Data columns (total 18 columns):\n",
      "Prospect ID                               9074 non-null object\n",
      "Converted                                 9074 non-null float64\n",
      "Conversion_Prob                           9074 non-null float64\n",
      "Final_Predicted                           9074 non-null float64\n",
      "Total Time Spent on Website               9074 non-null float64\n",
      "Through Recommendations                   9074 non-null float64\n",
      "Lead Source_Direct Traffic                9074 non-null float64\n",
      "Lead Source_Google                        9074 non-null float64\n",
      "Lead Source_Organic Search                9074 non-null float64\n",
      "Lead Source_Reference                     9074 non-null float64\n",
      "Lead Source_Referral Sites                9074 non-null float64\n",
      "Lead Source_Welingak Website              9074 non-null float64\n",
      "Last Activity_Email Bounced               9074 non-null float64\n",
      "Last Activity_Had a Phone Conversation    9074 non-null float64\n",
      "Last Activity_Olark Chat Conversation     9074 non-null float64\n",
      "Last Notable Activity_Email Bounced       9074 non-null float64\n",
      "Last Notable Activity_SMS Sent            9074 non-null float64\n",
      "Last Notable Activity_Unreachable         9074 non-null float64\n",
      "dtypes: float64(17), object(1)\n",
      "memory usage: 1.3+ MB\n"
     ]
    }
   ],
   "source": [
    "#Checking the information of leads data set\n",
    "leads.info()"
   ]
  },
  {
   "cell_type": "code",
   "execution_count": 379,
   "metadata": {},
   "outputs": [
    {
     "data": {
      "text/plain": [
       "Prospect ID                               1.78\n",
       "Converted                                 1.78\n",
       "Conversion_Prob                           1.78\n",
       "Final_Predicted                           1.78\n",
       "Total Time Spent on Website               1.78\n",
       "Through Recommendations                   1.78\n",
       "Lead Source_Direct Traffic                1.78\n",
       "Lead Source_Google                        1.78\n",
       "Lead Source_Organic Search                1.78\n",
       "Lead Source_Reference                     1.78\n",
       "Lead Source_Referral Sites                1.78\n",
       "Lead Source_Welingak Website              1.78\n",
       "Last Activity_Email Bounced               1.78\n",
       "Last Activity_Had a Phone Conversation    1.78\n",
       "Last Activity_Olark Chat Conversation     1.78\n",
       "Last Notable Activity_Email Bounced       1.78\n",
       "Last Notable Activity_SMS Sent            1.78\n",
       "Last Notable Activity_Unreachable         1.78\n",
       "dtype: float64"
      ]
     },
     "execution_count": 379,
     "metadata": {},
     "output_type": "execute_result"
    }
   ],
   "source": [
    "# Checking the column-wise null percentages here\n",
    "\n",
    "round(100*(leads.isnull().sum()/len(leads.index)),2)"
   ]
  },
  {
   "cell_type": "code",
   "execution_count": 380,
   "metadata": {},
   "outputs": [],
   "source": [
    "#Deleting the rows with no prospect ids\n",
    "leads.dropna(axis=0, how ='any',inplace=True)"
   ]
  },
  {
   "cell_type": "code",
   "execution_count": 381,
   "metadata": {},
   "outputs": [
    {
     "data": {
      "text/plain": [
       "Prospect ID                               0.0\n",
       "Converted                                 0.0\n",
       "Conversion_Prob                           0.0\n",
       "Final_Predicted                           0.0\n",
       "Total Time Spent on Website               0.0\n",
       "Through Recommendations                   0.0\n",
       "Lead Source_Direct Traffic                0.0\n",
       "Lead Source_Google                        0.0\n",
       "Lead Source_Organic Search                0.0\n",
       "Lead Source_Reference                     0.0\n",
       "Lead Source_Referral Sites                0.0\n",
       "Lead Source_Welingak Website              0.0\n",
       "Last Activity_Email Bounced               0.0\n",
       "Last Activity_Had a Phone Conversation    0.0\n",
       "Last Activity_Olark Chat Conversation     0.0\n",
       "Last Notable Activity_Email Bounced       0.0\n",
       "Last Notable Activity_SMS Sent            0.0\n",
       "Last Notable Activity_Unreachable         0.0\n",
       "dtype: float64"
      ]
     },
     "execution_count": 381,
     "metadata": {},
     "output_type": "execute_result"
    }
   ],
   "source": [
    "# Checking the column-wise null percentages here\n",
    "\n",
    "round(100*(leads.isnull().sum()/len(leads.index)),2)"
   ]
  },
  {
   "cell_type": "code",
   "execution_count": 382,
   "metadata": {},
   "outputs": [
    {
     "name": "stdout",
     "output_type": "stream",
     "text": [
      "<class 'pandas.core.frame.DataFrame'>\n",
      "Int64Index: 8910 entries, 3948 to 7078\n",
      "Data columns (total 18 columns):\n",
      "Prospect ID                               8910 non-null object\n",
      "Converted                                 8910 non-null float64\n",
      "Conversion_Prob                           8910 non-null float64\n",
      "Final_Predicted                           8910 non-null float64\n",
      "Total Time Spent on Website               8910 non-null float64\n",
      "Through Recommendations                   8910 non-null float64\n",
      "Lead Source_Direct Traffic                8910 non-null float64\n",
      "Lead Source_Google                        8910 non-null float64\n",
      "Lead Source_Organic Search                8910 non-null float64\n",
      "Lead Source_Reference                     8910 non-null float64\n",
      "Lead Source_Referral Sites                8910 non-null float64\n",
      "Lead Source_Welingak Website              8910 non-null float64\n",
      "Last Activity_Email Bounced               8910 non-null float64\n",
      "Last Activity_Had a Phone Conversation    8910 non-null float64\n",
      "Last Activity_Olark Chat Conversation     8910 non-null float64\n",
      "Last Notable Activity_Email Bounced       8910 non-null float64\n",
      "Last Notable Activity_SMS Sent            8910 non-null float64\n",
      "Last Notable Activity_Unreachable         8910 non-null float64\n",
      "dtypes: float64(17), object(1)\n",
      "memory usage: 1.3+ MB\n"
     ]
    }
   ],
   "source": [
    "leads.info()"
   ]
  },
  {
   "cell_type": "code",
   "execution_count": 383,
   "metadata": {},
   "outputs": [],
   "source": [
    "import math\n",
    "\n",
    "#Creating Score column in the leads data set and assigning Score to each prospect id based on the conversion probability\n",
    "leads['Score']=0\n",
    "div=math.floor((len(leads)/100))\n",
    "for i in range (0,math.ceil(len(leads)/div)):\n",
    "    leads['Score'].iloc[i*div:(i+1)*div]=i\n",
    "    i=i+1"
   ]
  },
  {
   "cell_type": "code",
   "execution_count": 384,
   "metadata": {},
   "outputs": [
    {
     "data": {
      "text/html": [
       "<div>\n",
       "<style scoped>\n",
       "    .dataframe tbody tr th:only-of-type {\n",
       "        vertical-align: middle;\n",
       "    }\n",
       "\n",
       "    .dataframe tbody tr th {\n",
       "        vertical-align: top;\n",
       "    }\n",
       "\n",
       "    .dataframe thead th {\n",
       "        text-align: right;\n",
       "    }\n",
       "</style>\n",
       "<table border=\"1\" class=\"dataframe\">\n",
       "  <thead>\n",
       "    <tr style=\"text-align: right;\">\n",
       "      <th></th>\n",
       "      <th>Prospect ID</th>\n",
       "      <th>Conversion_Prob</th>\n",
       "      <th>Score</th>\n",
       "    </tr>\n",
       "  </thead>\n",
       "  <tbody>\n",
       "    <tr>\n",
       "      <th>3948</th>\n",
       "      <td>889c23c8-84d0-4936-97ad-7b438dc2e2d7</td>\n",
       "      <td>0.004121</td>\n",
       "      <td>0</td>\n",
       "    </tr>\n",
       "    <tr>\n",
       "      <th>6397</th>\n",
       "      <td>964e5103-abbc-4324-b856-891049533775</td>\n",
       "      <td>0.004247</td>\n",
       "      <td>0</td>\n",
       "    </tr>\n",
       "    <tr>\n",
       "      <th>5361</th>\n",
       "      <td>b660cdb2-57a8-4c3a-8371-8f7520330502</td>\n",
       "      <td>0.004256</td>\n",
       "      <td>0</td>\n",
       "    </tr>\n",
       "    <tr>\n",
       "      <th>6493</th>\n",
       "      <td>60f52b48-f04d-47f4-82c7-24d3bb0848eb</td>\n",
       "      <td>0.004412</td>\n",
       "      <td>0</td>\n",
       "    </tr>\n",
       "    <tr>\n",
       "      <th>6213</th>\n",
       "      <td>5198fa3f-201c-429d-9756-c21539ab6c7a</td>\n",
       "      <td>0.004529</td>\n",
       "      <td>0</td>\n",
       "    </tr>\n",
       "  </tbody>\n",
       "</table>\n",
       "</div>"
      ],
      "text/plain": [
       "                               Prospect ID  Conversion_Prob  Score\n",
       "3948  889c23c8-84d0-4936-97ad-7b438dc2e2d7         0.004121      0\n",
       "6397  964e5103-abbc-4324-b856-891049533775         0.004247      0\n",
       "5361  b660cdb2-57a8-4c3a-8371-8f7520330502         0.004256      0\n",
       "6493  60f52b48-f04d-47f4-82c7-24d3bb0848eb         0.004412      0\n",
       "6213  5198fa3f-201c-429d-9756-c21539ab6c7a         0.004529      0"
      ]
     },
     "execution_count": 384,
     "metadata": {},
     "output_type": "execute_result"
    }
   ],
   "source": [
    "#Checking the head\n",
    "leads[['Prospect ID','Conversion_Prob','Score']].head()"
   ]
  },
  {
   "cell_type": "code",
   "execution_count": 385,
   "metadata": {},
   "outputs": [
    {
     "data": {
      "text/html": [
       "<div>\n",
       "<style scoped>\n",
       "    .dataframe tbody tr th:only-of-type {\n",
       "        vertical-align: middle;\n",
       "    }\n",
       "\n",
       "    .dataframe tbody tr th {\n",
       "        vertical-align: top;\n",
       "    }\n",
       "\n",
       "    .dataframe thead th {\n",
       "        text-align: right;\n",
       "    }\n",
       "</style>\n",
       "<table border=\"1\" class=\"dataframe\">\n",
       "  <thead>\n",
       "    <tr style=\"text-align: right;\">\n",
       "      <th></th>\n",
       "      <th>Prospect ID</th>\n",
       "      <th>Conversion_Prob</th>\n",
       "      <th>Score</th>\n",
       "    </tr>\n",
       "  </thead>\n",
       "  <tbody>\n",
       "    <tr>\n",
       "      <th>2523</th>\n",
       "      <td>597169d6-a4bb-4efb-807b-17b0fd928492</td>\n",
       "      <td>0.997897</td>\n",
       "      <td>100</td>\n",
       "    </tr>\n",
       "    <tr>\n",
       "      <th>7960</th>\n",
       "      <td>bf4a03bc-b747-45a6-a6b5-659afa3bf3ac</td>\n",
       "      <td>0.998441</td>\n",
       "      <td>100</td>\n",
       "    </tr>\n",
       "    <tr>\n",
       "      <th>6118</th>\n",
       "      <td>d34b684a-7d92-4f13-abfb-8a507ce0351c</td>\n",
       "      <td>0.998602</td>\n",
       "      <td>100</td>\n",
       "    </tr>\n",
       "    <tr>\n",
       "      <th>1950</th>\n",
       "      <td>d41b76fd-e215-463c-a9be-6dcfc2440e90</td>\n",
       "      <td>0.998721</td>\n",
       "      <td>100</td>\n",
       "    </tr>\n",
       "    <tr>\n",
       "      <th>7078</th>\n",
       "      <td>ed62264f-7666-4bf9-9cb6-5b9a825f1e67</td>\n",
       "      <td>0.999637</td>\n",
       "      <td>100</td>\n",
       "    </tr>\n",
       "  </tbody>\n",
       "</table>\n",
       "</div>"
      ],
      "text/plain": [
       "                               Prospect ID  Conversion_Prob  Score\n",
       "2523  597169d6-a4bb-4efb-807b-17b0fd928492         0.997897    100\n",
       "7960  bf4a03bc-b747-45a6-a6b5-659afa3bf3ac         0.998441    100\n",
       "6118  d34b684a-7d92-4f13-abfb-8a507ce0351c         0.998602    100\n",
       "1950  d41b76fd-e215-463c-a9be-6dcfc2440e90         0.998721    100\n",
       "7078  ed62264f-7666-4bf9-9cb6-5b9a825f1e67         0.999637    100"
      ]
     },
     "execution_count": 385,
     "metadata": {},
     "output_type": "execute_result"
    }
   ],
   "source": [
    "#Checking the tail\n",
    "leads[['Prospect ID','Conversion_Prob','Score']].tail()"
   ]
  },
  {
   "cell_type": "code",
   "execution_count": 386,
   "metadata": {},
   "outputs": [
    {
     "data": {
      "text/plain": [
       "80.10774968918359"
      ]
     },
     "execution_count": 386,
     "metadata": {},
     "output_type": "execute_result"
    }
   ],
   "source": [
    "#Checking the lead score to achieve 80% conversion rate\n",
    "leads_80=leads.loc[leads['Score']>=73]\n",
    "conversion_rate = (sum(leads_80['Converted'])/len(leads_80['Converted'].index))*100\n",
    "conversion_rate"
   ]
  },
  {
   "cell_type": "markdown",
   "metadata": {},
   "source": [
    "#### From the above analysis we can conclude that to achieve 80% conversion rate the sales team of X Education company has to focus on the leads with score greater than equal to 73"
   ]
  },
  {
   "cell_type": "code",
   "execution_count": null,
   "metadata": {},
   "outputs": [],
   "source": []
  }
 ],
 "metadata": {
  "kernelspec": {
   "display_name": "Python 3",
   "language": "python",
   "name": "python3"
  },
  "language_info": {
   "codemirror_mode": {
    "name": "ipython",
    "version": 3
   },
   "file_extension": ".py",
   "mimetype": "text/x-python",
   "name": "python",
   "nbconvert_exporter": "python",
   "pygments_lexer": "ipython3",
   "version": "3.7.1"
  }
 },
 "nbformat": 4,
 "nbformat_minor": 2
}
